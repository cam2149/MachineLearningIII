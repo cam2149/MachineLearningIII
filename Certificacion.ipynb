{
  "nbformat": 4,
  "nbformat_minor": 0,
  "metadata": {
    "colab": {
      "provenance": [],
      "include_colab_link": true
    },
    "kernelspec": {
      "name": "python3",
      "display_name": "Python 3"
    },
    "language_info": {
      "name": "python"
    }
  },
  "cells": [
    {
      "cell_type": "markdown",
      "metadata": {
        "id": "view-in-github",
        "colab_type": "text"
      },
      "source": [
        "<a href=\"https://colab.research.google.com/github/cam2149/MachineLearningIII/blob/main/Certificacion.ipynb\" target=\"_parent\"><img src=\"https://colab.research.google.com/assets/colab-badge.svg\" alt=\"Open In Colab\"/></a>"
      ]
    },
    {
      "cell_type": "markdown",
      "source": [
        "# Examen Certificación"
      ],
      "metadata": {
        "id": "0XREb7e1TS_m"
      }
    },
    {
      "cell_type": "markdown",
      "source": [
        "Responder las siguientes preguntas 1 a 4 usando el conjunto de datos dado en el enlace (datos).\n",
        "\n",
        "Edad: Representa la edad de cada persona en el conjunto de datos. Es una variable numérica que indica la cantidad de años que ha vivido cada individuo.\n",
        "Puntuación: Se refiere a una puntuación o calificación asociada a cada persona en el conjunto de datos. Puede representar el rendimiento en un examen, la satisfacción en una encuesta, o cualquier otra métrica cuantitativa relevante para el contexto.\n",
        "Ingresos: Indica el ingreso económico de cada persona en el conjunto de datos. Es una medida numérica del dinero que cada individuo gana en un período específico, como mensual o anualmente.\n",
        "Nivel de Educación: Esta variable categoriza el nivel educativo alcanzado por cada persona en el conjunto de datos. Puede incluir categorías como \"Licenciatura\", \"Maestría\", \"Doctorado\", entre otros, representando los diferentes grados académicos obtenidos por los individuos."
      ],
      "metadata": {
        "id": "kwV9TWyNi2AZ"
      }
    },
    {
      "cell_type": "markdown",
      "source": [
        "## datos.data"
      ],
      "metadata": {
        "id": "SPDnMUNJTWJh"
      }
    },
    {
      "cell_type": "code",
      "execution_count": 1,
      "metadata": {
        "colab": {
          "base_uri": "https://localhost:8080/"
        },
        "id": "kqTxRpJQRog8",
        "outputId": "d177c25a-a120-4065-d40a-243b0d61fc23"
      },
      "outputs": [
        {
          "output_type": "stream",
          "name": "stdout",
          "text": [
            "Error: 'datos.data' file not found.\n"
          ]
        }
      ],
      "source": [
        "# prompt: cargar datos.data\n",
        "\n",
        "import pandas as pd\n",
        "\n",
        "# Assuming 'datos.data' is a CSV file.  Adjust the separator (sep) if needed.\n",
        "# For other file types (e.g., Excel), use the appropriate pandas read function.\n",
        "try:\n",
        "  df = pd.read_csv('datos.data', sep=',') # Replace ',' with the correct separator if needed\n",
        "  print(df.head()) # Display the first few rows to verify\n",
        "except FileNotFoundError:\n",
        "  print(\"Error: 'datos.data' file not found.\")\n",
        "except pd.errors.ParserError:\n",
        "  print(\"Error: Could not parse the file. Check the file format and separator.\")"
      ]
    },
    {
      "cell_type": "code",
      "source": [
        "df.Edad.mean()"
      ],
      "metadata": {
        "colab": {
          "base_uri": "https://localhost:8080/"
        },
        "id": "ekyXkINgSbKk",
        "outputId": "32da636b-99f1-41ff-b7e6-7d0264f5510e"
      },
      "execution_count": null,
      "outputs": [
        {
          "output_type": "execute_result",
          "data": {
            "text/plain": [
              "35.5"
            ]
          },
          "metadata": {},
          "execution_count": 2
        }
      ]
    },
    {
      "cell_type": "code",
      "source": [
        "df.Puntuacion.min()"
      ],
      "metadata": {
        "colab": {
          "base_uri": "https://localhost:8080/"
        },
        "id": "NClJgaFJSl6q",
        "outputId": "072d1cbe-d501-4581-cfae-2464c8ad89bf"
      },
      "execution_count": null,
      "outputs": [
        {
          "output_type": "execute_result",
          "data": {
            "text/plain": [
              "68"
            ]
          },
          "metadata": {},
          "execution_count": 3
        }
      ]
    },
    {
      "cell_type": "code",
      "source": [
        "df.loc[df.Puntuacion >= 80].count()"
      ],
      "metadata": {
        "colab": {
          "base_uri": "https://localhost:8080/",
          "height": 209
        },
        "id": "7QQ75IoTSvYF",
        "outputId": "90fc2ab7-ea47-4f83-ce43-34fa832170bc"
      },
      "execution_count": null,
      "outputs": [
        {
          "output_type": "execute_result",
          "data": {
            "text/plain": [
              "Edad                  11\n",
              "Puntuacion            11\n",
              "Ingresos              11\n",
              "Nivel_de_Educacion    11\n",
              "dtype: int64"
            ],
            "text/html": [
              "<div>\n",
              "<style scoped>\n",
              "    .dataframe tbody tr th:only-of-type {\n",
              "        vertical-align: middle;\n",
              "    }\n",
              "\n",
              "    .dataframe tbody tr th {\n",
              "        vertical-align: top;\n",
              "    }\n",
              "\n",
              "    .dataframe thead th {\n",
              "        text-align: right;\n",
              "    }\n",
              "</style>\n",
              "<table border=\"1\" class=\"dataframe\">\n",
              "  <thead>\n",
              "    <tr style=\"text-align: right;\">\n",
              "      <th></th>\n",
              "      <th>0</th>\n",
              "    </tr>\n",
              "  </thead>\n",
              "  <tbody>\n",
              "    <tr>\n",
              "      <th>Edad</th>\n",
              "      <td>11</td>\n",
              "    </tr>\n",
              "    <tr>\n",
              "      <th>Puntuacion</th>\n",
              "      <td>11</td>\n",
              "    </tr>\n",
              "    <tr>\n",
              "      <th>Ingresos</th>\n",
              "      <td>11</td>\n",
              "    </tr>\n",
              "    <tr>\n",
              "      <th>Nivel_de_Educacion</th>\n",
              "      <td>11</td>\n",
              "    </tr>\n",
              "  </tbody>\n",
              "</table>\n",
              "</div><br><label><b>dtype:</b> int64</label>"
            ]
          },
          "metadata": {},
          "execution_count": 8
        }
      ]
    },
    {
      "cell_type": "code",
      "source": [
        "df.Nivel_de_Educacion.value_counts()"
      ],
      "metadata": {
        "colab": {
          "base_uri": "https://localhost:8080/",
          "height": 209
        },
        "id": "ufAc7uFeTFFd",
        "outputId": "8a766e3b-7753-4284-959b-15a1a1af2884"
      },
      "execution_count": null,
      "outputs": [
        {
          "output_type": "execute_result",
          "data": {
            "text/plain": [
              "Nivel_de_Educacion\n",
              "Licenciatura    8\n",
              "Maestría        6\n",
              "Doctorado       6\n",
              "Name: count, dtype: int64"
            ],
            "text/html": [
              "<div>\n",
              "<style scoped>\n",
              "    .dataframe tbody tr th:only-of-type {\n",
              "        vertical-align: middle;\n",
              "    }\n",
              "\n",
              "    .dataframe tbody tr th {\n",
              "        vertical-align: top;\n",
              "    }\n",
              "\n",
              "    .dataframe thead th {\n",
              "        text-align: right;\n",
              "    }\n",
              "</style>\n",
              "<table border=\"1\" class=\"dataframe\">\n",
              "  <thead>\n",
              "    <tr style=\"text-align: right;\">\n",
              "      <th></th>\n",
              "      <th>count</th>\n",
              "    </tr>\n",
              "    <tr>\n",
              "      <th>Nivel_de_Educacion</th>\n",
              "      <th></th>\n",
              "    </tr>\n",
              "  </thead>\n",
              "  <tbody>\n",
              "    <tr>\n",
              "      <th>Licenciatura</th>\n",
              "      <td>8</td>\n",
              "    </tr>\n",
              "    <tr>\n",
              "      <th>Maestría</th>\n",
              "      <td>6</td>\n",
              "    </tr>\n",
              "    <tr>\n",
              "      <th>Doctorado</th>\n",
              "      <td>6</td>\n",
              "    </tr>\n",
              "  </tbody>\n",
              "</table>\n",
              "</div><br><label><b>dtype:</b> int64</label>"
            ]
          },
          "metadata": {},
          "execution_count": 9
        }
      ]
    },
    {
      "cell_type": "markdown",
      "source": [
        "## predicciones_scores.data"
      ],
      "metadata": {
        "id": "dwqyYZJlTZrs"
      }
    },
    {
      "cell_type": "code",
      "source": [
        "# prompt: leer predicciones_scores.data\n",
        "\n",
        "import pandas as pd\n",
        "\n",
        "# Assuming 'predicciones_score.data' is a CSV file. Adjust the separator (sep) if needed.\n",
        "try:\n",
        "    df = pd.read_csv('predicciones_scores.data', sep=',')  # Replace ',' with the correct separator if needed\n",
        "    print(df.head())  # Display the first few rows to verify\n",
        "except FileNotFoundError:\n",
        "    print(\"Error: 'predicciones_score.data' file not found.\")\n",
        "except pd.errors.ParserError:\n",
        "    print(\"Error: Could not parse the file. Check the file format and separator.\")"
      ],
      "metadata": {
        "colab": {
          "base_uri": "https://localhost:8080/"
        },
        "id": "e-9Sic_eTZkM",
        "outputId": "36516a8d-4c41-491e-cf56-20b9ea66a88d"
      },
      "execution_count": null,
      "outputs": [
        {
          "output_type": "stream",
          "name": "stdout",
          "text": [
            "   Real_Label  Predicted_Score  Predicted_label\n",
            "0           0         0.156098                0\n",
            "1           0         0.433585                0\n",
            "2           1         0.957655                1\n",
            "3           0         0.281928                0\n",
            "4           0         0.336131                0\n"
          ]
        }
      ]
    },
    {
      "cell_type": "code",
      "source": [
        "# prompt: graficar la curva ROC con los datos de df\n",
        "\n",
        "import matplotlib.pyplot as plt\n",
        "from sklearn.metrics import roc_curve, auc\n",
        "\n",
        "# Assuming 'df' contains 'y_true' (actual labels) and 'y_score' (predicted probabilities)\n",
        "# Replace 'y_true' and 'y_score' with the actual column names in your DataFrame\n",
        "\n",
        "try:\n",
        "    fpr, tpr, thresholds = roc_curve(df['Real_Label'], df['Predicted_Score']) # Replace with your column names\n",
        "    roc_auc = auc(fpr, tpr)\n",
        "\n",
        "    plt.figure()\n",
        "    plt.plot(fpr, tpr, color='blue', lw=2, label='ROC curve (area = %0.2f)' % roc_auc)\n",
        "    plt.plot([0, 1], [0, 1], color='grey', lw=2, linestyle='--')\n",
        "    plt.xlim([0.0, 1.0])\n",
        "    plt.ylim([0.0, 1.05])\n",
        "    plt.xlabel('False Positive Rate')\n",
        "    plt.ylabel('True Positive Rate')\n",
        "    plt.title('Receiver Operating Characteristic')\n",
        "    plt.legend(loc=\"lower right\")\n",
        "    plt.show()\n",
        "\n",
        "except KeyError as e:\n",
        "    print(f\"Error: Column '{e}' not found in the DataFrame. Make sure 'y_true' and 'y_score' columns exist.\")\n",
        "except Exception as e:\n",
        "    print(f\"An unexpected error occurred: {e}\")"
      ],
      "metadata": {
        "colab": {
          "base_uri": "https://localhost:8080/",
          "height": 472
        },
        "id": "kkvhNjG3T5YM",
        "outputId": "86bb4a87-9f2c-4fbe-c6d6-76427fc4467e"
      },
      "execution_count": null,
      "outputs": [
        {
          "output_type": "display_data",
          "data": {
            "text/plain": [
              "<Figure size 640x480 with 1 Axes>"
            ],
            "image/png": "[encoded data removed]"
          },
          "metadata": {}
        }
      ]
    },
    {
      "cell_type": "code",
      "source": [
        "# prompt: calcular accuracy con los datos de df\n",
        "\n",
        "from sklearn.metrics import accuracy_score\n",
        "\n",
        "# Assuming 'df' contains 'Real_Label' (true labels) and a column with predicted labels\n",
        "# Replace 'Predicted_Label' with the actual column name in your DataFrame\n",
        "try:\n",
        "    accuracy = accuracy_score(df['Real_Label'], df['Predicted_label'])\n",
        "    print(f\"Accuracy: {accuracy}\")\n",
        "except KeyError as e:\n",
        "    print(f\"Error: Column '{e}' not found in the DataFrame. Make sure 'Real_Label' and 'Predicted_Label' columns exist.\")\n",
        "except Exception as e:\n",
        "    print(f\"An unexpected error occurred: {e}\")"
      ],
      "metadata": {
        "colab": {
          "base_uri": "https://localhost:8080/"
        },
        "id": "vxFhm4J0UZ7A",
        "outputId": "de8ea5a7-4111-4966-d4a8-467fe25e1ac3"
      },
      "execution_count": null,
      "outputs": [
        {
          "output_type": "stream",
          "name": "stdout",
          "text": [
            "Accuracy: 0.8\n"
          ]
        }
      ]
    },
    {
      "cell_type": "code",
      "source": [
        "# prompt: calcular la metrica precision del df\n",
        "\n",
        "from sklearn.metrics import precision_score\n",
        "\n",
        "# Assuming 'df' contains 'Real_Label' (true labels) and 'Predicted_label' (predicted labels)\n",
        "try:\n",
        "    precision = precision_score(df['Real_Label'], df['Predicted_label'])\n",
        "    print(f\"Precision: {precision}\")\n",
        "except KeyError as e:\n",
        "    print(f\"Error: Column '{e}' not found in the DataFrame. Make sure 'Real_Label' and 'Predicted_label' columns exist.\")\n",
        "except Exception as e:\n",
        "    print(f\"An unexpected error occurred: {e}\")"
      ],
      "metadata": {
        "colab": {
          "base_uri": "https://localhost:8080/"
        },
        "id": "wXATAiOWVC6l",
        "outputId": "bb83ef70-e3a2-4ea7-c8e4-1c24472e8435"
      },
      "execution_count": null,
      "outputs": [
        {
          "output_type": "stream",
          "name": "stdout",
          "text": [
            "Precision: 0.8936170212765957\n"
          ]
        }
      ]
    },
    {
      "cell_type": "code",
      "source": [
        "# prompt: calcular recall del df\n",
        "\n",
        "from sklearn.metrics import recall_score\n",
        "\n",
        "# Assuming 'df' contains 'Real_Label' (true labels) and 'Predicted_label' (predicted labels)\n",
        "try:\n",
        "    recall = recall_score(df['Real_Label'], df['Predicted_label'])\n",
        "    print(f\"Recall: {recall}\")\n",
        "except KeyError as e:\n",
        "    print(f\"Error: Column '{e}' not found in the DataFrame. Make sure 'Real_Label' and 'Predicted_label' columns exist.\")\n",
        "except Exception as e:\n",
        "    print(f\"An unexpected error occurred: {e}\")"
      ],
      "metadata": {
        "colab": {
          "base_uri": "https://localhost:8080/"
        },
        "id": "tjykNDEzV2-8",
        "outputId": "52bc6757-9c73-49b2-8263-7beb3220dce2"
      },
      "execution_count": null,
      "outputs": [
        {
          "output_type": "stream",
          "name": "stdout",
          "text": [
            "Recall: 0.6268656716417911\n"
          ]
        }
      ]
    },
    {
      "cell_type": "code",
      "source": [
        "# prompt: calcular especificidad del df\n",
        "\n",
        "# Assuming 'df' contains 'Real_Label' (true labels) and 'Predicted_label' (predicted labels)\n",
        "from sklearn.metrics import confusion_matrix\n",
        "\n",
        "try:\n",
        "    tn, fp, fn, tp = confusion_matrix(df['Real_Label'], df['Predicted_label']).ravel()\n",
        "    specificity = tn / (tn + fp)\n",
        "    print(f\"Specificity: {specificity}\")\n",
        "except KeyError as e:\n",
        "    print(f\"Error: Column '{e}' not found in the DataFrame. Make sure 'Real_Label' and 'Predicted_label' columns exist.\")\n",
        "except Exception as e:\n",
        "    print(f\"An unexpected error occurred: {e}\")"
      ],
      "metadata": {
        "colab": {
          "base_uri": "https://localhost:8080/"
        },
        "id": "nvEiiYyBWvam",
        "outputId": "2eba6413-8ba0-433d-9058-8c876530bf36"
      },
      "execution_count": null,
      "outputs": [
        {
          "output_type": "stream",
          "name": "stdout",
          "text": [
            "Specificity: 0.9397590361445783\n"
          ]
        }
      ]
    },
    {
      "cell_type": "code",
      "source": [
        "fn > fp"
      ],
      "metadata": {
        "colab": {
          "base_uri": "https://localhost:8080/"
        },
        "id": "gj-t2uCWXfT0",
        "outputId": "a0e0c486-1e41-4b9c-fe9d-7dbc53ef6f07"
      },
      "execution_count": null,
      "outputs": [
        {
          "output_type": "execute_result",
          "data": {
            "text/plain": [
              "True"
            ]
          },
          "metadata": {},
          "execution_count": 19
        }
      ]
    },
    {
      "cell_type": "markdown",
      "source": [
        "## data1.data"
      ],
      "metadata": {
        "id": "bwYWIN7zJHAN"
      }
    },
    {
      "cell_type": "code",
      "source": [
        "# prompt: cargar data1.data\n",
        "import pandas as pd\n",
        "try:\n",
        "    df_data1 = pd.read_csv('data1.data', sep=',') # Replace ',' with the correct separator if needed\n",
        "    print(df_data1.shape) # Display the first few rows to verify\n",
        "except FileNotFoundError:\n",
        "    print(\"Error: 'data1.data' file not found.\")\n",
        "except pd.errors.ParserError:\n",
        "    print(\"Error: Could not parse the file. Check the file format and separator.\")"
      ],
      "metadata": {
        "id": "-D3YlocwI8Tf",
        "colab": {
          "base_uri": "https://localhost:8080/"
        },
        "outputId": "f0bd2539-86da-433e-c56d-01ba382595ab"
      },
      "execution_count": null,
      "outputs": [
        {
          "output_type": "stream",
          "name": "stdout",
          "text": [
            "(500, 4)\n"
          ]
        }
      ]
    },
    {
      "cell_type": "code",
      "source": [
        "df_data1.describe()"
      ],
      "metadata": {
        "colab": {
          "base_uri": "https://localhost:8080/",
          "height": 300
        },
        "id": "jdYeasRfKEy5",
        "outputId": "b61456fa-4d82-4d68-fcf3-624f02d3fcf4"
      },
      "execution_count": null,
      "outputs": [
        {
          "output_type": "execute_result",
          "data": {
            "text/plain": [
              "         Feature1    Feature2    Feature3    Feature4\n",
              "count  500.000000  500.000000  500.000000  500.000000\n",
              "mean    -0.903704    0.275838   -4.267405    1.680078\n",
              "std      4.903881    6.106322    5.396407    6.261005\n",
              "min     -9.530597   -8.684992  -11.535214   -9.253260\n",
              "25%     -4.561336   -5.906155   -8.859523   -4.567718\n",
              "50%     -2.427772    0.661850   -6.324553    2.007162\n",
              "75%      2.821811    5.052406   -0.647737    7.823278\n",
              "max      8.968182   12.867018    6.829682   11.853497"
            ],
            "text/html": [
              "\n",
              "  <div id=\"df-14a72545-962a-4eaf-baf1-1b1bf8432ca0\" class=\"colab-df-container\">\n",
              "    <div>\n",
              "<style scoped>\n",
              "    .dataframe tbody tr th:only-of-type {\n",
              "        vertical-align: middle;\n",
              "    }\n",
              "\n",
              "    .dataframe tbody tr th {\n",
              "        vertical-align: top;\n",
              "    }\n",
              "\n",
              "    .dataframe thead th {\n",
              "        text-align: right;\n",
              "    }\n",
              "</style>\n",
              "<table border=\"1\" class=\"dataframe\">\n",
              "  <thead>\n",
              "    <tr style=\"text-align: right;\">\n",
              "      <th></th>\n",
              "      <th>Feature1</th>\n",
              "      <th>Feature2</th>\n",
              "      <th>Feature3</th>\n",
              "      <th>Feature4</th>\n",
              "    </tr>\n",
              "  </thead>\n",
              "  <tbody>\n",
              "    <tr>\n",
              "      <th>count</th>\n",
              "      <td>500.000000</td>\n",
              "      <td>500.000000</td>\n",
              "      <td>500.000000</td>\n",
              "      <td>500.000000</td>\n",
              "    </tr>\n",
              "    <tr>\n",
              "      <th>mean</th>\n",
              "      <td>-0.903704</td>\n",
              "      <td>0.275838</td>\n",
              "      <td>-4.267405</td>\n",
              "      <td>1.680078</td>\n",
              "    </tr>\n",
              "    <tr>\n",
              "      <th>std</th>\n",
              "      <td>4.903881</td>\n",
              "      <td>6.106322</td>\n",
              "      <td>5.396407</td>\n",
              "      <td>6.261005</td>\n",
              "    </tr>\n",
              "    <tr>\n",
              "      <th>min</th>\n",
              "      <td>-9.530597</td>\n",
              "      <td>-8.684992</td>\n",
              "      <td>-11.535214</td>\n",
              "      <td>-9.253260</td>\n",
              "    </tr>\n",
              "    <tr>\n",
              "      <th>25%</th>\n",
              "      <td>-4.561336</td>\n",
              "      <td>-5.906155</td>\n",
              "      <td>-8.859523</td>\n",
              "      <td>-4.567718</td>\n",
              "    </tr>\n",
              "    <tr>\n",
              "      <th>50%</th>\n",
              "      <td>-2.427772</td>\n",
              "      <td>0.661850</td>\n",
              "      <td>-6.324553</td>\n",
              "      <td>2.007162</td>\n",
              "    </tr>\n",
              "    <tr>\n",
              "      <th>75%</th>\n",
              "      <td>2.821811</td>\n",
              "      <td>5.052406</td>\n",
              "      <td>-0.647737</td>\n",
              "      <td>7.823278</td>\n",
              "    </tr>\n",
              "    <tr>\n",
              "      <th>max</th>\n",
              "      <td>8.968182</td>\n",
              "      <td>12.867018</td>\n",
              "      <td>6.829682</td>\n",
              "      <td>11.853497</td>\n",
              "    </tr>\n",
              "  </tbody>\n",
              "</table>\n",
              "</div>\n",
              "    <div class=\"colab-df-buttons\">\n",
              "\n",
              "  <div class=\"colab-df-container\">\n",
              "    <button class=\"colab-df-convert\" onclick=\"convertToInteractive('df-14a72545-962a-4eaf-baf1-1b1bf8432ca0')\"\n",
              "            title=\"Convert this dataframe to an interactive table.\"\n",
              "            style=\"display:none;\">\n",
              "\n",
              "  <svg xmlns=\"http://www.w3.org/2000/svg\" height=\"24px\" viewBox=\"0 -960 960 960\">\n",
              "    <path d=\"M120-120v-720h720v720H120Zm60-500h600v-160H180v160Zm220 220h160v-160H400v160Zm0 220h160v-160H400v160ZM180-400h160v-160H180v160Zm440 0h160v-160H620v160ZM180-180h160v-160H180v160Zm440 0h160v-160H620v160Z\"/>\n",
              "  </svg>\n",
              "    </button>\n",
              "\n",
              "  <style>\n",
              "    .colab-df-container {\n",
              "      display:flex;\n",
              "      gap: 12px;\n",
              "    }\n",
              "\n",
              "    .colab-df-convert {\n",
              "      background-color: #E8F0FE;\n",
              "      border: none;\n",
              "      border-radius: 50%;\n",
              "      cursor: pointer;\n",
              "      display: none;\n",
              "      fill: #1967D2;\n",
              "      height: 32px;\n",
              "      padding: 0 0 0 0;\n",
              "      width: 32px;\n",
              "    }\n",
              "\n",
              "    .colab-df-convert:hover {\n",
              "      background-color: #E2EBFA;\n",
              "      box-shadow: 0px 1px 2px rgba(60, 64, 67, 0.3), 0px 1px 3px 1px rgba(60, 64, 67, 0.15);\n",
              "      fill: #174EA6;\n",
              "    }\n",
              "\n",
              "    .colab-df-buttons div {\n",
              "      margin-bottom: 4px;\n",
              "    }\n",
              "\n",
              "    [theme=dark] .colab-df-convert {\n",
              "      background-color: #3B4455;\n",
              "      fill: #D2E3FC;\n",
              "    }\n",
              "\n",
              "    [theme=dark] .colab-df-convert:hover {\n",
              "      background-color: #434B5C;\n",
              "      box-shadow: 0px 1px 3px 1px rgba(0, 0, 0, 0.15);\n",
              "      filter: drop-shadow(0px 1px 2px rgba(0, 0, 0, 0.3));\n",
              "      fill: #FFFFFF;\n",
              "    }\n",
              "  </style>\n",
              "\n",
              "    <script>\n",
              "      const buttonEl =\n",
              "        document.querySelector('#df-14a72545-962a-4eaf-baf1-1b1bf8432ca0 button.colab-df-convert');\n",
              "      buttonEl.style.display =\n",
              "        google.colab.kernel.accessAllowed ? 'block' : 'none';\n",
              "\n",
              "      async function convertToInteractive(key) {\n",
              "        const element = document.querySelector('#df-14a72545-962a-4eaf-baf1-1b1bf8432ca0');\n",
              "        const dataTable =\n",
              "          await google.colab.kernel.invokeFunction('convertToInteractive',\n",
              "                                                    [key], {});\n",
              "        if (!dataTable) return;\n",
              "\n",
              "        const docLinkHtml = 'Like what you see? Visit the ' +\n",
              "          '<a target=\"_blank\" href=https://colab.research.google.com/notebooks/data_table.ipynb>data table notebook</a>'\n",
              "          + ' to learn more about interactive tables.';\n",
              "        element.innerHTML = '';\n",
              "        dataTable['output_type'] = 'display_data';\n",
              "        await google.colab.output.renderOutput(dataTable, element);\n",
              "        const docLink = document.createElement('div');\n",
              "        docLink.innerHTML = docLinkHtml;\n",
              "        element.appendChild(docLink);\n",
              "      }\n",
              "    </script>\n",
              "  </div>\n",
              "\n",
              "\n",
              "<div id=\"df-8e79efd0-3948-41a5-8e67-5a89cc2d38f0\">\n",
              "  <button class=\"colab-df-quickchart\" onclick=\"quickchart('df-8e79efd0-3948-41a5-8e67-5a89cc2d38f0')\"\n",
              "            title=\"Suggest charts\"\n",
              "            style=\"display:none;\">\n",
              "\n",
              "<svg xmlns=\"http://www.w3.org/2000/svg\" height=\"24px\"viewBox=\"0 0 24 24\"\n",
              "     width=\"24px\">\n",
              "    <g>\n",
              "        <path d=\"M19 3H5c-1.1 0-2 .9-2 2v14c0 1.1.9 2 2 2h14c1.1 0 2-.9 2-2V5c0-1.1-.9-2-2-2zM9 17H7v-7h2v7zm4 0h-2V7h2v10zm4 0h-2v-4h2v4z\"/>\n",
              "    </g>\n",
              "</svg>\n",
              "  </button>\n",
              "\n",
              "<style>\n",
              "  .colab-df-quickchart {\n",
              "      --bg-color: #E8F0FE;\n",
              "      --fill-color: #1967D2;\n",
              "      --hover-bg-color: #E2EBFA;\n",
              "      --hover-fill-color: #174EA6;\n",
              "      --disabled-fill-color: #AAA;\n",
              "      --disabled-bg-color: #DDD;\n",
              "  }\n",
              "\n",
              "  [theme=dark] .colab-df-quickchart {\n",
              "      --bg-color: #3B4455;\n",
              "      --fill-color: #D2E3FC;\n",
              "      --hover-bg-color: #434B5C;\n",
              "      --hover-fill-color: #FFFFFF;\n",
              "      --disabled-bg-color: #3B4455;\n",
              "      --disabled-fill-color: #666;\n",
              "  }\n",
              "\n",
              "  .colab-df-quickchart {\n",
              "    background-color: var(--bg-color);\n",
              "    border: none;\n",
              "    border-radius: 50%;\n",
              "    cursor: pointer;\n",
              "    display: none;\n",
              "    fill: var(--fill-color);\n",
              "    height: 32px;\n",
              "    padding: 0;\n",
              "    width: 32px;\n",
              "  }\n",
              "\n",
              "  .colab-df-quickchart:hover {\n",
              "    background-color: var(--hover-bg-color);\n",
              "    box-shadow: 0 1px 2px rgba(60, 64, 67, 0.3), 0 1px 3px 1px rgba(60, 64, 67, 0.15);\n",
              "    fill: var(--button-hover-fill-color);\n",
              "  }\n",
              "\n",
              "  .colab-df-quickchart-complete:disabled,\n",
              "  .colab-df-quickchart-complete:disabled:hover {\n",
              "    background-color: var(--disabled-bg-color);\n",
              "    fill: var(--disabled-fill-color);\n",
              "    box-shadow: none;\n",
              "  }\n",
              "\n",
              "  .colab-df-spinner {\n",
              "    border: 2px solid var(--fill-color);\n",
              "    border-color: transparent;\n",
              "    border-bottom-color: var(--fill-color);\n",
              "    animation:\n",
              "      spin 1s steps(1) infinite;\n",
              "  }\n",
              "\n",
              "  @keyframes spin {\n",
              "    0% {\n",
              "      border-color: transparent;\n",
              "      border-bottom-color: var(--fill-color);\n",
              "      border-left-color: var(--fill-color);\n",
              "    }\n",
              "    20% {\n",
              "      border-color: transparent;\n",
              "      border-left-color: var(--fill-color);\n",
              "      border-top-color: var(--fill-color);\n",
              "    }\n",
              "    30% {\n",
              "      border-color: transparent;\n",
              "      border-left-color: var(--fill-color);\n",
              "      border-top-color: var(--fill-color);\n",
              "      border-right-color: var(--fill-color);\n",
              "    }\n",
              "    40% {\n",
              "      border-color: transparent;\n",
              "      border-right-color: var(--fill-color);\n",
              "      border-top-color: var(--fill-color);\n",
              "    }\n",
              "    60% {\n",
              "      border-color: transparent;\n",
              "      border-right-color: var(--fill-color);\n",
              "    }\n",
              "    80% {\n",
              "      border-color: transparent;\n",
              "      border-right-color: var(--fill-color);\n",
              "      border-bottom-color: var(--fill-color);\n",
              "    }\n",
              "    90% {\n",
              "      border-color: transparent;\n",
              "      border-bottom-color: var(--fill-color);\n",
              "    }\n",
              "  }\n",
              "</style>\n",
              "\n",
              "  <script>\n",
              "    async function quickchart(key) {\n",
              "      const quickchartButtonEl =\n",
              "        document.querySelector('#' + key + ' button');\n",
              "      quickchartButtonEl.disabled = true;  // To prevent multiple clicks.\n",
              "      quickchartButtonEl.classList.add('colab-df-spinner');\n",
              "      try {\n",
              "        const charts = await google.colab.kernel.invokeFunction(\n",
              "            'suggestCharts', [key], {});\n",
              "      } catch (error) {\n",
              "        console.error('Error during call to suggestCharts:', error);\n",
              "      }\n",
              "      quickchartButtonEl.classList.remove('colab-df-spinner');\n",
              "      quickchartButtonEl.classList.add('colab-df-quickchart-complete');\n",
              "    }\n",
              "    (() => {\n",
              "      let quickchartButtonEl =\n",
              "        document.querySelector('#df-8e79efd0-3948-41a5-8e67-5a89cc2d38f0 button');\n",
              "      quickchartButtonEl.style.display =\n",
              "        google.colab.kernel.accessAllowed ? 'block' : 'none';\n",
              "    })();\n",
              "  </script>\n",
              "</div>\n",
              "\n",
              "    </div>\n",
              "  </div>\n"
            ],
            "application/vnd.google.colaboratory.intrinsic+json": {
              "type": "dataframe",
              "summary": "{\n  \"name\": \"df_data1\",\n  \"rows\": 8,\n  \"fields\": [\n    {\n      \"column\": \"Feature1\",\n      \"properties\": {\n        \"dtype\": \"number\",\n        \"std\": 176.90671997954678,\n        \"min\": -9.530596999544285,\n        \"max\": 500.0,\n        \"num_unique_values\": 8,\n        \"samples\": [\n          -0.9037035518040913,\n          -2.4277718098368015,\n          500.0\n        ],\n        \"semantic_type\": \"\",\n        \"description\": \"\"\n      }\n    },\n    {\n      \"column\": \"Feature2\",\n      \"properties\": {\n        \"dtype\": \"number\",\n        \"std\": 176.38400319815892,\n        \"min\": -8.684991693940466,\n        \"max\": 500.0,\n        \"num_unique_values\": 8,\n        \"samples\": [\n          0.27583768219357363,\n          0.6618500199161438,\n          500.0\n        ],\n        \"semantic_type\": \"\",\n        \"description\": \"\"\n      }\n    },\n    {\n      \"column\": \"Feature3\",\n      \"properties\": {\n        \"dtype\": \"number\",\n        \"std\": 177.87431587559996,\n        \"min\": -11.535214399577582,\n        \"max\": 500.0,\n        \"num_unique_values\": 8,\n        \"samples\": [\n          -4.267404609917998,\n          -6.32455318573882,\n          500.0\n        ],\n        \"semantic_type\": \"\",\n        \"description\": \"\"\n      }\n    },\n    {\n      \"column\": \"Feature4\",\n      \"properties\": {\n        \"dtype\": \"number\",\n        \"std\": 176.1077273011043,\n        \"min\": -9.253260286425933,\n        \"max\": 500.0,\n        \"num_unique_values\": 8,\n        \"samples\": [\n          1.6800779606303444,\n          2.0071619016394826,\n          500.0\n        ],\n        \"semantic_type\": \"\",\n        \"description\": \"\"\n      }\n    }\n  ]\n}"
            }
          },
          "metadata": {},
          "execution_count": 4
        }
      ]
    },
    {
      "cell_type": "code",
      "source": [
        "from sklearn.cluster import KMeans\n",
        "import numpy as np\n",
        "import matplotlib.pyplot as plt\n",
        "\n",
        "inertia = []\n",
        "K = range(1, 10)  # Test k values from 1 to 9\n",
        "for k in K:\n",
        "    kmeanModel = KMeans(n_clusters=k, random_state=0)\n",
        "    kmeanModel.fit(df_data1)\n",
        "    inertia.append(kmeanModel.inertia_)\n",
        "\n",
        "plt.figure(figsize=(10, 5))\n",
        "plt.plot(K, inertia, 'bx-')\n",
        "plt.xlabel('k')\n",
        "plt.ylabel('Inertia')\n",
        "plt.title('Metodo del codo')\n",
        "plt.show()"
      ],
      "metadata": {
        "id": "Tk0pBn2zJQfV",
        "colab": {
          "base_uri": "https://localhost:8080/",
          "height": 487
        },
        "outputId": "69ca9a20-5346-443c-d306-0024d08a2ad1"
      },
      "execution_count": null,
      "outputs": [
        {
          "output_type": "display_data",
          "data": {
            "text/plain": [
              "<Figure size 1000x500 with 1 Axes>"
            ],
            "image/png": "[encoded data removed]"
          },
          "metadata": {}
        }
      ]
    },
    {
      "cell_type": "code",
      "source": [
        "kmeanModel = KMeans(n_clusters=5, random_state=0)\n",
        "kmeanModel.fit(df_data1)\n",
        "y_pred = kmeanModel.predict(df_data1)"
      ],
      "metadata": {
        "id": "1MmuW9MNxcFu"
      },
      "execution_count": null,
      "outputs": []
    },
    {
      "cell_type": "code",
      "source": [
        "from sklearn.decomposition import PCA\n",
        "\n",
        "# PCA\n",
        "pca = PCA(n_components=2)\n",
        "X_pca = pca.fit_transform(df_data1)\n",
        "\n",
        "plt.figure(figsize=(8, 6))\n",
        "plt.scatter(X_pca[:, 0], X_pca[:, 1], c=y_pred, cmap='viridis')\n",
        "plt.title('PCA')\n",
        "plt.xlabel('PC1')\n",
        "plt.ylabel('PC2')\n",
        "plt.show()"
      ],
      "metadata": {
        "id": "Bl93JSy7JlH6",
        "colab": {
          "base_uri": "https://localhost:8080/",
          "height": 564
        },
        "outputId": "d31c1f35-76c1-4ac7-b011-18bca1ddcb90"
      },
      "execution_count": null,
      "outputs": [
        {
          "output_type": "display_data",
          "data": {
            "text/plain": [
              "<Figure size 800x600 with 1 Axes>"
            ],
            "image/png": "[encoded data removed]"
          },
          "metadata": {}
        }
      ]
    }
  ]
}
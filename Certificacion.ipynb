{
  "nbformat": 4,
  "nbformat_minor": 0,
  "metadata": {
    "colab": {
      "provenance": [],
      "include_colab_link": true
    },
    "kernelspec": {
      "name": "python3",
      "display_name": "Python 3"
    },
    "language_info": {
      "name": "python"
    }
  },
  "cells": [
    {
      "cell_type": "markdown",
      "metadata": {
        "id": "view-in-github",
        "colab_type": "text"
      },
      "source": [
        "<a href=\"https://colab.research.google.com/github/cam2149/MachineLearningIII/blob/main/Certificacion.ipynb\" target=\"_parent\"><img src=\"https://colab.research.google.com/assets/colab-badge.svg\" alt=\"Open In Colab\"/></a>"
      ]
    },
    {
      "cell_type": "markdown",
      "source": [
        "# Examen Certificación"
      ],
      "metadata": {
        "id": "0XREb7e1TS_m"
      }
    },
    {
      "cell_type": "markdown",
      "source": [
        "Responder las siguientes preguntas 1 a 4 usando el conjunto de datos dado en el enlace (datos).\n",
        "\n",
        "* Edad: Representa la edad de cada persona en el conjunto de datos. Es una variable numérica que indica la cantidad de años que ha vivido cada individuo.\n",
        "* Puntuación: Se refiere a una puntuación o calificación asociada a cada persona en el conjunto de datos. Puede representar el rendimiento en un examen, la satisfacción en una encuesta, o cualquier otra métrica cuantitativa relevante para el contexto.\n",
        "* Ingresos: Indica el ingreso económico de cada persona en el conjunto de datos. Es una medida numérica del dinero que cada individuo gana en un período específico, como mensual o anualmente.\n",
        "* Nivel de Educación: Esta variable categoriza el nivel educativo alcanzado por cada persona en el conjunto de datos. Puede incluir categorías como \"Licenciatura\", \"Maestría\", \"Doctorado\", entre otros, representando los diferentes grados académicos obtenidos por los individuos."
      ],
      "metadata": {
        "id": "kwV9TWyNi2AZ"
      }
    },
    {
      "cell_type": "markdown",
      "source": [
        "## datos.data"
      ],
      "metadata": {
        "id": "SPDnMUNJTWJh"
      }
    },
    {
      "cell_type": "code",
      "execution_count": 130,
      "metadata": {
        "colab": {
          "base_uri": "https://localhost:8080/"
        },
        "id": "kqTxRpJQRog8",
        "outputId": "2f83d666-4cbf-4491-a2df-2a43ed80829f"
      },
      "outputs": [
        {
          "output_type": "stream",
          "name": "stdout",
          "text": [
            "   Edad  Puntuacion  Ingresos Nivel_de_Educacion\n",
            "0    35          82     50000       Licenciatura\n",
            "1    28          75     45000           Maestría\n",
            "2    42          90     60000          Doctorado\n",
            "3    30          68     48000       Licenciatura\n",
            "4    39          85     55000           Maestría\n"
          ]
        }
      ],
      "source": [
        "from logging import warning\n",
        "#   cargar datos.data\n",
        "\n",
        "import pandas as pd\n",
        "import warnings\n",
        "warnings.filterwarnings('ignore')\n",
        "# Assuming 'datos.data' is a CSV file.  Adjust the separator (sep) if needed.\n",
        "# For other file types (e.g., Excel), use the appropriate pandas read function.\n",
        "url_data = 'https://raw.githubusercontent.com/cam2149/MachineLearningIII/refs/heads/main/datos.data'\n",
        "try:\n",
        "  df = pd.read_csv(url_data, sep=',') # Replace ',' with the correct separator if needed\n",
        "  print(df.head()) # Display the first few rows to verify\n",
        "except FileNotFoundError:\n",
        "  print(\"Error: 'datos.data' file not found.\")\n",
        "except pd.errors.ParserError:\n",
        "  print(\"Error: Could not parse the file. Check the file format and separator.\")"
      ]
    },
    {
      "cell_type": "code",
      "source": [
        "df.describe()"
      ],
      "metadata": {
        "colab": {
          "base_uri": "https://localhost:8080/",
          "height": 300
        },
        "id": "qL9crHGPjbTK",
        "outputId": "d0ece5ca-6749-433b-bae4-303fa4e772df"
      },
      "execution_count": 131,
      "outputs": [
        {
          "output_type": "execute_result",
          "data": {
            "text/plain": [
              "           Edad  Puntuacion      Ingresos\n",
              "count  20.00000   20.000000     20.000000\n",
              "mean   35.50000   80.400000  52950.000000\n",
              "std     5.91608    6.953984   5481.788029\n",
              "min    26.00000   68.000000  44000.000000\n",
              "25%    30.75000   74.750000  48750.000000\n",
              "50%    35.50000   80.500000  52500.000000\n",
              "75%    40.25000   86.250000  57250.000000\n",
              "max    45.00000   91.000000  62000.000000"
            ],
            "text/html": [
              "\n",
              "  <div id=\"df-b903c365-04e4-456d-b000-54b92b140783\" class=\"colab-df-container\">\n",
              "    <div>\n",
              "<style scoped>\n",
              "    .dataframe tbody tr th:only-of-type {\n",
              "        vertical-align: middle;\n",
              "    }\n",
              "\n",
              "    .dataframe tbody tr th {\n",
              "        vertical-align: top;\n",
              "    }\n",
              "\n",
              "    .dataframe thead th {\n",
              "        text-align: right;\n",
              "    }\n",
              "</style>\n",
              "<table border=\"1\" class=\"dataframe\">\n",
              "  <thead>\n",
              "    <tr style=\"text-align: right;\">\n",
              "      <th></th>\n",
              "      <th>Edad</th>\n",
              "      <th>Puntuacion</th>\n",
              "      <th>Ingresos</th>\n",
              "    </tr>\n",
              "  </thead>\n",
              "  <tbody>\n",
              "    <tr>\n",
              "      <th>count</th>\n",
              "      <td>20.00000</td>\n",
              "      <td>20.000000</td>\n",
              "      <td>20.000000</td>\n",
              "    </tr>\n",
              "    <tr>\n",
              "      <th>mean</th>\n",
              "      <td>35.50000</td>\n",
              "      <td>80.400000</td>\n",
              "      <td>52950.000000</td>\n",
              "    </tr>\n",
              "    <tr>\n",
              "      <th>std</th>\n",
              "      <td>5.91608</td>\n",
              "      <td>6.953984</td>\n",
              "      <td>5481.788029</td>\n",
              "    </tr>\n",
              "    <tr>\n",
              "      <th>min</th>\n",
              "      <td>26.00000</td>\n",
              "      <td>68.000000</td>\n",
              "      <td>44000.000000</td>\n",
              "    </tr>\n",
              "    <tr>\n",
              "      <th>25%</th>\n",
              "      <td>30.75000</td>\n",
              "      <td>74.750000</td>\n",
              "      <td>48750.000000</td>\n",
              "    </tr>\n",
              "    <tr>\n",
              "      <th>50%</th>\n",
              "      <td>35.50000</td>\n",
              "      <td>80.500000</td>\n",
              "      <td>52500.000000</td>\n",
              "    </tr>\n",
              "    <tr>\n",
              "      <th>75%</th>\n",
              "      <td>40.25000</td>\n",
              "      <td>86.250000</td>\n",
              "      <td>57250.000000</td>\n",
              "    </tr>\n",
              "    <tr>\n",
              "      <th>max</th>\n",
              "      <td>45.00000</td>\n",
              "      <td>91.000000</td>\n",
              "      <td>62000.000000</td>\n",
              "    </tr>\n",
              "  </tbody>\n",
              "</table>\n",
              "</div>\n",
              "    <div class=\"colab-df-buttons\">\n",
              "\n",
              "  <div class=\"colab-df-container\">\n",
              "    <button class=\"colab-df-convert\" onclick=\"convertToInteractive('df-b903c365-04e4-456d-b000-54b92b140783')\"\n",
              "            title=\"Convert this dataframe to an interactive table.\"\n",
              "            style=\"display:none;\">\n",
              "\n",
              "  <svg xmlns=\"http://www.w3.org/2000/svg\" height=\"24px\" viewBox=\"0 -960 960 960\">\n",
              "    <path d=\"M120-120v-720h720v720H120Zm60-500h600v-160H180v160Zm220 220h160v-160H400v160Zm0 220h160v-160H400v160ZM180-400h160v-160H180v160Zm440 0h160v-160H620v160ZM180-180h160v-160H180v160Zm440 0h160v-160H620v160Z\"/>\n",
              "  </svg>\n",
              "    </button>\n",
              "\n",
              "  <style>\n",
              "    .colab-df-container {\n",
              "      display:flex;\n",
              "      gap: 12px;\n",
              "    }\n",
              "\n",
              "    .colab-df-convert {\n",
              "      background-color: #E8F0FE;\n",
              "      border: none;\n",
              "      border-radius: 50%;\n",
              "      cursor: pointer;\n",
              "      display: none;\n",
              "      fill: #1967D2;\n",
              "      height: 32px;\n",
              "      padding: 0 0 0 0;\n",
              "      width: 32px;\n",
              "    }\n",
              "\n",
              "    .colab-df-convert:hover {\n",
              "      background-color: #E2EBFA;\n",
              "      box-shadow: 0px 1px 2px rgba(60, 64, 67, 0.3), 0px 1px 3px 1px rgba(60, 64, 67, 0.15);\n",
              "      fill: #174EA6;\n",
              "    }\n",
              "\n",
              "    .colab-df-buttons div {\n",
              "      margin-bottom: 4px;\n",
              "    }\n",
              "\n",
              "    [theme=dark] .colab-df-convert {\n",
              "      background-color: #3B4455;\n",
              "      fill: #D2E3FC;\n",
              "    }\n",
              "\n",
              "    [theme=dark] .colab-df-convert:hover {\n",
              "      background-color: #434B5C;\n",
              "      box-shadow: 0px 1px 3px 1px rgba(0, 0, 0, 0.15);\n",
              "      filter: drop-shadow(0px 1px 2px rgba(0, 0, 0, 0.3));\n",
              "      fill: #FFFFFF;\n",
              "    }\n",
              "  </style>\n",
              "\n",
              "    <script>\n",
              "      const buttonEl =\n",
              "        document.querySelector('#df-b903c365-04e4-456d-b000-54b92b140783 button.colab-df-convert');\n",
              "      buttonEl.style.display =\n",
              "        google.colab.kernel.accessAllowed ? 'block' : 'none';\n",
              "\n",
              "      async function convertToInteractive(key) {\n",
              "        const element = document.querySelector('#df-b903c365-04e4-456d-b000-54b92b140783');\n",
              "        const dataTable =\n",
              "          await google.colab.kernel.invokeFunction('convertToInteractive',\n",
              "                                                    [key], {});\n",
              "        if (!dataTable) return;\n",
              "\n",
              "        const docLinkHtml = 'Like what you see? Visit the ' +\n",
              "          '<a target=\"_blank\" href=https://colab.research.google.com/notebooks/data_table.ipynb>data table notebook</a>'\n",
              "          + ' to learn more about interactive tables.';\n",
              "        element.innerHTML = '';\n",
              "        dataTable['output_type'] = 'display_data';\n",
              "        await google.colab.output.renderOutput(dataTable, element);\n",
              "        const docLink = document.createElement('div');\n",
              "        docLink.innerHTML = docLinkHtml;\n",
              "        element.appendChild(docLink);\n",
              "      }\n",
              "    </script>\n",
              "  </div>\n",
              "\n",
              "\n",
              "<div id=\"df-c53633b8-4667-4f64-9b93-7225b548cad1\">\n",
              "  <button class=\"colab-df-quickchart\" onclick=\"quickchart('df-c53633b8-4667-4f64-9b93-7225b548cad1')\"\n",
              "            title=\"Suggest charts\"\n",
              "            style=\"display:none;\">\n",
              "\n",
              "<svg xmlns=\"http://www.w3.org/2000/svg\" height=\"24px\"viewBox=\"0 0 24 24\"\n",
              "     width=\"24px\">\n",
              "    <g>\n",
              "        <path d=\"M19 3H5c-1.1 0-2 .9-2 2v14c0 1.1.9 2 2 2h14c1.1 0 2-.9 2-2V5c0-1.1-.9-2-2-2zM9 17H7v-7h2v7zm4 0h-2V7h2v10zm4 0h-2v-4h2v4z\"/>\n",
              "    </g>\n",
              "</svg>\n",
              "  </button>\n",
              "\n",
              "<style>\n",
              "  .colab-df-quickchart {\n",
              "      --bg-color: #E8F0FE;\n",
              "      --fill-color: #1967D2;\n",
              "      --hover-bg-color: #E2EBFA;\n",
              "      --hover-fill-color: #174EA6;\n",
              "      --disabled-fill-color: #AAA;\n",
              "      --disabled-bg-color: #DDD;\n",
              "  }\n",
              "\n",
              "  [theme=dark] .colab-df-quickchart {\n",
              "      --bg-color: #3B4455;\n",
              "      --fill-color: #D2E3FC;\n",
              "      --hover-bg-color: #434B5C;\n",
              "      --hover-fill-color: #FFFFFF;\n",
              "      --disabled-bg-color: #3B4455;\n",
              "      --disabled-fill-color: #666;\n",
              "  }\n",
              "\n",
              "  .colab-df-quickchart {\n",
              "    background-color: var(--bg-color);\n",
              "    border: none;\n",
              "    border-radius: 50%;\n",
              "    cursor: pointer;\n",
              "    display: none;\n",
              "    fill: var(--fill-color);\n",
              "    height: 32px;\n",
              "    padding: 0;\n",
              "    width: 32px;\n",
              "  }\n",
              "\n",
              "  .colab-df-quickchart:hover {\n",
              "    background-color: var(--hover-bg-color);\n",
              "    box-shadow: 0 1px 2px rgba(60, 64, 67, 0.3), 0 1px 3px 1px rgba(60, 64, 67, 0.15);\n",
              "    fill: var(--button-hover-fill-color);\n",
              "  }\n",
              "\n",
              "  .colab-df-quickchart-complete:disabled,\n",
              "  .colab-df-quickchart-complete:disabled:hover {\n",
              "    background-color: var(--disabled-bg-color);\n",
              "    fill: var(--disabled-fill-color);\n",
              "    box-shadow: none;\n",
              "  }\n",
              "\n",
              "  .colab-df-spinner {\n",
              "    border: 2px solid var(--fill-color);\n",
              "    border-color: transparent;\n",
              "    border-bottom-color: var(--fill-color);\n",
              "    animation:\n",
              "      spin 1s steps(1) infinite;\n",
              "  }\n",
              "\n",
              "  @keyframes spin {\n",
              "    0% {\n",
              "      border-color: transparent;\n",
              "      border-bottom-color: var(--fill-color);\n",
              "      border-left-color: var(--fill-color);\n",
              "    }\n",
              "    20% {\n",
              "      border-color: transparent;\n",
              "      border-left-color: var(--fill-color);\n",
              "      border-top-color: var(--fill-color);\n",
              "    }\n",
              "    30% {\n",
              "      border-color: transparent;\n",
              "      border-left-color: var(--fill-color);\n",
              "      border-top-color: var(--fill-color);\n",
              "      border-right-color: var(--fill-color);\n",
              "    }\n",
              "    40% {\n",
              "      border-color: transparent;\n",
              "      border-right-color: var(--fill-color);\n",
              "      border-top-color: var(--fill-color);\n",
              "    }\n",
              "    60% {\n",
              "      border-color: transparent;\n",
              "      border-right-color: var(--fill-color);\n",
              "    }\n",
              "    80% {\n",
              "      border-color: transparent;\n",
              "      border-right-color: var(--fill-color);\n",
              "      border-bottom-color: var(--fill-color);\n",
              "    }\n",
              "    90% {\n",
              "      border-color: transparent;\n",
              "      border-bottom-color: var(--fill-color);\n",
              "    }\n",
              "  }\n",
              "</style>\n",
              "\n",
              "  <script>\n",
              "    async function quickchart(key) {\n",
              "      const quickchartButtonEl =\n",
              "        document.querySelector('#' + key + ' button');\n",
              "      quickchartButtonEl.disabled = true;  // To prevent multiple clicks.\n",
              "      quickchartButtonEl.classList.add('colab-df-spinner');\n",
              "      try {\n",
              "        const charts = await google.colab.kernel.invokeFunction(\n",
              "            'suggestCharts', [key], {});\n",
              "      } catch (error) {\n",
              "        console.error('Error during call to suggestCharts:', error);\n",
              "      }\n",
              "      quickchartButtonEl.classList.remove('colab-df-spinner');\n",
              "      quickchartButtonEl.classList.add('colab-df-quickchart-complete');\n",
              "    }\n",
              "    (() => {\n",
              "      let quickchartButtonEl =\n",
              "        document.querySelector('#df-c53633b8-4667-4f64-9b93-7225b548cad1 button');\n",
              "      quickchartButtonEl.style.display =\n",
              "        google.colab.kernel.accessAllowed ? 'block' : 'none';\n",
              "    })();\n",
              "  </script>\n",
              "</div>\n",
              "\n",
              "    </div>\n",
              "  </div>\n"
            ],
            "application/vnd.google.colaboratory.intrinsic+json": {
              "type": "dataframe",
              "summary": "{\n  \"name\": \"df\",\n  \"rows\": 8,\n  \"fields\": [\n    {\n      \"column\": \"Edad\",\n      \"properties\": {\n        \"dtype\": \"number\",\n        \"std\": 12.46144541395263,\n        \"min\": 5.916079783099616,\n        \"max\": 45.0,\n        \"num_unique_values\": 7,\n        \"samples\": [\n          20.0,\n          35.5,\n          40.25\n        ],\n        \"semantic_type\": \"\",\n        \"description\": \"\"\n      }\n    },\n    {\n      \"column\": \"Puntuacion\",\n      \"properties\": {\n        \"dtype\": \"number\",\n        \"std\": 31.81404507919782,\n        \"min\": 6.953984090925295,\n        \"max\": 91.0,\n        \"num_unique_values\": 8,\n        \"samples\": [\n          80.4,\n          80.5,\n          20.0\n        ],\n        \"semantic_type\": \"\",\n        \"description\": \"\"\n      }\n    },\n    {\n      \"column\": \"Ingresos\",\n      \"properties\": {\n        \"dtype\": \"number\",\n        \"std\": 23865.38355643807,\n        \"min\": 20.0,\n        \"max\": 62000.0,\n        \"num_unique_values\": 8,\n        \"samples\": [\n          52950.0,\n          52500.0,\n          20.0\n        ],\n        \"semantic_type\": \"\",\n        \"description\": \"\"\n      }\n    }\n  ]\n}"
            }
          },
          "metadata": {},
          "execution_count": 131
        }
      ]
    },
    {
      "cell_type": "code",
      "source": [
        "#¿Cuál es el promedio de edad en el conjunto de datos?\n",
        "df.Edad.mean()"
      ],
      "metadata": {
        "colab": {
          "base_uri": "https://localhost:8080/"
        },
        "id": "ekyXkINgSbKk",
        "outputId": "ac86e371-cab2-45c6-c5d8-7cf47c481e4a"
      },
      "execution_count": 132,
      "outputs": [
        {
          "output_type": "execute_result",
          "data": {
            "text/plain": [
              "35.5"
            ]
          },
          "metadata": {},
          "execution_count": 132
        }
      ]
    },
    {
      "cell_type": "code",
      "source": [
        "#La columna \"puntuación\" tiene un valor mínimo en el conjunto de datos de:\n",
        "df.Puntuacion.min()"
      ],
      "metadata": {
        "colab": {
          "base_uri": "https://localhost:8080/"
        },
        "id": "NClJgaFJSl6q",
        "outputId": "a968296c-4c34-4912-8f73-6e942e67e819"
      },
      "execution_count": 133,
      "outputs": [
        {
          "output_type": "execute_result",
          "data": {
            "text/plain": [
              "68"
            ]
          },
          "metadata": {},
          "execution_count": 133
        }
      ]
    },
    {
      "cell_type": "code",
      "source": [
        "# ¿Cuántas personas en el conjunto de datos tienen una puntuación superior o igual a 80?\n",
        "num_people_high_score = len(df[df['Puntuacion'] >= 80])\n",
        "print(f\"Number of people with a score greater than or equal to 80: {num_people_high_score}\")"
      ],
      "metadata": {
        "colab": {
          "base_uri": "https://localhost:8080/"
        },
        "id": "yMJDtoBRj7TJ",
        "outputId": "f123b12a-3bbb-47e2-f84e-09f32a6be122"
      },
      "execution_count": 134,
      "outputs": [
        {
          "output_type": "stream",
          "name": "stdout",
          "text": [
            "Number of people with a score greater than or equal to 80: 11\n"
          ]
        }
      ]
    },
    {
      "cell_type": "code",
      "source": [
        "df.loc[df.Puntuacion >= 80].count()"
      ],
      "metadata": {
        "colab": {
          "base_uri": "https://localhost:8080/",
          "height": 209
        },
        "id": "7QQ75IoTSvYF",
        "outputId": "4f1b7305-d0f6-4c46-9160-cfaab4b64f01"
      },
      "execution_count": 135,
      "outputs": [
        {
          "output_type": "execute_result",
          "data": {
            "text/plain": [
              "Edad                  11\n",
              "Puntuacion            11\n",
              "Ingresos              11\n",
              "Nivel_de_Educacion    11\n",
              "dtype: int64"
            ],
            "text/html": [
              "<div>\n",
              "<style scoped>\n",
              "    .dataframe tbody tr th:only-of-type {\n",
              "        vertical-align: middle;\n",
              "    }\n",
              "\n",
              "    .dataframe tbody tr th {\n",
              "        vertical-align: top;\n",
              "    }\n",
              "\n",
              "    .dataframe thead th {\n",
              "        text-align: right;\n",
              "    }\n",
              "</style>\n",
              "<table border=\"1\" class=\"dataframe\">\n",
              "  <thead>\n",
              "    <tr style=\"text-align: right;\">\n",
              "      <th></th>\n",
              "      <th>0</th>\n",
              "    </tr>\n",
              "  </thead>\n",
              "  <tbody>\n",
              "    <tr>\n",
              "      <th>Edad</th>\n",
              "      <td>11</td>\n",
              "    </tr>\n",
              "    <tr>\n",
              "      <th>Puntuacion</th>\n",
              "      <td>11</td>\n",
              "    </tr>\n",
              "    <tr>\n",
              "      <th>Ingresos</th>\n",
              "      <td>11</td>\n",
              "    </tr>\n",
              "    <tr>\n",
              "      <th>Nivel_de_Educacion</th>\n",
              "      <td>11</td>\n",
              "    </tr>\n",
              "  </tbody>\n",
              "</table>\n",
              "</div><br><label><b>dtype:</b> int64</label>"
            ]
          },
          "metadata": {},
          "execution_count": 135
        }
      ]
    },
    {
      "cell_type": "code",
      "source": [
        "#   ¿Cuál es el nivel de educación más común en el conjunto de datos?\n",
        "\n",
        "# Find the most common education level\n",
        "most_common_education = df['Nivel_de_Educacion'].mode()[0]\n",
        "print(f\"The most common education level is: {most_common_education}\")"
      ],
      "metadata": {
        "colab": {
          "base_uri": "https://localhost:8080/"
        },
        "id": "fpEIftpYkqhy",
        "outputId": "82eca3f5-83d3-43a9-840d-0097bb390976"
      },
      "execution_count": 136,
      "outputs": [
        {
          "output_type": "stream",
          "name": "stdout",
          "text": [
            "The most common education level is:  Licenciatura\n"
          ]
        }
      ]
    },
    {
      "cell_type": "code",
      "source": [
        "df.Nivel_de_Educacion.value_counts()"
      ],
      "metadata": {
        "colab": {
          "base_uri": "https://localhost:8080/",
          "height": 209
        },
        "id": "ufAc7uFeTFFd",
        "outputId": "8d26014d-773c-4c0c-e4eb-7651fd267f90"
      },
      "execution_count": 137,
      "outputs": [
        {
          "output_type": "execute_result",
          "data": {
            "text/plain": [
              "Nivel_de_Educacion\n",
              "Licenciatura    8\n",
              "Maestría        6\n",
              "Doctorado       6\n",
              "Name: count, dtype: int64"
            ],
            "text/html": [
              "<div>\n",
              "<style scoped>\n",
              "    .dataframe tbody tr th:only-of-type {\n",
              "        vertical-align: middle;\n",
              "    }\n",
              "\n",
              "    .dataframe tbody tr th {\n",
              "        vertical-align: top;\n",
              "    }\n",
              "\n",
              "    .dataframe thead th {\n",
              "        text-align: right;\n",
              "    }\n",
              "</style>\n",
              "<table border=\"1\" class=\"dataframe\">\n",
              "  <thead>\n",
              "    <tr style=\"text-align: right;\">\n",
              "      <th></th>\n",
              "      <th>count</th>\n",
              "    </tr>\n",
              "    <tr>\n",
              "      <th>Nivel_de_Educacion</th>\n",
              "      <th></th>\n",
              "    </tr>\n",
              "  </thead>\n",
              "  <tbody>\n",
              "    <tr>\n",
              "      <th>Licenciatura</th>\n",
              "      <td>8</td>\n",
              "    </tr>\n",
              "    <tr>\n",
              "      <th>Maestría</th>\n",
              "      <td>6</td>\n",
              "    </tr>\n",
              "    <tr>\n",
              "      <th>Doctorado</th>\n",
              "      <td>6</td>\n",
              "    </tr>\n",
              "  </tbody>\n",
              "</table>\n",
              "</div><br><label><b>dtype:</b> int64</label>"
            ]
          },
          "metadata": {},
          "execution_count": 137
        }
      ]
    },
    {
      "cell_type": "markdown",
      "source": [
        "Responder las preguntas 5 A 10 usando los datos proporcionados\n",
        "\n",
        "En el archivo encontraras las etiquetas <**y_test**>, los scores <**y_score**>  y la etiqueta predicha <**y_pred**> calculados usando un clasificador. Debes responder las siguientes preguntas usando la información contenida en el archivo. Los encabezados del archivo son en el mismo orden: '**Real_Label**'  '**Predicted_Score**'   '**Predicted_label**'"
      ],
      "metadata": {
        "id": "gbESi8NblEFJ"
      }
    },
    {
      "cell_type": "markdown",
      "source": [
        "## predicciones_scores.data"
      ],
      "metadata": {
        "id": "dwqyYZJlTZrs"
      }
    },
    {
      "cell_type": "code",
      "source": [
        "#   leer predicciones_scores.data\n",
        "\n",
        "import pandas as pd\n",
        "\n",
        "# Assuming 'predicciones_score.data' is a CSV file. Adjust the separator (sep) if needed.\n",
        "try:\n",
        "    df = pd.read_csv('https://raw.githubusercontent.com/cam2149/MachineLearningIII/refs/heads/main/predicciones_scores.data', sep=',')  # Replace ',' with the correct separator if needed\n",
        "    print(df.head())  # Display the first few rows to verify\n",
        "except FileNotFoundError:\n",
        "    print(\"Error: 'predicciones_score.data' file not found.\")\n",
        "except pd.errors.ParserError:\n",
        "    print(\"Error: Could not parse the file. Check the file format and separator.\")"
      ],
      "metadata": {
        "colab": {
          "base_uri": "https://localhost:8080/"
        },
        "id": "e-9Sic_eTZkM",
        "outputId": "6b21c804-976c-46b9-9d8b-389877e9129d"
      },
      "execution_count": 138,
      "outputs": [
        {
          "output_type": "stream",
          "name": "stdout",
          "text": [
            "   Real_Label  Predicted_Score  Predicted_label\n",
            "0           0         0.156098                0\n",
            "1           0         0.433585                0\n",
            "2           1         0.957655                1\n",
            "3           0         0.281928                0\n",
            "4           0         0.336131                0\n"
          ]
        }
      ]
    },
    {
      "cell_type": "code",
      "source": [
        "#   Usando los scores proporcionados graficar la curva ROC\n",
        "\n",
        "import pandas as pd\n",
        "import matplotlib.pyplot as plt\n",
        "from sklearn.metrics import roc_curve, auc\n",
        "\n",
        "# Extract true labels and predicted scores\n",
        "y_test = df['Real_Label']\n",
        "y_score = df['Predicted_Score']\n",
        "\n",
        "# Compute ROC curve and AUC\n",
        "fpr, tpr, thresholds = roc_curve(y_test, y_score)\n",
        "roc_auc = auc(fpr, tpr)\n",
        "\n",
        "# Plot ROC curve\n",
        "plt.figure()\n",
        "plt.plot(fpr, tpr, color='darkorange', lw=2, label='ROC curve (area = %0.2f)' % roc_auc)\n",
        "plt.plot([0, 1], [0, 1], color='navy', lw=2, linestyle='--')\n",
        "plt.xlim([0.0, 1.0])\n",
        "plt.ylim([0.0, 1.05])\n",
        "plt.xlabel('False Positive Rate')\n",
        "plt.ylabel('True Positive Rate')\n",
        "plt.title('Receiver Operating Characteristic')\n",
        "plt.legend(loc=\"lower right\")\n",
        "plt.show()"
      ],
      "metadata": {
        "colab": {
          "base_uri": "https://localhost:8080/",
          "height": 472
        },
        "id": "PYylMBdtl4o7",
        "outputId": "5550b456-27a3-437b-cde5-2f1a999a2a28"
      },
      "execution_count": 139,
      "outputs": [
        {
          "output_type": "display_data",
          "data": {
            "text/plain": [
              "<Figure size 640x480 with 1 Axes>"
            ],
            "image/png": "[encoded data removed]"
          },
          "metadata": {}
        }
      ]
    },
    {
      "cell_type": "code",
      "source": [
        "#   graficar la curva ROC con los datos de df\n",
        "\n",
        "import matplotlib.pyplot as plt\n",
        "from sklearn.metrics import roc_curve, auc\n",
        "\n",
        "# Assuming 'df' contains 'y_true' (actual labels) and 'y_score' (predicted probabilities)\n",
        "# Replace 'y_true' and 'y_score' with the actual column names in your DataFrame\n",
        "\n",
        "try:\n",
        "    fpr, tpr, thresholds = roc_curve(df['Real_Label'], df['Predicted_Score']) # Replace with your column names\n",
        "    roc_auc = auc(fpr, tpr)\n",
        "\n",
        "    plt.figure()\n",
        "    plt.plot(fpr, tpr, color='blue', lw=2, label='ROC curve (area = %0.2f)' % roc_auc)\n",
        "    plt.plot([0, 1], [0, 1], color='grey', lw=2, linestyle='--')\n",
        "    plt.xlim([0.0, 1.0])\n",
        "    plt.ylim([0.0, 1.05])\n",
        "    plt.xlabel('False Positive Rate')\n",
        "    plt.ylabel('True Positive Rate')\n",
        "    plt.title('Receiver Operating Characteristic')\n",
        "    plt.legend(loc=\"lower right\")\n",
        "    plt.show()\n",
        "\n",
        "except KeyError as e:\n",
        "    print(f\"Error: Column '{e}' not found in the DataFrame. Make sure 'y_true' and 'y_score' columns exist.\")\n",
        "except Exception as e:\n",
        "    print(f\"An unexpected error occurred: {e}\")"
      ],
      "metadata": {
        "colab": {
          "base_uri": "https://localhost:8080/",
          "height": 472
        },
        "id": "kkvhNjG3T5YM",
        "outputId": "29f3d3fd-65e1-4b8d-ffa4-bebe324121cd"
      },
      "execution_count": 140,
      "outputs": [
        {
          "output_type": "display_data",
          "data": {
            "text/plain": [
              "<Figure size 640x480 with 1 Axes>"
            ],
            "image/png": "[encoded data removed]"
          },
          "metadata": {}
        }
      ]
    },
    {
      "cell_type": "code",
      "source": [
        "#   calcular accuracy con los datos de df\n",
        "\n",
        "from sklearn.metrics import accuracy_score\n",
        "\n",
        "# Assuming 'df' contains 'Real_Label' (true labels) and a column with predicted labels\n",
        "# Replace 'Predicted_Label' with the actual column name in your DataFrame\n",
        "try:\n",
        "    accuracy = accuracy_score(df['Real_Label'], df['Predicted_label'])\n",
        "    print(f\"Accuracy: {accuracy}\")\n",
        "except KeyError as e:\n",
        "    print(f\"Error: Column '{e}' not found in the DataFrame. Make sure 'Real_Label' and 'Predicted_Label' columns exist.\")\n",
        "except Exception as e:\n",
        "    print(f\"An unexpected error occurred: {e}\")"
      ],
      "metadata": {
        "colab": {
          "base_uri": "https://localhost:8080/"
        },
        "id": "vxFhm4J0UZ7A",
        "outputId": "8bd819f5-9e8f-41c4-b5cc-451b48809ec6"
      },
      "execution_count": 141,
      "outputs": [
        {
          "output_type": "stream",
          "name": "stdout",
          "text": [
            "Accuracy: 0.8\n"
          ]
        }
      ]
    },
    {
      "cell_type": "code",
      "source": [
        "#   calcular la metrica precision del df\n",
        "\n",
        "from sklearn.metrics import precision_score\n",
        "\n",
        "# Assuming 'df' contains 'Real_Label' (true labels) and 'Predicted_label' (predicted labels)\n",
        "try:\n",
        "    precision = precision_score(df['Real_Label'], df['Predicted_label'])\n",
        "    print(f\"Precision: {precision}\")\n",
        "except KeyError as e:\n",
        "    print(f\"Error: Column '{e}' not found in the DataFrame. Make sure 'Real_Label' and 'Predicted_label' columns exist.\")\n",
        "except Exception as e:\n",
        "    print(f\"An unexpected error occurred: {e}\")"
      ],
      "metadata": {
        "colab": {
          "base_uri": "https://localhost:8080/"
        },
        "id": "wXATAiOWVC6l",
        "outputId": "eb3b884b-456e-415b-ba16-4934502b0d7b"
      },
      "execution_count": 142,
      "outputs": [
        {
          "output_type": "stream",
          "name": "stdout",
          "text": [
            "Precision: 0.8936170212765957\n"
          ]
        }
      ]
    },
    {
      "cell_type": "code",
      "source": [
        "#   calcular recall del df\n",
        "\n",
        "from sklearn.metrics import recall_score\n",
        "\n",
        "# Assuming 'df' contains 'Real_Label' (true labels) and 'Predicted_label' (predicted labels)\n",
        "try:\n",
        "    recall = recall_score(df['Real_Label'], df['Predicted_label'])\n",
        "    print(f\"Recall: {recall}\")\n",
        "except KeyError as e:\n",
        "    print(f\"Error: Column '{e}' not found in the DataFrame. Make sure 'Real_Label' and 'Predicted_label' columns exist.\")\n",
        "except Exception as e:\n",
        "    print(f\"An unexpected error occurred: {e}\")"
      ],
      "metadata": {
        "colab": {
          "base_uri": "https://localhost:8080/"
        },
        "id": "tjykNDEzV2-8",
        "outputId": "b5da7ec9-e3a5-4698-debd-6f917d914d83"
      },
      "execution_count": 143,
      "outputs": [
        {
          "output_type": "stream",
          "name": "stdout",
          "text": [
            "Recall: 0.6268656716417911\n"
          ]
        }
      ]
    },
    {
      "cell_type": "code",
      "source": [
        "#    El clasificador identificó correctamente más de 85% de las instancias de la clase negativa.\n",
        "\n",
        "# Assuming 'df' contains 'Real_Label' (true labels) and 'Predicted_label' (predicted labels)\n",
        "try:\n",
        "    # Filter for negative class instances (assuming 0 represents the negative class)\n",
        "    negative_instances = df[df['Real_Label'] == 0]\n",
        "\n",
        "    # Count correctly classified negative instances\n",
        "    correctly_classified_negative = len(negative_instances[negative_instances['Real_Label'] == negative_instances['Predicted_label']])\n",
        "\n",
        "    # Calculate the percentage of correctly classified negative instances\n",
        "    percentage_correct_negative = (correctly_classified_negative / len(negative_instances)) * 100\n",
        "\n",
        "    print(f\"Percentage of correctly classified negative instances: {percentage_correct_negative:.2f}%\")\n",
        "\n",
        "except KeyError as e:\n",
        "    print(f\"Error: Column '{e}' not found in the DataFrame. Make sure 'Real_Label' and 'Predicted_label' columns exist.\")\n",
        "except Exception as e:\n",
        "    print(f\"An unexpected error occurred: {e}\")"
      ],
      "metadata": {
        "colab": {
          "base_uri": "https://localhost:8080/"
        },
        "id": "76LNsPTTnEk3",
        "outputId": "d8c73c13-b94e-435a-a224-d425b2626272"
      },
      "execution_count": 144,
      "outputs": [
        {
          "output_type": "stream",
          "name": "stdout",
          "text": [
            "Percentage of correctly classified negative instances: 93.98%\n"
          ]
        }
      ]
    },
    {
      "cell_type": "code",
      "source": [
        "#   calcular especificidad del df\n",
        "\n",
        "# Assuming 'df' contains 'Real_Label' (true labels) and 'Predicted_label' (predicted labels)\n",
        "from sklearn.metrics import confusion_matrix\n",
        "\n",
        "try:\n",
        "    tn, fp, fn, tp = confusion_matrix(df['Real_Label'], df['Predicted_label']).ravel()\n",
        "    specificity = tn / (tn + fp)\n",
        "    print(f\"Specificity: {specificity}\")\n",
        "except KeyError as e:\n",
        "    print(f\"Error: Column '{e}' not found in the DataFrame. Make sure 'Real_Label' and 'Predicted_label' columns exist.\")\n",
        "except Exception as e:\n",
        "    print(f\"An unexpected error occurred: {e}\")"
      ],
      "metadata": {
        "colab": {
          "base_uri": "https://localhost:8080/"
        },
        "id": "nvEiiYyBWvam",
        "outputId": "813c6126-8675-4424-c8ef-8e86d6eafb62"
      },
      "execution_count": 145,
      "outputs": [
        {
          "output_type": "stream",
          "name": "stdout",
          "text": [
            "Specificity: 0.9397590361445783\n"
          ]
        }
      ]
    },
    {
      "cell_type": "code",
      "source": [
        "# El número de falsos negativos es mayor que el de falsos positivos.\n",
        "\n",
        "try:\n",
        "    tn, fp, fn, tp = confusion_matrix(df['Real_Label'], df['Predicted_label']).ravel()\n",
        "    print(f\"False Negatives (FN): {fn}\")\n",
        "    print(f\"False Positives (FP): {fp}\")\n",
        "    if fn > fp:\n",
        "        print(\"Verdadero: El número de falsos negativos es mayor que el de falsos positivos.\")\n",
        "    else:\n",
        "        print(\"Falso: El número de falsos negativos no es mayor que el de falsos positivos.\")\n",
        "except KeyError as e:\n",
        "    print(f\"Error: Column '{e}' not found in the DataFrame.\")\n",
        "except Exception as e:\n",
        "    print(f\"An unexpected error occurred: {e}\")"
      ],
      "metadata": {
        "colab": {
          "base_uri": "https://localhost:8080/"
        },
        "id": "54PZTsO4oe5h",
        "outputId": "4b11c17a-07bc-4945-c8be-082499096fde"
      },
      "execution_count": 146,
      "outputs": [
        {
          "output_type": "stream",
          "name": "stdout",
          "text": [
            "False Negatives (FN): 50\n",
            "False Positives (FP): 10\n",
            "Verdadero: El número de falsos negativos es mayor que el de falsos positivos.\n"
          ]
        }
      ]
    },
    {
      "cell_type": "code",
      "source": [
        "fn > fp"
      ],
      "metadata": {
        "colab": {
          "base_uri": "https://localhost:8080/"
        },
        "id": "gj-t2uCWXfT0",
        "outputId": "7dab7692-df6b-4ffe-cee8-817358dc3ac1"
      },
      "execution_count": 147,
      "outputs": [
        {
          "output_type": "execute_result",
          "data": {
            "text/plain": [
              "True"
            ]
          },
          "metadata": {},
          "execution_count": 147
        }
      ]
    },
    {
      "cell_type": "markdown",
      "source": [
        "#Responder las preguntas 11 A 14 usando los datos proporcionados\n",
        "El archivo contiene dos conjuntos de datos: train y test. Debe entrenar un clasificador KNN y un modelo de regresión logística para responder las siguientes preguntas.\n"
      ],
      "metadata": {
        "id": "bwYWIN7zJHAN"
      }
    },
    {
      "cell_type": "code",
      "source": [
        "#   cargar data1.data\n",
        "import pandas as pd\n",
        "try:\n",
        "    df_test = pd.read_csv('https://raw.githubusercontent.com/cam2149/MachineLearningIII/refs/heads/main/dataset3/test_set.csv', sep=',') # Replace ',' with the correct separator if needed\n",
        "    print(df_test.shape) # Display the first few rows to verify\n",
        "except FileNotFoundError:\n",
        "    print(\"Error: 'data1.data' file not found.\")\n",
        "except pd.errors.ParserError:\n",
        "    print(\"Error: Could not parse the file. Check the file format and separator.\")"
      ],
      "metadata": {
        "colab": {
          "base_uri": "https://localhost:8080/"
        },
        "id": "MhuRCxpYrn5U",
        "outputId": "78d5ff19-a6c3-4405-caf9-fc01d216d45c"
      },
      "execution_count": 148,
      "outputs": [
        {
          "output_type": "stream",
          "name": "stdout",
          "text": [
            "(300, 3)\n"
          ]
        }
      ]
    },
    {
      "cell_type": "code",
      "source": [
        "#   cargar data1.data\n",
        "import pandas as pd\n",
        "try:\n",
        "    df_train = pd.read_csv('https://raw.githubusercontent.com/cam2149/MachineLearningIII/refs/heads/main/dataset3/train_set.csv', sep=',') # Replace ',' with the correct separator if needed\n",
        "    print(df_train.shape) # Display the first few rows to verify\n",
        "except FileNotFoundError:\n",
        "    print(\"Error: 'data1.data' file not found.\")\n",
        "except pd.errors.ParserError:\n",
        "    print(\"Error: Could not parse the file. Check the file format and separator.\")"
      ],
      "metadata": {
        "colab": {
          "base_uri": "https://localhost:8080/"
        },
        "id": "DX3Gh5OZsEjC",
        "outputId": "11a6b5ff-b56d-4cbc-f76f-5bee72911e9f"
      },
      "execution_count": 149,
      "outputs": [
        {
          "output_type": "stream",
          "name": "stdout",
          "text": [
            "(700, 3)\n"
          ]
        }
      ]
    },
    {
      "cell_type": "code",
      "source": [
        "df_train.describe()"
      ],
      "metadata": {
        "colab": {
          "base_uri": "https://localhost:8080/",
          "height": 300
        },
        "id": "skJeeaE3sYG5",
        "outputId": "d44ef493-04b7-4cb7-e17a-4cc9dacb698a"
      },
      "execution_count": 150,
      "outputs": [
        {
          "output_type": "execute_result",
          "data": {
            "text/plain": [
              "            feat1       feat2      target\n",
              "count  700.000000  700.000000  700.000000\n",
              "mean     0.498070   -0.121027    0.395714\n",
              "std      1.113782    0.894658    0.489353\n",
              "min     -2.869693   -2.587213    0.000000\n",
              "25%     -0.258868   -0.768702    0.000000\n",
              "50%      0.474950   -0.207783    0.000000\n",
              "75%      1.215672    0.475407    1.000000\n",
              "max      4.495802    2.842864    1.000000"
            ],
            "text/html": [
              "\n",
              "  <div id=\"df-cbf0fb0b-0317-4a93-9938-9693dfaa7ceb\" class=\"colab-df-container\">\n",
              "    <div>\n",
              "<style scoped>\n",
              "    .dataframe tbody tr th:only-of-type {\n",
              "        vertical-align: middle;\n",
              "    }\n",
              "\n",
              "    .dataframe tbody tr th {\n",
              "        vertical-align: top;\n",
              "    }\n",
              "\n",
              "    .dataframe thead th {\n",
              "        text-align: right;\n",
              "    }\n",
              "</style>\n",
              "<table border=\"1\" class=\"dataframe\">\n",
              "  <thead>\n",
              "    <tr style=\"text-align: right;\">\n",
              "      <th></th>\n",
              "      <th>feat1</th>\n",
              "      <th>feat2</th>\n",
              "      <th>target</th>\n",
              "    </tr>\n",
              "  </thead>\n",
              "  <tbody>\n",
              "    <tr>\n",
              "      <th>count</th>\n",
              "      <td>700.000000</td>\n",
              "      <td>700.000000</td>\n",
              "      <td>700.000000</td>\n",
              "    </tr>\n",
              "    <tr>\n",
              "      <th>mean</th>\n",
              "      <td>0.498070</td>\n",
              "      <td>-0.121027</td>\n",
              "      <td>0.395714</td>\n",
              "    </tr>\n",
              "    <tr>\n",
              "      <th>std</th>\n",
              "      <td>1.113782</td>\n",
              "      <td>0.894658</td>\n",
              "      <td>0.489353</td>\n",
              "    </tr>\n",
              "    <tr>\n",
              "      <th>min</th>\n",
              "      <td>-2.869693</td>\n",
              "      <td>-2.587213</td>\n",
              "      <td>0.000000</td>\n",
              "    </tr>\n",
              "    <tr>\n",
              "      <th>25%</th>\n",
              "      <td>-0.258868</td>\n",
              "      <td>-0.768702</td>\n",
              "      <td>0.000000</td>\n",
              "    </tr>\n",
              "    <tr>\n",
              "      <th>50%</th>\n",
              "      <td>0.474950</td>\n",
              "      <td>-0.207783</td>\n",
              "      <td>0.000000</td>\n",
              "    </tr>\n",
              "    <tr>\n",
              "      <th>75%</th>\n",
              "      <td>1.215672</td>\n",
              "      <td>0.475407</td>\n",
              "      <td>1.000000</td>\n",
              "    </tr>\n",
              "    <tr>\n",
              "      <th>max</th>\n",
              "      <td>4.495802</td>\n",
              "      <td>2.842864</td>\n",
              "      <td>1.000000</td>\n",
              "    </tr>\n",
              "  </tbody>\n",
              "</table>\n",
              "</div>\n",
              "    <div class=\"colab-df-buttons\">\n",
              "\n",
              "  <div class=\"colab-df-container\">\n",
              "    <button class=\"colab-df-convert\" onclick=\"convertToInteractive('df-cbf0fb0b-0317-4a93-9938-9693dfaa7ceb')\"\n",
              "            title=\"Convert this dataframe to an interactive table.\"\n",
              "            style=\"display:none;\">\n",
              "\n",
              "  <svg xmlns=\"http://www.w3.org/2000/svg\" height=\"24px\" viewBox=\"0 -960 960 960\">\n",
              "    <path d=\"M120-120v-720h720v720H120Zm60-500h600v-160H180v160Zm220 220h160v-160H400v160Zm0 220h160v-160H400v160ZM180-400h160v-160H180v160Zm440 0h160v-160H620v160ZM180-180h160v-160H180v160Zm440 0h160v-160H620v160Z\"/>\n",
              "  </svg>\n",
              "    </button>\n",
              "\n",
              "  <style>\n",
              "    .colab-df-container {\n",
              "      display:flex;\n",
              "      gap: 12px;\n",
              "    }\n",
              "\n",
              "    .colab-df-convert {\n",
              "      background-color: #E8F0FE;\n",
              "      border: none;\n",
              "      border-radius: 50%;\n",
              "      cursor: pointer;\n",
              "      display: none;\n",
              "      fill: #1967D2;\n",
              "      height: 32px;\n",
              "      padding: 0 0 0 0;\n",
              "      width: 32px;\n",
              "    }\n",
              "\n",
              "    .colab-df-convert:hover {\n",
              "      background-color: #E2EBFA;\n",
              "      box-shadow: 0px 1px 2px rgba(60, 64, 67, 0.3), 0px 1px 3px 1px rgba(60, 64, 67, 0.15);\n",
              "      fill: #174EA6;\n",
              "    }\n",
              "\n",
              "    .colab-df-buttons div {\n",
              "      margin-bottom: 4px;\n",
              "    }\n",
              "\n",
              "    [theme=dark] .colab-df-convert {\n",
              "      background-color: #3B4455;\n",
              "      fill: #D2E3FC;\n",
              "    }\n",
              "\n",
              "    [theme=dark] .colab-df-convert:hover {\n",
              "      background-color: #434B5C;\n",
              "      box-shadow: 0px 1px 3px 1px rgba(0, 0, 0, 0.15);\n",
              "      filter: drop-shadow(0px 1px 2px rgba(0, 0, 0, 0.3));\n",
              "      fill: #FFFFFF;\n",
              "    }\n",
              "  </style>\n",
              "\n",
              "    <script>\n",
              "      const buttonEl =\n",
              "        document.querySelector('#df-cbf0fb0b-0317-4a93-9938-9693dfaa7ceb button.colab-df-convert');\n",
              "      buttonEl.style.display =\n",
              "        google.colab.kernel.accessAllowed ? 'block' : 'none';\n",
              "\n",
              "      async function convertToInteractive(key) {\n",
              "        const element = document.querySelector('#df-cbf0fb0b-0317-4a93-9938-9693dfaa7ceb');\n",
              "        const dataTable =\n",
              "          await google.colab.kernel.invokeFunction('convertToInteractive',\n",
              "                                                    [key], {});\n",
              "        if (!dataTable) return;\n",
              "\n",
              "        const docLinkHtml = 'Like what you see? Visit the ' +\n",
              "          '<a target=\"_blank\" href=https://colab.research.google.com/notebooks/data_table.ipynb>data table notebook</a>'\n",
              "          + ' to learn more about interactive tables.';\n",
              "        element.innerHTML = '';\n",
              "        dataTable['output_type'] = 'display_data';\n",
              "        await google.colab.output.renderOutput(dataTable, element);\n",
              "        const docLink = document.createElement('div');\n",
              "        docLink.innerHTML = docLinkHtml;\n",
              "        element.appendChild(docLink);\n",
              "      }\n",
              "    </script>\n",
              "  </div>\n",
              "\n",
              "\n",
              "<div id=\"df-f4a0f3a5-51f5-425a-8f58-fed1c4b4f948\">\n",
              "  <button class=\"colab-df-quickchart\" onclick=\"quickchart('df-f4a0f3a5-51f5-425a-8f58-fed1c4b4f948')\"\n",
              "            title=\"Suggest charts\"\n",
              "            style=\"display:none;\">\n",
              "\n",
              "<svg xmlns=\"http://www.w3.org/2000/svg\" height=\"24px\"viewBox=\"0 0 24 24\"\n",
              "     width=\"24px\">\n",
              "    <g>\n",
              "        <path d=\"M19 3H5c-1.1 0-2 .9-2 2v14c0 1.1.9 2 2 2h14c1.1 0 2-.9 2-2V5c0-1.1-.9-2-2-2zM9 17H7v-7h2v7zm4 0h-2V7h2v10zm4 0h-2v-4h2v4z\"/>\n",
              "    </g>\n",
              "</svg>\n",
              "  </button>\n",
              "\n",
              "<style>\n",
              "  .colab-df-quickchart {\n",
              "      --bg-color: #E8F0FE;\n",
              "      --fill-color: #1967D2;\n",
              "      --hover-bg-color: #E2EBFA;\n",
              "      --hover-fill-color: #174EA6;\n",
              "      --disabled-fill-color: #AAA;\n",
              "      --disabled-bg-color: #DDD;\n",
              "  }\n",
              "\n",
              "  [theme=dark] .colab-df-quickchart {\n",
              "      --bg-color: #3B4455;\n",
              "      --fill-color: #D2E3FC;\n",
              "      --hover-bg-color: #434B5C;\n",
              "      --hover-fill-color: #FFFFFF;\n",
              "      --disabled-bg-color: #3B4455;\n",
              "      --disabled-fill-color: #666;\n",
              "  }\n",
              "\n",
              "  .colab-df-quickchart {\n",
              "    background-color: var(--bg-color);\n",
              "    border: none;\n",
              "    border-radius: 50%;\n",
              "    cursor: pointer;\n",
              "    display: none;\n",
              "    fill: var(--fill-color);\n",
              "    height: 32px;\n",
              "    padding: 0;\n",
              "    width: 32px;\n",
              "  }\n",
              "\n",
              "  .colab-df-quickchart:hover {\n",
              "    background-color: var(--hover-bg-color);\n",
              "    box-shadow: 0 1px 2px rgba(60, 64, 67, 0.3), 0 1px 3px 1px rgba(60, 64, 67, 0.15);\n",
              "    fill: var(--button-hover-fill-color);\n",
              "  }\n",
              "\n",
              "  .colab-df-quickchart-complete:disabled,\n",
              "  .colab-df-quickchart-complete:disabled:hover {\n",
              "    background-color: var(--disabled-bg-color);\n",
              "    fill: var(--disabled-fill-color);\n",
              "    box-shadow: none;\n",
              "  }\n",
              "\n",
              "  .colab-df-spinner {\n",
              "    border: 2px solid var(--fill-color);\n",
              "    border-color: transparent;\n",
              "    border-bottom-color: var(--fill-color);\n",
              "    animation:\n",
              "      spin 1s steps(1) infinite;\n",
              "  }\n",
              "\n",
              "  @keyframes spin {\n",
              "    0% {\n",
              "      border-color: transparent;\n",
              "      border-bottom-color: var(--fill-color);\n",
              "      border-left-color: var(--fill-color);\n",
              "    }\n",
              "    20% {\n",
              "      border-color: transparent;\n",
              "      border-left-color: var(--fill-color);\n",
              "      border-top-color: var(--fill-color);\n",
              "    }\n",
              "    30% {\n",
              "      border-color: transparent;\n",
              "      border-left-color: var(--fill-color);\n",
              "      border-top-color: var(--fill-color);\n",
              "      border-right-color: var(--fill-color);\n",
              "    }\n",
              "    40% {\n",
              "      border-color: transparent;\n",
              "      border-right-color: var(--fill-color);\n",
              "      border-top-color: var(--fill-color);\n",
              "    }\n",
              "    60% {\n",
              "      border-color: transparent;\n",
              "      border-right-color: var(--fill-color);\n",
              "    }\n",
              "    80% {\n",
              "      border-color: transparent;\n",
              "      border-right-color: var(--fill-color);\n",
              "      border-bottom-color: var(--fill-color);\n",
              "    }\n",
              "    90% {\n",
              "      border-color: transparent;\n",
              "      border-bottom-color: var(--fill-color);\n",
              "    }\n",
              "  }\n",
              "</style>\n",
              "\n",
              "  <script>\n",
              "    async function quickchart(key) {\n",
              "      const quickchartButtonEl =\n",
              "        document.querySelector('#' + key + ' button');\n",
              "      quickchartButtonEl.disabled = true;  // To prevent multiple clicks.\n",
              "      quickchartButtonEl.classList.add('colab-df-spinner');\n",
              "      try {\n",
              "        const charts = await google.colab.kernel.invokeFunction(\n",
              "            'suggestCharts', [key], {});\n",
              "      } catch (error) {\n",
              "        console.error('Error during call to suggestCharts:', error);\n",
              "      }\n",
              "      quickchartButtonEl.classList.remove('colab-df-spinner');\n",
              "      quickchartButtonEl.classList.add('colab-df-quickchart-complete');\n",
              "    }\n",
              "    (() => {\n",
              "      let quickchartButtonEl =\n",
              "        document.querySelector('#df-f4a0f3a5-51f5-425a-8f58-fed1c4b4f948 button');\n",
              "      quickchartButtonEl.style.display =\n",
              "        google.colab.kernel.accessAllowed ? 'block' : 'none';\n",
              "    })();\n",
              "  </script>\n",
              "</div>\n",
              "\n",
              "    </div>\n",
              "  </div>\n"
            ],
            "application/vnd.google.colaboratory.intrinsic+json": {
              "type": "dataframe",
              "summary": "{\n  \"name\": \"df_train\",\n  \"rows\": 8,\n  \"fields\": [\n    {\n      \"column\": \"feat1\",\n      \"properties\": {\n        \"dtype\": \"number\",\n        \"std\": 247.25977678500342,\n        \"min\": -2.869693366226816,\n        \"max\": 700.0,\n        \"num_unique_values\": 8,\n        \"samples\": [\n          0.49806985439520013,\n          0.4749503733390704,\n          700.0\n        ],\n        \"semantic_type\": \"\",\n        \"description\": \"\"\n      }\n    },\n    {\n      \"column\": \"feat2\",\n      \"properties\": {\n        \"dtype\": \"number\",\n        \"std\": 247.46543195552303,\n        \"min\": -2.587213040479029,\n        \"max\": 700.0,\n        \"num_unique_values\": 8,\n        \"samples\": [\n          -0.1210274655449298,\n          -0.2077826664359059,\n          700.0\n        ],\n        \"semantic_type\": \"\",\n        \"description\": \"\"\n      }\n    },\n    {\n      \"column\": \"target\",\n      \"properties\": {\n        \"dtype\": \"number\",\n        \"std\": 247.34200405485205,\n        \"min\": 0.0,\n        \"max\": 700.0,\n        \"num_unique_values\": 5,\n        \"samples\": [\n          0.39571428571428574,\n          1.0,\n          0.4893532312320275\n        ],\n        \"semantic_type\": \"\",\n        \"description\": \"\"\n      }\n    }\n  ]\n}"
            }
          },
          "metadata": {},
          "execution_count": 150
        }
      ]
    },
    {
      "cell_type": "code",
      "source": [
        "# Los datos tienen igual proporción de registros (instancias) de cada clase. Son cases balanceadas.\n",
        "\n",
        "df_train.groupby('target').size()"
      ],
      "metadata": {
        "colab": {
          "base_uri": "https://localhost:8080/",
          "height": 178
        },
        "id": "H2YyO8zCXkwl",
        "outputId": "aef02b12-0489-4cfc-ea11-7d48e7569db3"
      },
      "execution_count": 151,
      "outputs": [
        {
          "output_type": "execute_result",
          "data": {
            "text/plain": [
              "target\n",
              "0    423\n",
              "1    277\n",
              "dtype: int64"
            ],
            "text/html": [
              "<div>\n",
              "<style scoped>\n",
              "    .dataframe tbody tr th:only-of-type {\n",
              "        vertical-align: middle;\n",
              "    }\n",
              "\n",
              "    .dataframe tbody tr th {\n",
              "        vertical-align: top;\n",
              "    }\n",
              "\n",
              "    .dataframe thead th {\n",
              "        text-align: right;\n",
              "    }\n",
              "</style>\n",
              "<table border=\"1\" class=\"dataframe\">\n",
              "  <thead>\n",
              "    <tr style=\"text-align: right;\">\n",
              "      <th></th>\n",
              "      <th>0</th>\n",
              "    </tr>\n",
              "    <tr>\n",
              "      <th>target</th>\n",
              "      <th></th>\n",
              "    </tr>\n",
              "  </thead>\n",
              "  <tbody>\n",
              "    <tr>\n",
              "      <th>0</th>\n",
              "      <td>423</td>\n",
              "    </tr>\n",
              "    <tr>\n",
              "      <th>1</th>\n",
              "      <td>277</td>\n",
              "    </tr>\n",
              "  </tbody>\n",
              "</table>\n",
              "</div><br><label><b>dtype:</b> int64</label>"
            ]
          },
          "metadata": {},
          "execution_count": 151
        }
      ]
    },
    {
      "cell_type": "code",
      "source": [
        "#   Debe entrenar un clasificador KNN y un modelo de regresión logística\n",
        "\n",
        "from sklearn.model_selection import train_test_split\n",
        "from sklearn.neighbors import KNeighborsClassifier\n",
        "from sklearn.linear_model import LogisticRegression\n",
        "from sklearn.metrics import accuracy_score\n",
        "\n",
        "\n",
        "# Prepare the data for training\n",
        "X_train = df_train.drop('target', axis=1)  # Features\n",
        "y_train = df_train['target']  # Target variable\n",
        "X_test = df_test.drop('target', axis=1)  # Features for testing\n",
        "y_test = df_test['target']  # Target variable for testing\n",
        "\n",
        "\n",
        "# Train a KNN classifier\n",
        "knn_classifier = KNeighborsClassifier(n_neighbors=5) # You can adjust n_neighbors\n",
        "knn_classifier.fit(X_train, y_train)\n",
        "knn_predictions = knn_classifier.predict(X_test)\n",
        "knn_accuracy = accuracy_score(y_test, knn_predictions)\n",
        "print(f\"KNN Accuracy: {knn_accuracy}\")\n",
        "\n",
        "# Train a Logistic Regression model\n",
        "logistic_regression = LogisticRegression(max_iter=1000)  # You may need to adjust max_iter for convergence\n",
        "logistic_regression.fit(X_train, y_train)\n",
        "lr_predictions = logistic_regression.predict(X_test)\n",
        "lr_accuracy = accuracy_score(y_test, lr_predictions)\n",
        "print(f\"Logistic Regression Accuracy: {lr_accuracy}\")"
      ],
      "metadata": {
        "colab": {
          "base_uri": "https://localhost:8080/"
        },
        "id": "OWLYXt2NsR5g",
        "outputId": "80c19c95-3746-45b9-fec6-ff146214e43d"
      },
      "execution_count": 152,
      "outputs": [
        {
          "output_type": "stream",
          "name": "stdout",
          "text": [
            "KNN Accuracy: 0.9133333333333333\n",
            "Logistic Regression Accuracy: 0.8\n"
          ]
        }
      ]
    },
    {
      "cell_type": "code",
      "source": [
        "#   Verdadero o Falso - Los datos tienen igual proporción de registros (instancias) de cada clase. Son clases balanceadas.\n",
        "class_counts = df_train['target'].value_counts()\n",
        "print(class_counts)\n",
        "\n",
        "# Check if the classes are balanced (e.g., within 10% of each other)\n",
        "if class_counts.min() / class_counts.max() > 0.9:\n",
        "    print(\"Verdadero: Los datos tienen una proporción similar de registros de cada clase.\")\n",
        "else:\n",
        "    print(\"Falso: Los datos no tienen una proporción similar de registros de cada clase.\")"
      ],
      "metadata": {
        "colab": {
          "base_uri": "https://localhost:8080/"
        },
        "id": "LKNNPaIisuTY",
        "outputId": "10a802e4-c63e-498f-92da-a3518bf3f51a"
      },
      "execution_count": 153,
      "outputs": [
        {
          "output_type": "stream",
          "name": "stdout",
          "text": [
            "target\n",
            "0    423\n",
            "1    277\n",
            "Name: count, dtype: int64\n",
            "Falso: Los datos no tienen una proporción similar de registros de cada clase.\n"
          ]
        }
      ]
    },
    {
      "cell_type": "code",
      "source": [
        "# Identifica el mejor valor de K - vecinos y su respectivo accuracy para el clasificador KNN entre Un k [3, 5 ,7]\n",
        "\n",
        "best_k = -1\n",
        "best_accuracy = -1\n",
        "\n",
        "# Test different k values\n",
        "for k in [3, 5, 7]:  # Iterate through your desired k-values\n",
        "    knn = KNeighborsClassifier(n_neighbors=k)\n",
        "    knn.fit(X_train, y_train)\n",
        "    y_pred = knn.predict(X_test)\n",
        "    accuracy = accuracy_score(y_test, y_pred)\n",
        "\n",
        "    print(f\"k = {k}, Accuracy = {accuracy}\")\n",
        "\n",
        "    if accuracy > best_accuracy:\n",
        "        best_accuracy = accuracy\n",
        "        best_k = k\n",
        "\n",
        "print(f\"\\nBest k: {best_k}, Best Accuracy: {best_accuracy}\")"
      ],
      "metadata": {
        "colab": {
          "base_uri": "https://localhost:8080/"
        },
        "id": "9C9ghnS7tufK",
        "outputId": "b2f57a04-40eb-4188-c388-4ec85a458f9b"
      },
      "execution_count": 154,
      "outputs": [
        {
          "output_type": "stream",
          "name": "stdout",
          "text": [
            "k = 3, Accuracy = 0.9233333333333333\n",
            "k = 5, Accuracy = 0.9133333333333333\n",
            "k = 7, Accuracy = 0.9166666666666666\n",
            "\n",
            "Best k: 3, Best Accuracy: 0.9233333333333333\n"
          ]
        }
      ]
    },
    {
      "cell_type": "code",
      "source": [
        "# Usando K=7, el número de falsos positivos es:\n",
        "from sklearn.metrics import confusion_matrix\n",
        "\n",
        "knn = KNeighborsClassifier(n_neighbors=7)\n",
        "knn.fit(X_train, y_train)\n",
        "y_pred_k7 = knn.predict(X_test)\n",
        "\n",
        "tn, fp, fn, tp = confusion_matrix(y_test, y_pred_k7).ravel()\n",
        "print(f\"Using K=7, the number of false positives is: {fp}\")"
      ],
      "metadata": {
        "colab": {
          "base_uri": "https://localhost:8080/"
        },
        "id": "o_FWGkkqud6R",
        "outputId": "f1b87500-f866-4902-e3bf-cefebbfc8808"
      },
      "execution_count": 155,
      "outputs": [
        {
          "output_type": "stream",
          "name": "stdout",
          "text": [
            "Using K=7, the number of false positives is: 8\n"
          ]
        }
      ]
    },
    {
      "cell_type": "code",
      "source": [
        "# Usando un modelo de regresión logística, selecciona los parámetros del modelo que más se aproximen a su estimación. No es necesario normalizar los datos:\n",
        "# Coeficientes, Intercepto\n",
        "\n",
        "# Train a Logistic Regression model\n",
        "logistic_regression = LogisticRegression(max_iter=1000)\n",
        "logistic_regression.fit(X_train, y_train)\n",
        "\n",
        "# Print the coefficients and intercept\n",
        "print(\"Coefficients:\", logistic_regression.coef_)\n",
        "print(\"Intercept:\", logistic_regression.intercept_)"
      ],
      "metadata": {
        "colab": {
          "base_uri": "https://localhost:8080/"
        },
        "id": "poVYEGhYu7Sh",
        "outputId": "1285cc63-3c78-4e45-df8f-0ad6325f2d6e"
      },
      "execution_count": 156,
      "outputs": [
        {
          "output_type": "stream",
          "name": "stdout",
          "text": [
            "Coefficients: [[-0.32542512  1.43318533]]\n",
            "Intercept: [-0.12096481]\n"
          ]
        }
      ]
    },
    {
      "cell_type": "markdown",
      "source": [
        "#Responder las siguientes preguntas 15 a 22  usando los datos del siguiente enlace:\n"
      ],
      "metadata": {
        "id": "NZH2IaLKvyHm"
      }
    },
    {
      "cell_type": "code",
      "source": [
        "#   cargar data1.data\n",
        "import pandas as pd\n",
        "try:\n",
        "    df = pd.read_csv('/content/datos_FEAT_SEL.data', sep=',') # Replace ',' with the correct separator if needed\n",
        "    print(df.shape) # Display the first few rows to verify\n",
        "except FileNotFoundError:\n",
        "    print(\"Error: 'datos_FEAT_SEL.data' file not found.\")\n",
        "except pd.errors.ParserError:\n",
        "    print(\"Error: Could not parse the file. Check the file format and separator.\")"
      ],
      "metadata": {
        "outputId": "f34ecda8-f361-4cc6-a99d-f3eac17dbde6",
        "colab": {
          "base_uri": "https://localhost:8080/"
        },
        "id": "6T4qXTOBw12k"
      },
      "execution_count": 157,
      "outputs": [
        {
          "output_type": "stream",
          "name": "stdout",
          "text": [
            "(10000, 1296)\n"
          ]
        }
      ]
    },
    {
      "cell_type": "code",
      "source": [
        "df.describe()"
      ],
      "metadata": {
        "colab": {
          "base_uri": "https://localhost:8080/",
          "height": 349
        },
        "id": "rqN7bnSkxNuf",
        "outputId": "79d23e5e-187d-45f9-f04e-65e8a6c878c3"
      },
      "execution_count": 158,
      "outputs": [
        {
          "output_type": "execute_result",
          "data": {
            "text/plain": [
              "       CNT_CHILDREN  AMT_INCOME_TOTAL    AMT_CREDIT    AMT_ANNUITY  \\\n",
              "count  10000.000000      1.000000e+04  1.000000e+04   10000.000000   \n",
              "mean       0.416300      1.674489e+05  6.007531e+05   27088.010550   \n",
              "std        0.722251      9.422260e+04  4.032643e+05   14384.946154   \n",
              "min        0.000000      2.565000e+04  4.500000e+04    2596.500000   \n",
              "25%        0.000000      1.125000e+05  2.700000e+05   16434.000000   \n",
              "50%        0.000000      1.440000e+05  5.130000e+05   24970.500000   \n",
              "75%        1.000000      2.025000e+05  8.100000e+05   34636.500000   \n",
              "max        7.000000      1.935000e+06  2.961000e+06  135936.000000   \n",
              "\n",
              "       AMT_GOODS_PRICE  REGION_POPULATION_RELATIVE    DAYS_BIRTH  \\\n",
              "count     9.993000e+03                10000.000000  10000.000000   \n",
              "mean      5.403851e+05                    0.020898 -16025.273100   \n",
              "std       3.708941e+05                    0.013909   4340.528828   \n",
              "min       4.500000e+04                    0.000938 -25160.000000   \n",
              "25%       2.385000e+05                    0.010006 -19595.250000   \n",
              "50%       4.500000e+05                    0.018850 -15783.500000   \n",
              "75%       6.840000e+05                    0.028663 -12388.750000   \n",
              "max       2.961000e+06                    0.072508  -7705.000000   \n",
              "\n",
              "       DAYS_EMPLOYED  DAYS_REGISTRATION  DAYS_ID_PUBLISH  ...  \\\n",
              "count    10000.00000       10000.000000      10000.00000  ...   \n",
              "mean     62821.78480       -4986.483900      -2983.38080  ...   \n",
              "std     140464.31594        3540.591931       1512.51078  ...   \n",
              "min     -15632.00000      -20981.000000      -6228.00000  ...   \n",
              "25%      -2818.25000       -7491.250000      -4297.00000  ...   \n",
              "50%      -1224.00000       -4478.000000      -3227.00000  ...   \n",
              "75%       -286.75000       -2004.000000      -1707.00000  ...   \n",
              "max     365243.00000           0.000000          0.00000  ...   \n",
              "\n",
              "       client_credit_CNT_DRAWINGS_OTHER_CURRENT_max_min  \\\n",
              "count                                       1925.000000   \n",
              "mean                                           0.109091   \n",
              "std                                            0.380864   \n",
              "min                                            0.000000   \n",
              "25%                                            0.000000   \n",
              "50%                                            0.000000   \n",
              "75%                                            0.000000   \n",
              "max                                            5.000000   \n",
              "\n",
              "       previous_loans_CNT_PAYMENT_sum  \\\n",
              "count                     9515.000000   \n",
              "mean                        61.418287   \n",
              "std                         75.359647   \n",
              "min                          0.000000   \n",
              "25%                         18.000000   \n",
              "50%                         36.000000   \n",
              "75%                         78.000000   \n",
              "max                       1252.000000   \n",
              "\n",
              "       previous_loans_NFLAG_LAST_APPL_IN_DAY_mean  \\\n",
              "count                                 9515.000000   \n",
              "mean                                     0.997547   \n",
              "std                                      0.023459   \n",
              "min                                      0.454545   \n",
              "25%                                      1.000000   \n",
              "50%                                      1.000000   \n",
              "75%                                      1.000000   \n",
              "max                                      1.000000   \n",
              "\n",
              "       client_credit_AMT_INST_MIN_REGULARITY_max_mean  \\\n",
              "count                                     2797.000000   \n",
              "mean                                      7097.791624   \n",
              "std                                       8525.691828   \n",
              "min                                          0.000000   \n",
              "25%                                          0.000000   \n",
              "50%                                       4698.450000   \n",
              "75%                                       9503.190000   \n",
              "max                                      47344.815000   \n",
              "\n",
              "       client_credit_SK_DPD_DEF_max_min  \\\n",
              "count                       2797.000000   \n",
              "mean                           0.430819   \n",
              "std                            2.312640   \n",
              "min                            0.000000   \n",
              "25%                            0.000000   \n",
              "50%                            0.000000   \n",
              "75%                            0.000000   \n",
              "max                           60.000000   \n",
              "\n",
              "       client_credit_AMT_DRAWINGS_POS_CURRENT_sum_mean  \\\n",
              "count                                     2.797000e+03   \n",
              "mean                                      8.127504e+04   \n",
              "std                                       3.727027e+05   \n",
              "min                                       0.000000e+00   \n",
              "25%                                       0.000000e+00   \n",
              "50%                                       0.000000e+00   \n",
              "75%                                       4.857840e+04   \n",
              "max                                       1.446357e+07   \n",
              "\n",
              "       client_credit_AMT_PAYMENT_CURRENT_max_sum  \\\n",
              "count                               2.797000e+03   \n",
              "mean                                3.294789e+06   \n",
              "std                                 6.212823e+06   \n",
              "min                                 0.000000e+00   \n",
              "25%                                 0.000000e+00   \n",
              "50%                                 7.100460e+05   \n",
              "75%                                 4.387500e+06   \n",
              "max                                 1.704000e+08   \n",
              "\n",
              "       client_installments_AMT_INSTALMENT_mean_sum  \\\n",
              "count                                 9.532000e+03   \n",
              "mean                                  6.767073e+05   \n",
              "std                                   9.316769e+05   \n",
              "min                                   9.450000e-01   \n",
              "25%                                   1.309939e+05   \n",
              "50%                                   3.192946e+05   \n",
              "75%                                   8.288479e+05   \n",
              "max                                   1.475254e+07   \n",
              "\n",
              "       client_credit_AMT_DRAWINGS_CURRENT_min_mean  \\\n",
              "count                                  2797.000000   \n",
              "mean                                    507.801019   \n",
              "std                                    6485.513595   \n",
              "min                                       0.000000   \n",
              "25%                                       0.000000   \n",
              "50%                                       0.000000   \n",
              "75%                                       0.000000   \n",
              "max                                  223554.645000   \n",
              "\n",
              "       previous_loans_NAME_GOODS_CATEGORY_Computers_count_norm  \n",
              "count                                        9515.000000        \n",
              "mean                                            0.083986        \n",
              "std                                             0.200241        \n",
              "min                                             0.000000        \n",
              "25%                                             0.000000        \n",
              "50%                                             0.000000        \n",
              "75%                                             0.000000        \n",
              "max                                             1.000000        \n",
              "\n",
              "[8 rows x 1280 columns]"
            ],
            "text/html": [
              "\n",
              "  <div id=\"df-b6c55c96-956a-4cce-817b-bc7eeb2f0803\" class=\"colab-df-container\">\n",
              "    <div>\n",
              "<style scoped>\n",
              "    .dataframe tbody tr th:only-of-type {\n",
              "        vertical-align: middle;\n",
              "    }\n",
              "\n",
              "    .dataframe tbody tr th {\n",
              "        vertical-align: top;\n",
              "    }\n",
              "\n",
              "    .dataframe thead th {\n",
              "        text-align: right;\n",
              "    }\n",
              "</style>\n",
              "<table border=\"1\" class=\"dataframe\">\n",
              "  <thead>\n",
              "    <tr style=\"text-align: right;\">\n",
              "      <th></th>\n",
              "      <th>CNT_CHILDREN</th>\n",
              "      <th>AMT_INCOME_TOTAL</th>\n",
              "      <th>AMT_CREDIT</th>\n",
              "      <th>AMT_ANNUITY</th>\n",
              "      <th>AMT_GOODS_PRICE</th>\n",
              "      <th>REGION_POPULATION_RELATIVE</th>\n",
              "      <th>DAYS_BIRTH</th>\n",
              "      <th>DAYS_EMPLOYED</th>\n",
              "      <th>DAYS_REGISTRATION</th>\n",
              "      <th>DAYS_ID_PUBLISH</th>\n",
              "      <th>...</th>\n",
              "      <th>client_credit_CNT_DRAWINGS_OTHER_CURRENT_max_min</th>\n",
              "      <th>previous_loans_CNT_PAYMENT_sum</th>\n",
              "      <th>previous_loans_NFLAG_LAST_APPL_IN_DAY_mean</th>\n",
              "      <th>client_credit_AMT_INST_MIN_REGULARITY_max_mean</th>\n",
              "      <th>client_credit_SK_DPD_DEF_max_min</th>\n",
              "      <th>client_credit_AMT_DRAWINGS_POS_CURRENT_sum_mean</th>\n",
              "      <th>client_credit_AMT_PAYMENT_CURRENT_max_sum</th>\n",
              "      <th>client_installments_AMT_INSTALMENT_mean_sum</th>\n",
              "      <th>client_credit_AMT_DRAWINGS_CURRENT_min_mean</th>\n",
              "      <th>previous_loans_NAME_GOODS_CATEGORY_Computers_count_norm</th>\n",
              "    </tr>\n",
              "  </thead>\n",
              "  <tbody>\n",
              "    <tr>\n",
              "      <th>count</th>\n",
              "      <td>10000.000000</td>\n",
              "      <td>1.000000e+04</td>\n",
              "      <td>1.000000e+04</td>\n",
              "      <td>10000.000000</td>\n",
              "      <td>9.993000e+03</td>\n",
              "      <td>10000.000000</td>\n",
              "      <td>10000.000000</td>\n",
              "      <td>10000.00000</td>\n",
              "      <td>10000.000000</td>\n",
              "      <td>10000.00000</td>\n",
              "      <td>...</td>\n",
              "      <td>1925.000000</td>\n",
              "      <td>9515.000000</td>\n",
              "      <td>9515.000000</td>\n",
              "      <td>2797.000000</td>\n",
              "      <td>2797.000000</td>\n",
              "      <td>2.797000e+03</td>\n",
              "      <td>2.797000e+03</td>\n",
              "      <td>9.532000e+03</td>\n",
              "      <td>2797.000000</td>\n",
              "      <td>9515.000000</td>\n",
              "    </tr>\n",
              "    <tr>\n",
              "      <th>mean</th>\n",
              "      <td>0.416300</td>\n",
              "      <td>1.674489e+05</td>\n",
              "      <td>6.007531e+05</td>\n",
              "      <td>27088.010550</td>\n",
              "      <td>5.403851e+05</td>\n",
              "      <td>0.020898</td>\n",
              "      <td>-16025.273100</td>\n",
              "      <td>62821.78480</td>\n",
              "      <td>-4986.483900</td>\n",
              "      <td>-2983.38080</td>\n",
              "      <td>...</td>\n",
              "      <td>0.109091</td>\n",
              "      <td>61.418287</td>\n",
              "      <td>0.997547</td>\n",
              "      <td>7097.791624</td>\n",
              "      <td>0.430819</td>\n",
              "      <td>8.127504e+04</td>\n",
              "      <td>3.294789e+06</td>\n",
              "      <td>6.767073e+05</td>\n",
              "      <td>507.801019</td>\n",
              "      <td>0.083986</td>\n",
              "    </tr>\n",
              "    <tr>\n",
              "      <th>std</th>\n",
              "      <td>0.722251</td>\n",
              "      <td>9.422260e+04</td>\n",
              "      <td>4.032643e+05</td>\n",
              "      <td>14384.946154</td>\n",
              "      <td>3.708941e+05</td>\n",
              "      <td>0.013909</td>\n",
              "      <td>4340.528828</td>\n",
              "      <td>140464.31594</td>\n",
              "      <td>3540.591931</td>\n",
              "      <td>1512.51078</td>\n",
              "      <td>...</td>\n",
              "      <td>0.380864</td>\n",
              "      <td>75.359647</td>\n",
              "      <td>0.023459</td>\n",
              "      <td>8525.691828</td>\n",
              "      <td>2.312640</td>\n",
              "      <td>3.727027e+05</td>\n",
              "      <td>6.212823e+06</td>\n",
              "      <td>9.316769e+05</td>\n",
              "      <td>6485.513595</td>\n",
              "      <td>0.200241</td>\n",
              "    </tr>\n",
              "    <tr>\n",
              "      <th>min</th>\n",
              "      <td>0.000000</td>\n",
              "      <td>2.565000e+04</td>\n",
              "      <td>4.500000e+04</td>\n",
              "      <td>2596.500000</td>\n",
              "      <td>4.500000e+04</td>\n",
              "      <td>0.000938</td>\n",
              "      <td>-25160.000000</td>\n",
              "      <td>-15632.00000</td>\n",
              "      <td>-20981.000000</td>\n",
              "      <td>-6228.00000</td>\n",
              "      <td>...</td>\n",
              "      <td>0.000000</td>\n",
              "      <td>0.000000</td>\n",
              "      <td>0.454545</td>\n",
              "      <td>0.000000</td>\n",
              "      <td>0.000000</td>\n",
              "      <td>0.000000e+00</td>\n",
              "      <td>0.000000e+00</td>\n",
              "      <td>9.450000e-01</td>\n",
              "      <td>0.000000</td>\n",
              "      <td>0.000000</td>\n",
              "    </tr>\n",
              "    <tr>\n",
              "      <th>25%</th>\n",
              "      <td>0.000000</td>\n",
              "      <td>1.125000e+05</td>\n",
              "      <td>2.700000e+05</td>\n",
              "      <td>16434.000000</td>\n",
              "      <td>2.385000e+05</td>\n",
              "      <td>0.010006</td>\n",
              "      <td>-19595.250000</td>\n",
              "      <td>-2818.25000</td>\n",
              "      <td>-7491.250000</td>\n",
              "      <td>-4297.00000</td>\n",
              "      <td>...</td>\n",
              "      <td>0.000000</td>\n",
              "      <td>18.000000</td>\n",
              "      <td>1.000000</td>\n",
              "      <td>0.000000</td>\n",
              "      <td>0.000000</td>\n",
              "      <td>0.000000e+00</td>\n",
              "      <td>0.000000e+00</td>\n",
              "      <td>1.309939e+05</td>\n",
              "      <td>0.000000</td>\n",
              "      <td>0.000000</td>\n",
              "    </tr>\n",
              "    <tr>\n",
              "      <th>50%</th>\n",
              "      <td>0.000000</td>\n",
              "      <td>1.440000e+05</td>\n",
              "      <td>5.130000e+05</td>\n",
              "      <td>24970.500000</td>\n",
              "      <td>4.500000e+05</td>\n",
              "      <td>0.018850</td>\n",
              "      <td>-15783.500000</td>\n",
              "      <td>-1224.00000</td>\n",
              "      <td>-4478.000000</td>\n",
              "      <td>-3227.00000</td>\n",
              "      <td>...</td>\n",
              "      <td>0.000000</td>\n",
              "      <td>36.000000</td>\n",
              "      <td>1.000000</td>\n",
              "      <td>4698.450000</td>\n",
              "      <td>0.000000</td>\n",
              "      <td>0.000000e+00</td>\n",
              "      <td>7.100460e+05</td>\n",
              "      <td>3.192946e+05</td>\n",
              "      <td>0.000000</td>\n",
              "      <td>0.000000</td>\n",
              "    </tr>\n",
              "    <tr>\n",
              "      <th>75%</th>\n",
              "      <td>1.000000</td>\n",
              "      <td>2.025000e+05</td>\n",
              "      <td>8.100000e+05</td>\n",
              "      <td>34636.500000</td>\n",
              "      <td>6.840000e+05</td>\n",
              "      <td>0.028663</td>\n",
              "      <td>-12388.750000</td>\n",
              "      <td>-286.75000</td>\n",
              "      <td>-2004.000000</td>\n",
              "      <td>-1707.00000</td>\n",
              "      <td>...</td>\n",
              "      <td>0.000000</td>\n",
              "      <td>78.000000</td>\n",
              "      <td>1.000000</td>\n",
              "      <td>9503.190000</td>\n",
              "      <td>0.000000</td>\n",
              "      <td>4.857840e+04</td>\n",
              "      <td>4.387500e+06</td>\n",
              "      <td>8.288479e+05</td>\n",
              "      <td>0.000000</td>\n",
              "      <td>0.000000</td>\n",
              "    </tr>\n",
              "    <tr>\n",
              "      <th>max</th>\n",
              "      <td>7.000000</td>\n",
              "      <td>1.935000e+06</td>\n",
              "      <td>2.961000e+06</td>\n",
              "      <td>135936.000000</td>\n",
              "      <td>2.961000e+06</td>\n",
              "      <td>0.072508</td>\n",
              "      <td>-7705.000000</td>\n",
              "      <td>365243.00000</td>\n",
              "      <td>0.000000</td>\n",
              "      <td>0.00000</td>\n",
              "      <td>...</td>\n",
              "      <td>5.000000</td>\n",
              "      <td>1252.000000</td>\n",
              "      <td>1.000000</td>\n",
              "      <td>47344.815000</td>\n",
              "      <td>60.000000</td>\n",
              "      <td>1.446357e+07</td>\n",
              "      <td>1.704000e+08</td>\n",
              "      <td>1.475254e+07</td>\n",
              "      <td>223554.645000</td>\n",
              "      <td>1.000000</td>\n",
              "    </tr>\n",
              "  </tbody>\n",
              "</table>\n",
              "<p>8 rows × 1280 columns</p>\n",
              "</div>\n",
              "    <div class=\"colab-df-buttons\">\n",
              "\n",
              "  <div class=\"colab-df-container\">\n",
              "    <button class=\"colab-df-convert\" onclick=\"convertToInteractive('df-b6c55c96-956a-4cce-817b-bc7eeb2f0803')\"\n",
              "            title=\"Convert this dataframe to an interactive table.\"\n",
              "            style=\"display:none;\">\n",
              "\n",
              "  <svg xmlns=\"http://www.w3.org/2000/svg\" height=\"24px\" viewBox=\"0 -960 960 960\">\n",
              "    <path d=\"M120-120v-720h720v720H120Zm60-500h600v-160H180v160Zm220 220h160v-160H400v160Zm0 220h160v-160H400v160ZM180-400h160v-160H180v160Zm440 0h160v-160H620v160ZM180-180h160v-160H180v160Zm440 0h160v-160H620v160Z\"/>\n",
              "  </svg>\n",
              "    </button>\n",
              "\n",
              "  <style>\n",
              "    .colab-df-container {\n",
              "      display:flex;\n",
              "      gap: 12px;\n",
              "    }\n",
              "\n",
              "    .colab-df-convert {\n",
              "      background-color: #E8F0FE;\n",
              "      border: none;\n",
              "      border-radius: 50%;\n",
              "      cursor: pointer;\n",
              "      display: none;\n",
              "      fill: #1967D2;\n",
              "      height: 32px;\n",
              "      padding: 0 0 0 0;\n",
              "      width: 32px;\n",
              "    }\n",
              "\n",
              "    .colab-df-convert:hover {\n",
              "      background-color: #E2EBFA;\n",
              "      box-shadow: 0px 1px 2px rgba(60, 64, 67, 0.3), 0px 1px 3px 1px rgba(60, 64, 67, 0.15);\n",
              "      fill: #174EA6;\n",
              "    }\n",
              "\n",
              "    .colab-df-buttons div {\n",
              "      margin-bottom: 4px;\n",
              "    }\n",
              "\n",
              "    [theme=dark] .colab-df-convert {\n",
              "      background-color: #3B4455;\n",
              "      fill: #D2E3FC;\n",
              "    }\n",
              "\n",
              "    [theme=dark] .colab-df-convert:hover {\n",
              "      background-color: #434B5C;\n",
              "      box-shadow: 0px 1px 3px 1px rgba(0, 0, 0, 0.15);\n",
              "      filter: drop-shadow(0px 1px 2px rgba(0, 0, 0, 0.3));\n",
              "      fill: #FFFFFF;\n",
              "    }\n",
              "  </style>\n",
              "\n",
              "    <script>\n",
              "      const buttonEl =\n",
              "        document.querySelector('#df-b6c55c96-956a-4cce-817b-bc7eeb2f0803 button.colab-df-convert');\n",
              "      buttonEl.style.display =\n",
              "        google.colab.kernel.accessAllowed ? 'block' : 'none';\n",
              "\n",
              "      async function convertToInteractive(key) {\n",
              "        const element = document.querySelector('#df-b6c55c96-956a-4cce-817b-bc7eeb2f0803');\n",
              "        const dataTable =\n",
              "          await google.colab.kernel.invokeFunction('convertToInteractive',\n",
              "                                                    [key], {});\n",
              "        if (!dataTable) return;\n",
              "\n",
              "        const docLinkHtml = 'Like what you see? Visit the ' +\n",
              "          '<a target=\"_blank\" href=https://colab.research.google.com/notebooks/data_table.ipynb>data table notebook</a>'\n",
              "          + ' to learn more about interactive tables.';\n",
              "        element.innerHTML = '';\n",
              "        dataTable['output_type'] = 'display_data';\n",
              "        await google.colab.output.renderOutput(dataTable, element);\n",
              "        const docLink = document.createElement('div');\n",
              "        docLink.innerHTML = docLinkHtml;\n",
              "        element.appendChild(docLink);\n",
              "      }\n",
              "    </script>\n",
              "  </div>\n",
              "\n",
              "\n",
              "<div id=\"df-2b064589-10fa-49e6-ac79-c050177bd071\">\n",
              "  <button class=\"colab-df-quickchart\" onclick=\"quickchart('df-2b064589-10fa-49e6-ac79-c050177bd071')\"\n",
              "            title=\"Suggest charts\"\n",
              "            style=\"display:none;\">\n",
              "\n",
              "<svg xmlns=\"http://www.w3.org/2000/svg\" height=\"24px\"viewBox=\"0 0 24 24\"\n",
              "     width=\"24px\">\n",
              "    <g>\n",
              "        <path d=\"M19 3H5c-1.1 0-2 .9-2 2v14c0 1.1.9 2 2 2h14c1.1 0 2-.9 2-2V5c0-1.1-.9-2-2-2zM9 17H7v-7h2v7zm4 0h-2V7h2v10zm4 0h-2v-4h2v4z\"/>\n",
              "    </g>\n",
              "</svg>\n",
              "  </button>\n",
              "\n",
              "<style>\n",
              "  .colab-df-quickchart {\n",
              "      --bg-color: #E8F0FE;\n",
              "      --fill-color: #1967D2;\n",
              "      --hover-bg-color: #E2EBFA;\n",
              "      --hover-fill-color: #174EA6;\n",
              "      --disabled-fill-color: #AAA;\n",
              "      --disabled-bg-color: #DDD;\n",
              "  }\n",
              "\n",
              "  [theme=dark] .colab-df-quickchart {\n",
              "      --bg-color: #3B4455;\n",
              "      --fill-color: #D2E3FC;\n",
              "      --hover-bg-color: #434B5C;\n",
              "      --hover-fill-color: #FFFFFF;\n",
              "      --disabled-bg-color: #3B4455;\n",
              "      --disabled-fill-color: #666;\n",
              "  }\n",
              "\n",
              "  .colab-df-quickchart {\n",
              "    background-color: var(--bg-color);\n",
              "    border: none;\n",
              "    border-radius: 50%;\n",
              "    cursor: pointer;\n",
              "    display: none;\n",
              "    fill: var(--fill-color);\n",
              "    height: 32px;\n",
              "    padding: 0;\n",
              "    width: 32px;\n",
              "  }\n",
              "\n",
              "  .colab-df-quickchart:hover {\n",
              "    background-color: var(--hover-bg-color);\n",
              "    box-shadow: 0 1px 2px rgba(60, 64, 67, 0.3), 0 1px 3px 1px rgba(60, 64, 67, 0.15);\n",
              "    fill: var(--button-hover-fill-color);\n",
              "  }\n",
              "\n",
              "  .colab-df-quickchart-complete:disabled,\n",
              "  .colab-df-quickchart-complete:disabled:hover {\n",
              "    background-color: var(--disabled-bg-color);\n",
              "    fill: var(--disabled-fill-color);\n",
              "    box-shadow: none;\n",
              "  }\n",
              "\n",
              "  .colab-df-spinner {\n",
              "    border: 2px solid var(--fill-color);\n",
              "    border-color: transparent;\n",
              "    border-bottom-color: var(--fill-color);\n",
              "    animation:\n",
              "      spin 1s steps(1) infinite;\n",
              "  }\n",
              "\n",
              "  @keyframes spin {\n",
              "    0% {\n",
              "      border-color: transparent;\n",
              "      border-bottom-color: var(--fill-color);\n",
              "      border-left-color: var(--fill-color);\n",
              "    }\n",
              "    20% {\n",
              "      border-color: transparent;\n",
              "      border-left-color: var(--fill-color);\n",
              "      border-top-color: var(--fill-color);\n",
              "    }\n",
              "    30% {\n",
              "      border-color: transparent;\n",
              "      border-left-color: var(--fill-color);\n",
              "      border-top-color: var(--fill-color);\n",
              "      border-right-color: var(--fill-color);\n",
              "    }\n",
              "    40% {\n",
              "      border-color: transparent;\n",
              "      border-right-color: var(--fill-color);\n",
              "      border-top-color: var(--fill-color);\n",
              "    }\n",
              "    60% {\n",
              "      border-color: transparent;\n",
              "      border-right-color: var(--fill-color);\n",
              "    }\n",
              "    80% {\n",
              "      border-color: transparent;\n",
              "      border-right-color: var(--fill-color);\n",
              "      border-bottom-color: var(--fill-color);\n",
              "    }\n",
              "    90% {\n",
              "      border-color: transparent;\n",
              "      border-bottom-color: var(--fill-color);\n",
              "    }\n",
              "  }\n",
              "</style>\n",
              "\n",
              "  <script>\n",
              "    async function quickchart(key) {\n",
              "      const quickchartButtonEl =\n",
              "        document.querySelector('#' + key + ' button');\n",
              "      quickchartButtonEl.disabled = true;  // To prevent multiple clicks.\n",
              "      quickchartButtonEl.classList.add('colab-df-spinner');\n",
              "      try {\n",
              "        const charts = await google.colab.kernel.invokeFunction(\n",
              "            'suggestCharts', [key], {});\n",
              "      } catch (error) {\n",
              "        console.error('Error during call to suggestCharts:', error);\n",
              "      }\n",
              "      quickchartButtonEl.classList.remove('colab-df-spinner');\n",
              "      quickchartButtonEl.classList.add('colab-df-quickchart-complete');\n",
              "    }\n",
              "    (() => {\n",
              "      let quickchartButtonEl =\n",
              "        document.querySelector('#df-2b064589-10fa-49e6-ac79-c050177bd071 button');\n",
              "      quickchartButtonEl.style.display =\n",
              "        google.colab.kernel.accessAllowed ? 'block' : 'none';\n",
              "    })();\n",
              "  </script>\n",
              "</div>\n",
              "\n",
              "    </div>\n",
              "  </div>\n"
            ],
            "application/vnd.google.colaboratory.intrinsic+json": {
              "type": "dataframe"
            }
          },
          "metadata": {},
          "execution_count": 158
        }
      ]
    },
    {
      "cell_type": "code",
      "source": [
        "df.info()"
      ],
      "metadata": {
        "colab": {
          "base_uri": "https://localhost:8080/"
        },
        "id": "q50F2S1G4ycB",
        "outputId": "d627428b-fd0f-4323-f4b9-6d7b7fe64115"
      },
      "execution_count": 159,
      "outputs": [
        {
          "output_type": "stream",
          "name": "stdout",
          "text": [
            "<class 'pandas.core.frame.DataFrame'>\n",
            "RangeIndex: 10000 entries, 0 to 9999\n",
            "Columns: 1296 entries, NAME_CONTRACT_TYPE to previous_loans_NAME_GOODS_CATEGORY_Computers_count_norm\n",
            "dtypes: float64(1240), int64(40), object(16)\n",
            "memory usage: 98.9+ MB\n"
          ]
        }
      ]
    },
    {
      "cell_type": "code",
      "source": [
        "df.columns"
      ],
      "metadata": {
        "colab": {
          "base_uri": "https://localhost:8080/"
        },
        "id": "vfVW1C61xXO6",
        "outputId": "da146e11-adc0-410e-e432-dce5d0912a36"
      },
      "execution_count": 160,
      "outputs": [
        {
          "output_type": "execute_result",
          "data": {
            "text/plain": [
              "Index(['NAME_CONTRACT_TYPE', 'CODE_GENDER', 'FLAG_OWN_CAR', 'FLAG_OWN_REALTY',\n",
              "       'CNT_CHILDREN', 'AMT_INCOME_TOTAL', 'AMT_CREDIT', 'AMT_ANNUITY',\n",
              "       'AMT_GOODS_PRICE', 'NAME_TYPE_SUITE',\n",
              "       ...\n",
              "       'client_credit_CNT_DRAWINGS_OTHER_CURRENT_max_min',\n",
              "       'previous_loans_CNT_PAYMENT_sum',\n",
              "       'previous_loans_NFLAG_LAST_APPL_IN_DAY_mean',\n",
              "       'client_credit_AMT_INST_MIN_REGULARITY_max_mean',\n",
              "       'client_credit_SK_DPD_DEF_max_min',\n",
              "       'client_credit_AMT_DRAWINGS_POS_CURRENT_sum_mean',\n",
              "       'client_credit_AMT_PAYMENT_CURRENT_max_sum',\n",
              "       'client_installments_AMT_INSTALMENT_mean_sum',\n",
              "       'client_credit_AMT_DRAWINGS_CURRENT_min_mean',\n",
              "       'previous_loans_NAME_GOODS_CATEGORY_Computers_count_norm'],\n",
              "      dtype='object', length=1296)"
            ]
          },
          "metadata": {},
          "execution_count": 160
        }
      ]
    },
    {
      "cell_type": "code",
      "source": [
        "#   FALSO o VERDADERO: La base de datos está balanceada\n",
        "\n",
        "class_counts = df['TARGET'].value_counts()\n",
        "print(class_counts)\n",
        "\n",
        "# Check if the classes are balanced (e.g., within 10% of each other)\n",
        "if class_counts.min() / class_counts.max() > 0.9:\n",
        "    print(\"Verdadero: Los datos tienen una proporción similar de registros de cada clase.\")\n",
        "else:\n",
        "    print(\"Falso: Los datos no tienen una proporción similar de registros de cada clase.\")"
      ],
      "metadata": {
        "colab": {
          "base_uri": "https://localhost:8080/"
        },
        "id": "8SnzcOoZxIA6",
        "outputId": "480fab26-3db2-4f06-e042-440b9552b863"
      },
      "execution_count": 161,
      "outputs": [
        {
          "output_type": "stream",
          "name": "stdout",
          "text": [
            "TARGET\n",
            "0    9225\n",
            "1     775\n",
            "Name: count, dtype: int64\n",
            "Falso: Los datos no tienen una proporción similar de registros de cada clase.\n"
          ]
        }
      ]
    },
    {
      "cell_type": "code",
      "source": [
        "#   El número de variables, sin incluir la variable objetivo, es:\n",
        "num_variables = len(df.columns) - 1  # Subtract 1 for the target variable\n",
        "print(f\"El número de variables, sin incluir la variable objetivo, es: {num_variables}\")"
      ],
      "metadata": {
        "colab": {
          "base_uri": "https://localhost:8080/"
        },
        "id": "CNLhLwefx_Pm",
        "outputId": "7a7a772c-7964-4ad5-e53d-6895e64dabae"
      },
      "execution_count": 162,
      "outputs": [
        {
          "output_type": "stream",
          "name": "stdout",
          "text": [
            "El número de variables, sin incluir la variable objetivo, es: 1295\n"
          ]
        }
      ]
    },
    {
      "cell_type": "code",
      "source": [
        "#   Del dataset '/content/datos_FEAT_SEL.data'\n",
        "# Separar la columna \"TARGET\" y eliminar dicha columna del dataframe original.\n",
        "# Identiifica cuantas varibles existen antes de  aplicar one-hot-ecoding\n",
        "# Crea una funcion para Aplicar one-hot-ecoding no usar OneHotEncoder separando las variables numericas de las categoricas\n",
        "# Cuenta el  nuevo número de variables\n",
        "\n",
        "import pandas as pd\n",
        "import numpy as np\n",
        "# Assuming 'df' is your DataFrame loaded from 'datos_FEAT_SEL.data'\n",
        "try:\n",
        "    df = pd.read_csv('/content/datos_FEAT_SEL.data', sep=',')\n",
        "    print(df.shape)\n",
        "except FileNotFoundError:\n",
        "    print(\"Error: 'datos_FEAT_SEL.data' file not found.\")\n",
        "except pd.errors.ParserError:\n",
        "    print(\"Error: Could not parse the file. Check the file format and separator.\")\n",
        "\n",
        "# Separate the target variable\n",
        "target_variable = df['TARGET']\n",
        "df = df.drop('TARGET', axis=1)\n",
        "\n",
        "# Identify the number of variables before one-hot encoding\n",
        "num_variables_before = len(df.columns)\n",
        "print(f\"Number of variables before one-hot encoding: {num_variables_before}\")\n",
        "\n",
        "\n",
        "def apply_one_hot_encoding(df):\n",
        "     # Identify numerical and categorical columns\n",
        "    numerical_cols = df.select_dtypes(include=np.number).columns\n",
        "    categorical_cols = df.select_dtypes(exclude=np.number).columns\n",
        "\n",
        "    # Create a new DataFrame to store the encoded features\n",
        "    encoded_df = pd.DataFrame()\n",
        "\n",
        "    # Add numerical columns as they are\n",
        "    encoded_df = pd.concat([encoded_df, df[numerical_cols]], axis=1)\n",
        "\n",
        "\n",
        "    # Apply one-hot encoding to categorical features\n",
        "    for col in categorical_cols:\n",
        "        dummies = pd.get_dummies(df[col], prefix=col)\n",
        "        encoded_df = pd.concat([encoded_df, dummies], axis=1)\n",
        "\n",
        "    return encoded_df\n",
        "\n",
        "# Apply one-hot encoding\n",
        "encoded_df = apply_one_hot_encoding(df)\n",
        "\n",
        "\n",
        "# Count the new number of variables\n",
        "num_variables_after = len(encoded_df.columns)\n",
        "print(f\"Number of variables after one-hot encoding: {num_variables_after}\")"
      ],
      "metadata": {
        "colab": {
          "base_uri": "https://localhost:8080/"
        },
        "id": "owwfW-r3LCpe",
        "outputId": "3c2b8f3f-6997-45e0-cfe6-39a476b082d5"
      },
      "execution_count": 163,
      "outputs": [
        {
          "output_type": "stream",
          "name": "stdout",
          "text": [
            "(10000, 1296)\n",
            "Number of variables before one-hot encoding: 1295\n",
            "Number of variables after one-hot encoding: 1414\n"
          ]
        }
      ]
    },
    {
      "cell_type": "code",
      "source": [
        "#   Calcular la matriz de correlación. Esta matriz mide la correlación entre todos los pares de variables. Debes eliminar una de las variables (de cada par evaluado) cuando el valor absoluto de la correlación supere 0.9. El número de variables resultantes es:\n",
        "\n",
        "# Assuming 'df' is your DataFrame loaded from 'datos_FEAT_SEL.data'\n",
        "import pandas as pd\n",
        "import numpy as np\n",
        "\n",
        "# Calculate the correlation matrix\n",
        "correlation_matrix = encoded_df.corr()\n",
        "\n",
        "# Iterate through the correlation matrix\n",
        "variables_to_remove = set()\n",
        "for i in range(len(correlation_matrix.columns)):\n",
        "  for j in range(i + 1, len(correlation_matrix.columns)):\n",
        "    if abs(correlation_matrix.iloc[i, j]) > 0.9:\n",
        "      variables_to_remove.add(correlation_matrix.columns[j])\n",
        "\n",
        "# Remove highly correlated variables\n",
        "df_filtered = encoded_df.drop(columns=list(variables_to_remove))\n",
        "\n",
        "# Count the remaining variables\n",
        "num_remaining_variables = len(df_filtered.columns)\n",
        "print(f\"Number of variables after removing highly correlated ones: {num_remaining_variables}\")"
      ],
      "metadata": {
        "colab": {
          "base_uri": "https://localhost:8080/"
        },
        "id": "WCf2hOuYL13z",
        "outputId": "96236e6c-9dd7-4b9f-a96b-f56c5042b766"
      },
      "execution_count": 164,
      "outputs": [
        {
          "output_type": "stream",
          "name": "stdout",
          "text": [
            "Number of variables after removing highly correlated ones: 878\n"
          ]
        }
      ]
    },
    {
      "cell_type": "code",
      "source": [
        "#   Separar la columna \"TARGET\" y eliminar dicha columna del dataframe original.\n",
        "# Identiifica cuantas varibles existen antes de  aplicar one-hot-ecoding\n",
        "# Crea una funcion para Aplicar one-hot-ecoding no usar OneHotEncoder separando las variables numericas de las categoricas\n",
        "# calcular: matriz de confusión, precision, recall, y AUC (Área bajo la curva ROC). Use la siguiente configuración:\n",
        "# # X_train, X_test, y_train, y_test = train_test_split(X, y, test_size=0.3, random_state=42, stratify=y)\n",
        "# # rf_classifier = RandomForestClassifier(random_state=42)\n",
        "# # xgb_classifier = XGBClassifier(use_label_encoder=False, eval_metric='logloss', random_state=42)\n",
        "\n",
        "import pandas as pd\n",
        "import numpy as np\n",
        "import warnings\n",
        "warnings.filterwarnings('ignore')\n",
        "from sklearn.model_selection import train_test_split\n",
        "from sklearn.ensemble import RandomForestClassifier\n",
        "from xgboost import XGBClassifier\n",
        "from sklearn.metrics import confusion_matrix, precision_score, recall_score, roc_curve, auc\n",
        "\n",
        "\n",
        "# Assuming 'df' is your DataFrame loaded from 'datos_FEAT_SEL.data'\n",
        "try:\n",
        "    df = pd.read_csv('/content/datos_FEAT_SEL.data', sep=',')\n",
        "    print(df.shape)\n",
        "except FileNotFoundError:\n",
        "    print(\"Error: 'datos_FEAT_SEL.data' file not found.\")\n",
        "except pd.errors.ParserError:\n",
        "    print(\"Error: Could not parse the file. Check the file format and separator.\")\n",
        "\n",
        "\n",
        "# Separate the target variable\n",
        "y = df['TARGET']\n",
        "X = df.drop('TARGET', axis=1)\n",
        "\n",
        "# Identify the number of variables before one-hot encoding\n",
        "num_variables_before = len(X.columns)\n",
        "print(f\"Number of variables before one-hot encoding: {num_variables_before}\")\n",
        "\n",
        "def apply_one_hot_encoding(df):\n",
        "    numerical_cols = df.select_dtypes(include=np.number).columns\n",
        "    categorical_cols = df.select_dtypes(exclude=np.number).columns\n",
        "    encoded_df = pd.DataFrame()\n",
        "    encoded_df = pd.concat([encoded_df, df[numerical_cols]], axis=1)\n",
        "    for col in categorical_cols:\n",
        "        dummies = pd.get_dummies(df[col], prefix=col)\n",
        "        encoded_df = pd.concat([encoded_df, dummies], axis=1)\n",
        "    return encoded_df\n",
        "\n",
        "# Apply one-hot encoding\n",
        "X = apply_one_hot_encoding(X)\n",
        "\n",
        "#Split data\n",
        "X_train, X_test, y_train, y_test = train_test_split(X, y, test_size=0.3, random_state=42, stratify=y)\n",
        "\n",
        "#Train models\n",
        "rf_classifier = RandomForestClassifier(random_state=42)\n",
        "rf_classifier.fit(X_train, y_train)\n",
        "rf_predictions = rf_classifier.predict(X_test)\n",
        "\n",
        "\n",
        "xgb_classifier = XGBClassifier(use_label_encoder=False, eval_metric='logloss', random_state=42)\n",
        "xgb_classifier.fit(X_train, y_train)\n",
        "xgb_predictions = xgb_classifier.predict(X_test)\n",
        "\n",
        "\n",
        "# Evaluate Random Forest\n",
        "print(\"\\nRandom Forest Results:\")\n",
        "cm = confusion_matrix(y_test, rf_predictions)\n",
        "print(\"Confusion Matrix:\\n\", cm)\n",
        "print(\"Precision:\", precision_score(y_test, rf_predictions))\n",
        "print(\"Recall:\", recall_score(y_test, rf_predictions))\n",
        "\n",
        "rf_probs = rf_classifier.predict_proba(X_test)[:,1]\n",
        "fpr, tpr, thresholds = roc_curve(y_test, rf_probs)\n",
        "roc_auc = auc(fpr,tpr)\n",
        "print(\"AUC:\",roc_auc)\n",
        "\n",
        "# Evaluate XGBoost\n",
        "print(\"\\nXGBoost Results:\")\n",
        "cm = confusion_matrix(y_test, xgb_predictions)\n",
        "print(\"Confusion Matrix:\\n\", cm)\n",
        "print(\"Precision:\", precision_score(y_test, xgb_predictions))\n",
        "print(\"Recall:\", recall_score(y_test, xgb_predictions))\n",
        "\n",
        "xgb_probs = xgb_classifier.predict_proba(X_test)[:,1]\n",
        "fpr, tpr, thresholds = roc_curve(y_test, xgb_probs)\n",
        "roc_auc = auc(fpr,tpr)\n",
        "print(\"AUC:\",roc_auc)"
      ],
      "metadata": {
        "colab": {
          "base_uri": "https://localhost:8080/"
        },
        "id": "4jG0IJoXNzoZ",
        "outputId": "c904ae3f-2fbb-4a9a-bed3-fadeb78aa79c"
      },
      "execution_count": 165,
      "outputs": [
        {
          "output_type": "stream",
          "name": "stdout",
          "text": [
            "(10000, 1296)\n",
            "Number of variables before one-hot encoding: 1295\n",
            "\n",
            "Random Forest Results:\n",
            "Confusion Matrix:\n",
            " [[2768    0]\n",
            " [ 232    0]]\n",
            "Precision: 0.0\n",
            "Recall: 0.0\n",
            "AUC: 0.7181512544847518\n",
            "\n",
            "XGBoost Results:\n",
            "Confusion Matrix:\n",
            " [[2751   17]\n",
            " [ 224    8]]\n",
            "Precision: 0.32\n",
            "Recall: 0.034482758620689655\n",
            "AUC: 0.7393876445086706\n"
          ]
        }
      ]
    },
    {
      "cell_type": "code",
      "source": [
        "#   Es correcto afirmar que: El clasificador Random Forest no está prediciendo correctamente ninguna instancia positiva\n",
        "\n",
        "# Assuming 'rf_predictions' and 'y_test' are defined as in your provided code.\n",
        "\n",
        "# Check if any positive instances are correctly predicted\n",
        "correctly_predicted_positive = sum((rf_predictions == 1) & (y_test == 1))\n",
        "\n",
        "if correctly_predicted_positive == 0:\n",
        "    print(\"Verdadero: El clasificador Random Forest no está prediciendo correctamente ninguna instancia positiva.\")\n",
        "else:\n",
        "    print(\"Falso: El clasificador Random Forest sí está prediciendo correctamente al menos una instancia positiva.\")"
      ],
      "metadata": {
        "colab": {
          "base_uri": "https://localhost:8080/"
        },
        "id": "VaN0b2tUOgpG",
        "outputId": "112532cd-53ab-460a-9e3b-e4b8cc86e3d0"
      },
      "execution_count": 166,
      "outputs": [
        {
          "output_type": "stream",
          "name": "stdout",
          "text": [
            "Verdadero: El clasificador Random Forest no está prediciendo correctamente ninguna instancia positiva.\n"
          ]
        }
      ]
    },
    {
      "cell_type": "code",
      "source": [
        "#   Es correcto afirmar que: El clasificador XGBoost predice correctamente 225 instancias positivas\n",
        "\n",
        "# Assuming 'xgb_predictions' and 'y_test' are defined as in your provided code.\n",
        "\n",
        "# Count correctly predicted positive instances for XGBoost\n",
        "correctly_predicted_positive_xgb = sum((xgb_predictions == 1) & (y_test == 1))\n",
        "\n",
        "print(f\"Number of correctly predicted positive instances by XGBoost: {correctly_predicted_positive_xgb}\")\n",
        "\n",
        "if correctly_predicted_positive_xgb == 225:\n",
        "    print(\"Correcto: El clasificador XGBoost predice correctamente 225 instancias positivas\")\n",
        "else:\n",
        "    print(\"Incorrecto: El clasificador XGBoost no predice correctamente 225 instancias positivas\")"
      ],
      "metadata": {
        "colab": {
          "base_uri": "https://localhost:8080/"
        },
        "id": "bjqN7-f7OsKK",
        "outputId": "490a4fba-1e8a-4856-b6d7-46b77f7bcfcc"
      },
      "execution_count": 167,
      "outputs": [
        {
          "output_type": "stream",
          "name": "stdout",
          "text": [
            "Number of correctly predicted positive instances by XGBoost: 8\n",
            "Incorrecto: El clasificador XGBoost no predice correctamente 225 instancias positivas\n"
          ]
        }
      ]
    },
    {
      "cell_type": "code",
      "source": [
        "'''Ojo.  La selección de características, cuando se realiza correctamente, puede mejorar el rendimiento de los modelos. Eliminar variables irrelevantes o redundantes puede reducir el ruido, la complejidad del modelo y el sobreajuste, lo que lleva a una mejor generalización y, en muchos casos, a un mejor rendimiento en diversas métricas.  Perder información *irrelevante* o *redundante* no necesariamente implica una pérdida de información *valiosa*.'''\n"
      ],
      "metadata": {
        "colab": {
          "base_uri": "https://localhost:8080/",
          "height": 73
        },
        "id": "qA6tzpRxO42j",
        "outputId": "7b6ffac4-eb80-4007-94d8-b36c5a739b5e"
      },
      "execution_count": 168,
      "outputs": [
        {
          "output_type": "execute_result",
          "data": {
            "text/plain": [
              "'Ojo.  La selección de características, cuando se realiza correctamente, puede mejorar el rendimiento de los modelos. Eliminar variables irrelevantes o redundantes puede reducir el ruido, la complejidad del modelo y el sobreajuste, lo que lleva a una mejor generalización y, en muchos casos, a un mejor rendimiento en diversas métricas.  Perder información *irrelevante* o *redundante* no necesariamente implica una pérdida de información *valiosa*.'"
            ],
            "application/vnd.google.colaboratory.intrinsic+json": {
              "type": "string"
            }
          },
          "metadata": {},
          "execution_count": 168
        }
      ]
    },
    {
      "cell_type": "code",
      "source": [
        "#   cargar data1.data\n",
        "import pandas as pd\n",
        "try:\n",
        "    df_data1 = pd.read_csv('https://raw.githubusercontent.com/cam2149/MachineLearningIII/refs/heads/main/dataset5/data1.data', sep=',') # Replace ',' with the correct separator if needed\n",
        "    print(df_data1.shape) # Display the first few rows to verify\n",
        "except FileNotFoundError:\n",
        "    print(\"Error: 'data1.data' file not found.\")\n",
        "except pd.errors.ParserError:\n",
        "    print(\"Error: Could not parse the file. Check the file format and separator.\")"
      ],
      "metadata": {
        "id": "-D3YlocwI8Tf",
        "colab": {
          "base_uri": "https://localhost:8080/"
        },
        "outputId": "0369fe96-d847-4024-b931-167131226b04"
      },
      "execution_count": 169,
      "outputs": [
        {
          "output_type": "stream",
          "name": "stdout",
          "text": [
            "(500, 4)\n"
          ]
        }
      ]
    },
    {
      "cell_type": "code",
      "source": [
        "df_data1.describe()"
      ],
      "metadata": {
        "colab": {
          "base_uri": "https://localhost:8080/",
          "height": 300
        },
        "id": "jdYeasRfKEy5",
        "outputId": "77dda4c7-5b76-43a0-ef7f-2f8f408cc632"
      },
      "execution_count": 170,
      "outputs": [
        {
          "output_type": "execute_result",
          "data": {
            "text/plain": [
              "         Feature1    Feature2    Feature3    Feature4\n",
              "count  500.000000  500.000000  500.000000  500.000000\n",
              "mean    -0.903704    0.275838   -4.267405    1.680078\n",
              "std      4.903881    6.106322    5.396407    6.261005\n",
              "min     -9.530597   -8.684992  -11.535214   -9.253260\n",
              "25%     -4.561336   -5.906155   -8.859523   -4.567718\n",
              "50%     -2.427772    0.661850   -6.324553    2.007162\n",
              "75%      2.821811    5.052406   -0.647737    7.823278\n",
              "max      8.968182   12.867018    6.829682   11.853497"
            ],
            "text/html": [
              "\n",
              "  <div id=\"df-9d012e18-e2c2-4880-b23e-fa67621ae7c2\" class=\"colab-df-container\">\n",
              "    <div>\n",
              "<style scoped>\n",
              "    .dataframe tbody tr th:only-of-type {\n",
              "        vertical-align: middle;\n",
              "    }\n",
              "\n",
              "    .dataframe tbody tr th {\n",
              "        vertical-align: top;\n",
              "    }\n",
              "\n",
              "    .dataframe thead th {\n",
              "        text-align: right;\n",
              "    }\n",
              "</style>\n",
              "<table border=\"1\" class=\"dataframe\">\n",
              "  <thead>\n",
              "    <tr style=\"text-align: right;\">\n",
              "      <th></th>\n",
              "      <th>Feature1</th>\n",
              "      <th>Feature2</th>\n",
              "      <th>Feature3</th>\n",
              "      <th>Feature4</th>\n",
              "    </tr>\n",
              "  </thead>\n",
              "  <tbody>\n",
              "    <tr>\n",
              "      <th>count</th>\n",
              "      <td>500.000000</td>\n",
              "      <td>500.000000</td>\n",
              "      <td>500.000000</td>\n",
              "      <td>500.000000</td>\n",
              "    </tr>\n",
              "    <tr>\n",
              "      <th>mean</th>\n",
              "      <td>-0.903704</td>\n",
              "      <td>0.275838</td>\n",
              "      <td>-4.267405</td>\n",
              "      <td>1.680078</td>\n",
              "    </tr>\n",
              "    <tr>\n",
              "      <th>std</th>\n",
              "      <td>4.903881</td>\n",
              "      <td>6.106322</td>\n",
              "      <td>5.396407</td>\n",
              "      <td>6.261005</td>\n",
              "    </tr>\n",
              "    <tr>\n",
              "      <th>min</th>\n",
              "      <td>-9.530597</td>\n",
              "      <td>-8.684992</td>\n",
              "      <td>-11.535214</td>\n",
              "      <td>-9.253260</td>\n",
              "    </tr>\n",
              "    <tr>\n",
              "      <th>25%</th>\n",
              "      <td>-4.561336</td>\n",
              "      <td>-5.906155</td>\n",
              "      <td>-8.859523</td>\n",
              "      <td>-4.567718</td>\n",
              "    </tr>\n",
              "    <tr>\n",
              "      <th>50%</th>\n",
              "      <td>-2.427772</td>\n",
              "      <td>0.661850</td>\n",
              "      <td>-6.324553</td>\n",
              "      <td>2.007162</td>\n",
              "    </tr>\n",
              "    <tr>\n",
              "      <th>75%</th>\n",
              "      <td>2.821811</td>\n",
              "      <td>5.052406</td>\n",
              "      <td>-0.647737</td>\n",
              "      <td>7.823278</td>\n",
              "    </tr>\n",
              "    <tr>\n",
              "      <th>max</th>\n",
              "      <td>8.968182</td>\n",
              "      <td>12.867018</td>\n",
              "      <td>6.829682</td>\n",
              "      <td>11.853497</td>\n",
              "    </tr>\n",
              "  </tbody>\n",
              "</table>\n",
              "</div>\n",
              "    <div class=\"colab-df-buttons\">\n",
              "\n",
              "  <div class=\"colab-df-container\">\n",
              "    <button class=\"colab-df-convert\" onclick=\"convertToInteractive('df-9d012e18-e2c2-4880-b23e-fa67621ae7c2')\"\n",
              "            title=\"Convert this dataframe to an interactive table.\"\n",
              "            style=\"display:none;\">\n",
              "\n",
              "  <svg xmlns=\"http://www.w3.org/2000/svg\" height=\"24px\" viewBox=\"0 -960 960 960\">\n",
              "    <path d=\"M120-120v-720h720v720H120Zm60-500h600v-160H180v160Zm220 220h160v-160H400v160Zm0 220h160v-160H400v160ZM180-400h160v-160H180v160Zm440 0h160v-160H620v160ZM180-180h160v-160H180v160Zm440 0h160v-160H620v160Z\"/>\n",
              "  </svg>\n",
              "    </button>\n",
              "\n",
              "  <style>\n",
              "    .colab-df-container {\n",
              "      display:flex;\n",
              "      gap: 12px;\n",
              "    }\n",
              "\n",
              "    .colab-df-convert {\n",
              "      background-color: #E8F0FE;\n",
              "      border: none;\n",
              "      border-radius: 50%;\n",
              "      cursor: pointer;\n",
              "      display: none;\n",
              "      fill: #1967D2;\n",
              "      height: 32px;\n",
              "      padding: 0 0 0 0;\n",
              "      width: 32px;\n",
              "    }\n",
              "\n",
              "    .colab-df-convert:hover {\n",
              "      background-color: #E2EBFA;\n",
              "      box-shadow: 0px 1px 2px rgba(60, 64, 67, 0.3), 0px 1px 3px 1px rgba(60, 64, 67, 0.15);\n",
              "      fill: #174EA6;\n",
              "    }\n",
              "\n",
              "    .colab-df-buttons div {\n",
              "      margin-bottom: 4px;\n",
              "    }\n",
              "\n",
              "    [theme=dark] .colab-df-convert {\n",
              "      background-color: #3B4455;\n",
              "      fill: #D2E3FC;\n",
              "    }\n",
              "\n",
              "    [theme=dark] .colab-df-convert:hover {\n",
              "      background-color: #434B5C;\n",
              "      box-shadow: 0px 1px 3px 1px rgba(0, 0, 0, 0.15);\n",
              "      filter: drop-shadow(0px 1px 2px rgba(0, 0, 0, 0.3));\n",
              "      fill: #FFFFFF;\n",
              "    }\n",
              "  </style>\n",
              "\n",
              "    <script>\n",
              "      const buttonEl =\n",
              "        document.querySelector('#df-9d012e18-e2c2-4880-b23e-fa67621ae7c2 button.colab-df-convert');\n",
              "      buttonEl.style.display =\n",
              "        google.colab.kernel.accessAllowed ? 'block' : 'none';\n",
              "\n",
              "      async function convertToInteractive(key) {\n",
              "        const element = document.querySelector('#df-9d012e18-e2c2-4880-b23e-fa67621ae7c2');\n",
              "        const dataTable =\n",
              "          await google.colab.kernel.invokeFunction('convertToInteractive',\n",
              "                                                    [key], {});\n",
              "        if (!dataTable) return;\n",
              "\n",
              "        const docLinkHtml = 'Like what you see? Visit the ' +\n",
              "          '<a target=\"_blank\" href=https://colab.research.google.com/notebooks/data_table.ipynb>data table notebook</a>'\n",
              "          + ' to learn more about interactive tables.';\n",
              "        element.innerHTML = '';\n",
              "        dataTable['output_type'] = 'display_data';\n",
              "        await google.colab.output.renderOutput(dataTable, element);\n",
              "        const docLink = document.createElement('div');\n",
              "        docLink.innerHTML = docLinkHtml;\n",
              "        element.appendChild(docLink);\n",
              "      }\n",
              "    </script>\n",
              "  </div>\n",
              "\n",
              "\n",
              "<div id=\"df-29a5e593-f2b2-47bc-881b-54f29da35fe2\">\n",
              "  <button class=\"colab-df-quickchart\" onclick=\"quickchart('df-29a5e593-f2b2-47bc-881b-54f29da35fe2')\"\n",
              "            title=\"Suggest charts\"\n",
              "            style=\"display:none;\">\n",
              "\n",
              "<svg xmlns=\"http://www.w3.org/2000/svg\" height=\"24px\"viewBox=\"0 0 24 24\"\n",
              "     width=\"24px\">\n",
              "    <g>\n",
              "        <path d=\"M19 3H5c-1.1 0-2 .9-2 2v14c0 1.1.9 2 2 2h14c1.1 0 2-.9 2-2V5c0-1.1-.9-2-2-2zM9 17H7v-7h2v7zm4 0h-2V7h2v10zm4 0h-2v-4h2v4z\"/>\n",
              "    </g>\n",
              "</svg>\n",
              "  </button>\n",
              "\n",
              "<style>\n",
              "  .colab-df-quickchart {\n",
              "      --bg-color: #E8F0FE;\n",
              "      --fill-color: #1967D2;\n",
              "      --hover-bg-color: #E2EBFA;\n",
              "      --hover-fill-color: #174EA6;\n",
              "      --disabled-fill-color: #AAA;\n",
              "      --disabled-bg-color: #DDD;\n",
              "  }\n",
              "\n",
              "  [theme=dark] .colab-df-quickchart {\n",
              "      --bg-color: #3B4455;\n",
              "      --fill-color: #D2E3FC;\n",
              "      --hover-bg-color: #434B5C;\n",
              "      --hover-fill-color: #FFFFFF;\n",
              "      --disabled-bg-color: #3B4455;\n",
              "      --disabled-fill-color: #666;\n",
              "  }\n",
              "\n",
              "  .colab-df-quickchart {\n",
              "    background-color: var(--bg-color);\n",
              "    border: none;\n",
              "    border-radius: 50%;\n",
              "    cursor: pointer;\n",
              "    display: none;\n",
              "    fill: var(--fill-color);\n",
              "    height: 32px;\n",
              "    padding: 0;\n",
              "    width: 32px;\n",
              "  }\n",
              "\n",
              "  .colab-df-quickchart:hover {\n",
              "    background-color: var(--hover-bg-color);\n",
              "    box-shadow: 0 1px 2px rgba(60, 64, 67, 0.3), 0 1px 3px 1px rgba(60, 64, 67, 0.15);\n",
              "    fill: var(--button-hover-fill-color);\n",
              "  }\n",
              "\n",
              "  .colab-df-quickchart-complete:disabled,\n",
              "  .colab-df-quickchart-complete:disabled:hover {\n",
              "    background-color: var(--disabled-bg-color);\n",
              "    fill: var(--disabled-fill-color);\n",
              "    box-shadow: none;\n",
              "  }\n",
              "\n",
              "  .colab-df-spinner {\n",
              "    border: 2px solid var(--fill-color);\n",
              "    border-color: transparent;\n",
              "    border-bottom-color: var(--fill-color);\n",
              "    animation:\n",
              "      spin 1s steps(1) infinite;\n",
              "  }\n",
              "\n",
              "  @keyframes spin {\n",
              "    0% {\n",
              "      border-color: transparent;\n",
              "      border-bottom-color: var(--fill-color);\n",
              "      border-left-color: var(--fill-color);\n",
              "    }\n",
              "    20% {\n",
              "      border-color: transparent;\n",
              "      border-left-color: var(--fill-color);\n",
              "      border-top-color: var(--fill-color);\n",
              "    }\n",
              "    30% {\n",
              "      border-color: transparent;\n",
              "      border-left-color: var(--fill-color);\n",
              "      border-top-color: var(--fill-color);\n",
              "      border-right-color: var(--fill-color);\n",
              "    }\n",
              "    40% {\n",
              "      border-color: transparent;\n",
              "      border-right-color: var(--fill-color);\n",
              "      border-top-color: var(--fill-color);\n",
              "    }\n",
              "    60% {\n",
              "      border-color: transparent;\n",
              "      border-right-color: var(--fill-color);\n",
              "    }\n",
              "    80% {\n",
              "      border-color: transparent;\n",
              "      border-right-color: var(--fill-color);\n",
              "      border-bottom-color: var(--fill-color);\n",
              "    }\n",
              "    90% {\n",
              "      border-color: transparent;\n",
              "      border-bottom-color: var(--fill-color);\n",
              "    }\n",
              "  }\n",
              "</style>\n",
              "\n",
              "  <script>\n",
              "    async function quickchart(key) {\n",
              "      const quickchartButtonEl =\n",
              "        document.querySelector('#' + key + ' button');\n",
              "      quickchartButtonEl.disabled = true;  // To prevent multiple clicks.\n",
              "      quickchartButtonEl.classList.add('colab-df-spinner');\n",
              "      try {\n",
              "        const charts = await google.colab.kernel.invokeFunction(\n",
              "            'suggestCharts', [key], {});\n",
              "      } catch (error) {\n",
              "        console.error('Error during call to suggestCharts:', error);\n",
              "      }\n",
              "      quickchartButtonEl.classList.remove('colab-df-spinner');\n",
              "      quickchartButtonEl.classList.add('colab-df-quickchart-complete');\n",
              "    }\n",
              "    (() => {\n",
              "      let quickchartButtonEl =\n",
              "        document.querySelector('#df-29a5e593-f2b2-47bc-881b-54f29da35fe2 button');\n",
              "      quickchartButtonEl.style.display =\n",
              "        google.colab.kernel.accessAllowed ? 'block' : 'none';\n",
              "    })();\n",
              "  </script>\n",
              "</div>\n",
              "\n",
              "    </div>\n",
              "  </div>\n"
            ],
            "application/vnd.google.colaboratory.intrinsic+json": {
              "type": "dataframe",
              "summary": "{\n  \"name\": \"df_data1\",\n  \"rows\": 8,\n  \"fields\": [\n    {\n      \"column\": \"Feature1\",\n      \"properties\": {\n        \"dtype\": \"number\",\n        \"std\": 176.90671997954678,\n        \"min\": -9.530596999544285,\n        \"max\": 500.0,\n        \"num_unique_values\": 8,\n        \"samples\": [\n          -0.9037035518040913,\n          -2.4277718098368015,\n          500.0\n        ],\n        \"semantic_type\": \"\",\n        \"description\": \"\"\n      }\n    },\n    {\n      \"column\": \"Feature2\",\n      \"properties\": {\n        \"dtype\": \"number\",\n        \"std\": 176.38400319815892,\n        \"min\": -8.684991693940466,\n        \"max\": 500.0,\n        \"num_unique_values\": 8,\n        \"samples\": [\n          0.27583768219357363,\n          0.6618500199161438,\n          500.0\n        ],\n        \"semantic_type\": \"\",\n        \"description\": \"\"\n      }\n    },\n    {\n      \"column\": \"Feature3\",\n      \"properties\": {\n        \"dtype\": \"number\",\n        \"std\": 177.87431587559996,\n        \"min\": -11.535214399577582,\n        \"max\": 500.0,\n        \"num_unique_values\": 8,\n        \"samples\": [\n          -4.267404609917998,\n          -6.32455318573882,\n          500.0\n        ],\n        \"semantic_type\": \"\",\n        \"description\": \"\"\n      }\n    },\n    {\n      \"column\": \"Feature4\",\n      \"properties\": {\n        \"dtype\": \"number\",\n        \"std\": 176.1077273011043,\n        \"min\": -9.253260286425933,\n        \"max\": 500.0,\n        \"num_unique_values\": 8,\n        \"samples\": [\n          1.6800779606303444,\n          2.0071619016394826,\n          500.0\n        ],\n        \"semantic_type\": \"\",\n        \"description\": \"\"\n      }\n    }\n  ]\n}"
            }
          },
          "metadata": {},
          "execution_count": 170
        }
      ]
    },
    {
      "cell_type": "code",
      "source": [
        "from sklearn.cluster import KMeans\n",
        "import numpy as np\n",
        "import matplotlib.pyplot as plt\n",
        "\n",
        "inertia = []\n",
        "K = range(1, 10)  # Test k values from 1 to 9\n",
        "for k in K:\n",
        "    kmeanModel = KMeans(n_clusters=k, random_state=0)\n",
        "    kmeanModel.fit(df_data1)\n",
        "    inertia.append(kmeanModel.inertia_)\n",
        "\n",
        "plt.figure(figsize=(10, 5))\n",
        "plt.plot(K, inertia, 'bx-')\n",
        "plt.xlabel('k')\n",
        "plt.ylabel('Inertia')\n",
        "plt.title('Metodo del codo')\n",
        "plt.show()"
      ],
      "metadata": {
        "id": "Tk0pBn2zJQfV",
        "colab": {
          "base_uri": "https://localhost:8080/",
          "height": 487
        },
        "outputId": "44c4460a-a15e-4bb8-babd-3aa6e62908b6"
      },
      "execution_count": 171,
      "outputs": [
        {
          "output_type": "display_data",
          "data": {
            "text/plain": [
              "<Figure size 1000x500 with 1 Axes>"
            ],
            "image/png": "[encoded data removed]"
          },
          "metadata": {}
        }
      ]
    },
    {
      "cell_type": "code",
      "source": [
        "kmeanModel = KMeans(n_clusters=5, random_state=0)\n",
        "kmeanModel.fit(df_data1)\n",
        "y_pred = kmeanModel.predict(df_data1)\n"
      ],
      "metadata": {
        "id": "1MmuW9MNxcFu"
      },
      "execution_count": 172,
      "outputs": []
    },
    {
      "cell_type": "code",
      "source": [
        "from sklearn.decomposition import PCA\n",
        "\n",
        "# PCA\n",
        "pca = PCA(n_components=2)\n",
        "X_pca = pca.fit_transform(df_data1)\n",
        "\n",
        "plt.figure(figsize=(8, 6))\n",
        "plt.scatter(X_pca[:, 0], X_pca[:, 1], c=y_pred, cmap='viridis')\n",
        "plt.title('PCA')\n",
        "plt.xlabel('PC1')\n",
        "plt.ylabel('PC2')\n",
        "plt.show()"
      ],
      "metadata": {
        "id": "Bl93JSy7JlH6",
        "colab": {
          "base_uri": "https://localhost:8080/",
          "height": 564
        },
        "outputId": "faebfc7c-b174-4a46-9458-628bce84cd79"
      },
      "execution_count": 173,
      "outputs": [
        {
          "output_type": "display_data",
          "data": {
            "text/plain": [
              "<Figure size 800x600 with 1 Axes>"
            ],
            "image/png": "[encoded data removed]"
          },
          "metadata": {}
        }
      ]
    },
    {
      "cell_type": "code",
      "source": [
        "#   Después de aplicar PCA, observa que las dos primeras componentes principales explican más del 60% de la varianza total de los datos. Esto significa que:\n",
        "\n",
        "explained_variance_ratio = pca.explained_variance_ratio_\n",
        "print(f\"Explained variance ratio for the first two principal components: {explained_variance_ratio[:2]}\")\n",
        "total_variance_explained = sum(explained_variance_ratio[:2])\n",
        "print(f\"Total variance explained by the first two principal components: {total_variance_explained}\")\n",
        "\n",
        "if total_variance_explained > 0.6:\n",
        "    print(\"Verdadero: Las dos primeras componentes principales explican más del 60% de la varianza total.\")\n",
        "else:\n",
        "    print(\"Falso: Las dos primeras componentes principales no explican más del 60% de la varianza total.\")"
      ],
      "metadata": {
        "colab": {
          "base_uri": "https://localhost:8080/"
        },
        "id": "7iKUUyWJTF0v",
        "outputId": "fda61ee3-7933-449d-d889-d8e5622371d4"
      },
      "execution_count": 174,
      "outputs": [
        {
          "output_type": "stream",
          "name": "stdout",
          "text": [
            "Explained variance ratio for the first two principal components: [0.42562774 0.37422988]\n",
            "Total variance explained by the first two principal components: 0.7998576242084385\n",
            "Verdadero: Las dos primeras componentes principales explican más del 60% de la varianza total.\n"
          ]
        }
      ]
    }
  ]
}
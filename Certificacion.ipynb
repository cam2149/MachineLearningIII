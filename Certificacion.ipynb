{
  "nbformat": 4,
  "nbformat_minor": 0,
  "metadata": {
    "colab": {
      "provenance": [],
      "include_colab_link": true
    },
    "kernelspec": {
      "name": "python3",
      "display_name": "Python 3"
    },
    "language_info": {
      "name": "python"
    }
  },
  "cells": [
    {
      "cell_type": "markdown",
      "metadata": {
        "id": "view-in-github",
        "colab_type": "text"
      },
      "source": [
        "<a href=\"https://colab.research.google.com/github/cam2149/MachineLearningIII/blob/main/Certificacion.ipynb\" target=\"_parent\"><img src=\"https://colab.research.google.com/assets/colab-badge.svg\" alt=\"Open In Colab\"/></a>"
      ]
    },
    {
      "cell_type": "markdown",
      "source": [
        "# Examen Certificación"
      ],
      "metadata": {
        "id": "0XREb7e1TS_m"
      }
    },
    {
      "cell_type": "markdown",
      "source": [
        "Responder las siguientes preguntas 1 a 4 usando el conjunto de datos dado en el enlace (datos).\n",
        "\n",
        "* Edad: Representa la edad de cada persona en el conjunto de datos. Es una variable numérica que indica la cantidad de años que ha vivido cada individuo.\n",
        "* Puntuación: Se refiere a una puntuación o calificación asociada a cada persona en el conjunto de datos. Puede representar el rendimiento en un examen, la satisfacción en una encuesta, o cualquier otra métrica cuantitativa relevante para el contexto.\n",
        "* Ingresos: Indica el ingreso económico de cada persona en el conjunto de datos. Es una medida numérica del dinero que cada individuo gana en un período específico, como mensual o anualmente.\n",
        "* Nivel de Educación: Esta variable categoriza el nivel educativo alcanzado por cada persona en el conjunto de datos. Puede incluir categorías como \"Licenciatura\", \"Maestría\", \"Doctorado\", entre otros, representando los diferentes grados académicos obtenidos por los individuos."
      ],
      "metadata": {
        "id": "kwV9TWyNi2AZ"
      }
    },
    {
      "cell_type": "markdown",
      "source": [
        "## datos.data"
      ],
      "metadata": {
        "id": "SPDnMUNJTWJh"
      }
    },
    {
      "cell_type": "code",
      "execution_count": 9,
      "metadata": {
        "colab": {
          "base_uri": "https://localhost:8080/"
        },
        "id": "kqTxRpJQRog8",
        "outputId": "f615d84c-94ca-4d7f-e101-30cba573c28c"
      },
      "outputs": [
        {
          "output_type": "stream",
          "name": "stdout",
          "text": [
            "   Edad  Puntuacion  Ingresos Nivel_de_Educacion\n",
            "0    35          82     50000       Licenciatura\n",
            "1    28          75     45000           Maestría\n",
            "2    42          90     60000          Doctorado\n",
            "3    30          68     48000       Licenciatura\n",
            "4    39          85     55000           Maestría\n"
          ]
        }
      ],
      "source": [
        "# prompt: cargar datos.data\n",
        "\n",
        "import pandas as pd\n",
        "\n",
        "# Assuming 'datos.data' is a CSV file.  Adjust the separator (sep) if needed.\n",
        "# For other file types (e.g., Excel), use the appropriate pandas read function.\n",
        "url_data = 'https://raw.githubusercontent.com/cam2149/MachineLearningIII/refs/heads/main/datos.data'\n",
        "try:\n",
        "  df = pd.read_csv(url_data, sep=',') # Replace ',' with the correct separator if needed\n",
        "  print(df.head()) # Display the first few rows to verify\n",
        "except FileNotFoundError:\n",
        "  print(\"Error: 'datos.data' file not found.\")\n",
        "except pd.errors.ParserError:\n",
        "  print(\"Error: Could not parse the file. Check the file format and separator.\")"
      ]
    },
    {
      "cell_type": "code",
      "source": [
        "df.describe()"
      ],
      "metadata": {
        "colab": {
          "base_uri": "https://localhost:8080/",
          "height": 300
        },
        "id": "qL9crHGPjbTK",
        "outputId": "cbf5ac4b-c4d8-4624-e798-857a271b6ae8"
      },
      "execution_count": 11,
      "outputs": [
        {
          "output_type": "execute_result",
          "data": {
            "text/plain": [
              "           Edad  Puntuacion      Ingresos\n",
              "count  20.00000   20.000000     20.000000\n",
              "mean   35.50000   80.400000  52950.000000\n",
              "std     5.91608    6.953984   5481.788029\n",
              "min    26.00000   68.000000  44000.000000\n",
              "25%    30.75000   74.750000  48750.000000\n",
              "50%    35.50000   80.500000  52500.000000\n",
              "75%    40.25000   86.250000  57250.000000\n",
              "max    45.00000   91.000000  62000.000000"
            ],
            "text/html": [
              "\n",
              "  <div id=\"df-abfaf18e-68d9-4bdf-87ef-d16e85d7040b\" class=\"colab-df-container\">\n",
              "    <div>\n",
              "<style scoped>\n",
              "    .dataframe tbody tr th:only-of-type {\n",
              "        vertical-align: middle;\n",
              "    }\n",
              "\n",
              "    .dataframe tbody tr th {\n",
              "        vertical-align: top;\n",
              "    }\n",
              "\n",
              "    .dataframe thead th {\n",
              "        text-align: right;\n",
              "    }\n",
              "</style>\n",
              "<table border=\"1\" class=\"dataframe\">\n",
              "  <thead>\n",
              "    <tr style=\"text-align: right;\">\n",
              "      <th></th>\n",
              "      <th>Edad</th>\n",
              "      <th>Puntuacion</th>\n",
              "      <th>Ingresos</th>\n",
              "    </tr>\n",
              "  </thead>\n",
              "  <tbody>\n",
              "    <tr>\n",
              "      <th>count</th>\n",
              "      <td>20.00000</td>\n",
              "      <td>20.000000</td>\n",
              "      <td>20.000000</td>\n",
              "    </tr>\n",
              "    <tr>\n",
              "      <th>mean</th>\n",
              "      <td>35.50000</td>\n",
              "      <td>80.400000</td>\n",
              "      <td>52950.000000</td>\n",
              "    </tr>\n",
              "    <tr>\n",
              "      <th>std</th>\n",
              "      <td>5.91608</td>\n",
              "      <td>6.953984</td>\n",
              "      <td>5481.788029</td>\n",
              "    </tr>\n",
              "    <tr>\n",
              "      <th>min</th>\n",
              "      <td>26.00000</td>\n",
              "      <td>68.000000</td>\n",
              "      <td>44000.000000</td>\n",
              "    </tr>\n",
              "    <tr>\n",
              "      <th>25%</th>\n",
              "      <td>30.75000</td>\n",
              "      <td>74.750000</td>\n",
              "      <td>48750.000000</td>\n",
              "    </tr>\n",
              "    <tr>\n",
              "      <th>50%</th>\n",
              "      <td>35.50000</td>\n",
              "      <td>80.500000</td>\n",
              "      <td>52500.000000</td>\n",
              "    </tr>\n",
              "    <tr>\n",
              "      <th>75%</th>\n",
              "      <td>40.25000</td>\n",
              "      <td>86.250000</td>\n",
              "      <td>57250.000000</td>\n",
              "    </tr>\n",
              "    <tr>\n",
              "      <th>max</th>\n",
              "      <td>45.00000</td>\n",
              "      <td>91.000000</td>\n",
              "      <td>62000.000000</td>\n",
              "    </tr>\n",
              "  </tbody>\n",
              "</table>\n",
              "</div>\n",
              "    <div class=\"colab-df-buttons\">\n",
              "\n",
              "  <div class=\"colab-df-container\">\n",
              "    <button class=\"colab-df-convert\" onclick=\"convertToInteractive('df-abfaf18e-68d9-4bdf-87ef-d16e85d7040b')\"\n",
              "            title=\"Convert this dataframe to an interactive table.\"\n",
              "            style=\"display:none;\">\n",
              "\n",
              "  <svg xmlns=\"http://www.w3.org/2000/svg\" height=\"24px\" viewBox=\"0 -960 960 960\">\n",
              "    <path d=\"M120-120v-720h720v720H120Zm60-500h600v-160H180v160Zm220 220h160v-160H400v160Zm0 220h160v-160H400v160ZM180-400h160v-160H180v160Zm440 0h160v-160H620v160ZM180-180h160v-160H180v160Zm440 0h160v-160H620v160Z\"/>\n",
              "  </svg>\n",
              "    </button>\n",
              "\n",
              "  <style>\n",
              "    .colab-df-container {\n",
              "      display:flex;\n",
              "      gap: 12px;\n",
              "    }\n",
              "\n",
              "    .colab-df-convert {\n",
              "      background-color: #E8F0FE;\n",
              "      border: none;\n",
              "      border-radius: 50%;\n",
              "      cursor: pointer;\n",
              "      display: none;\n",
              "      fill: #1967D2;\n",
              "      height: 32px;\n",
              "      padding: 0 0 0 0;\n",
              "      width: 32px;\n",
              "    }\n",
              "\n",
              "    .colab-df-convert:hover {\n",
              "      background-color: #E2EBFA;\n",
              "      box-shadow: 0px 1px 2px rgba(60, 64, 67, 0.3), 0px 1px 3px 1px rgba(60, 64, 67, 0.15);\n",
              "      fill: #174EA6;\n",
              "    }\n",
              "\n",
              "    .colab-df-buttons div {\n",
              "      margin-bottom: 4px;\n",
              "    }\n",
              "\n",
              "    [theme=dark] .colab-df-convert {\n",
              "      background-color: #3B4455;\n",
              "      fill: #D2E3FC;\n",
              "    }\n",
              "\n",
              "    [theme=dark] .colab-df-convert:hover {\n",
              "      background-color: #434B5C;\n",
              "      box-shadow: 0px 1px 3px 1px rgba(0, 0, 0, 0.15);\n",
              "      filter: drop-shadow(0px 1px 2px rgba(0, 0, 0, 0.3));\n",
              "      fill: #FFFFFF;\n",
              "    }\n",
              "  </style>\n",
              "\n",
              "    <script>\n",
              "      const buttonEl =\n",
              "        document.querySelector('#df-abfaf18e-68d9-4bdf-87ef-d16e85d7040b button.colab-df-convert');\n",
              "      buttonEl.style.display =\n",
              "        google.colab.kernel.accessAllowed ? 'block' : 'none';\n",
              "\n",
              "      async function convertToInteractive(key) {\n",
              "        const element = document.querySelector('#df-abfaf18e-68d9-4bdf-87ef-d16e85d7040b');\n",
              "        const dataTable =\n",
              "          await google.colab.kernel.invokeFunction('convertToInteractive',\n",
              "                                                    [key], {});\n",
              "        if (!dataTable) return;\n",
              "\n",
              "        const docLinkHtml = 'Like what you see? Visit the ' +\n",
              "          '<a target=\"_blank\" href=https://colab.research.google.com/notebooks/data_table.ipynb>data table notebook</a>'\n",
              "          + ' to learn more about interactive tables.';\n",
              "        element.innerHTML = '';\n",
              "        dataTable['output_type'] = 'display_data';\n",
              "        await google.colab.output.renderOutput(dataTable, element);\n",
              "        const docLink = document.createElement('div');\n",
              "        docLink.innerHTML = docLinkHtml;\n",
              "        element.appendChild(docLink);\n",
              "      }\n",
              "    </script>\n",
              "  </div>\n",
              "\n",
              "\n",
              "<div id=\"df-2ca881bf-be55-4cda-aaf5-9aa026009c04\">\n",
              "  <button class=\"colab-df-quickchart\" onclick=\"quickchart('df-2ca881bf-be55-4cda-aaf5-9aa026009c04')\"\n",
              "            title=\"Suggest charts\"\n",
              "            style=\"display:none;\">\n",
              "\n",
              "<svg xmlns=\"http://www.w3.org/2000/svg\" height=\"24px\"viewBox=\"0 0 24 24\"\n",
              "     width=\"24px\">\n",
              "    <g>\n",
              "        <path d=\"M19 3H5c-1.1 0-2 .9-2 2v14c0 1.1.9 2 2 2h14c1.1 0 2-.9 2-2V5c0-1.1-.9-2-2-2zM9 17H7v-7h2v7zm4 0h-2V7h2v10zm4 0h-2v-4h2v4z\"/>\n",
              "    </g>\n",
              "</svg>\n",
              "  </button>\n",
              "\n",
              "<style>\n",
              "  .colab-df-quickchart {\n",
              "      --bg-color: #E8F0FE;\n",
              "      --fill-color: #1967D2;\n",
              "      --hover-bg-color: #E2EBFA;\n",
              "      --hover-fill-color: #174EA6;\n",
              "      --disabled-fill-color: #AAA;\n",
              "      --disabled-bg-color: #DDD;\n",
              "  }\n",
              "\n",
              "  [theme=dark] .colab-df-quickchart {\n",
              "      --bg-color: #3B4455;\n",
              "      --fill-color: #D2E3FC;\n",
              "      --hover-bg-color: #434B5C;\n",
              "      --hover-fill-color: #FFFFFF;\n",
              "      --disabled-bg-color: #3B4455;\n",
              "      --disabled-fill-color: #666;\n",
              "  }\n",
              "\n",
              "  .colab-df-quickchart {\n",
              "    background-color: var(--bg-color);\n",
              "    border: none;\n",
              "    border-radius: 50%;\n",
              "    cursor: pointer;\n",
              "    display: none;\n",
              "    fill: var(--fill-color);\n",
              "    height: 32px;\n",
              "    padding: 0;\n",
              "    width: 32px;\n",
              "  }\n",
              "\n",
              "  .colab-df-quickchart:hover {\n",
              "    background-color: var(--hover-bg-color);\n",
              "    box-shadow: 0 1px 2px rgba(60, 64, 67, 0.3), 0 1px 3px 1px rgba(60, 64, 67, 0.15);\n",
              "    fill: var(--button-hover-fill-color);\n",
              "  }\n",
              "\n",
              "  .colab-df-quickchart-complete:disabled,\n",
              "  .colab-df-quickchart-complete:disabled:hover {\n",
              "    background-color: var(--disabled-bg-color);\n",
              "    fill: var(--disabled-fill-color);\n",
              "    box-shadow: none;\n",
              "  }\n",
              "\n",
              "  .colab-df-spinner {\n",
              "    border: 2px solid var(--fill-color);\n",
              "    border-color: transparent;\n",
              "    border-bottom-color: var(--fill-color);\n",
              "    animation:\n",
              "      spin 1s steps(1) infinite;\n",
              "  }\n",
              "\n",
              "  @keyframes spin {\n",
              "    0% {\n",
              "      border-color: transparent;\n",
              "      border-bottom-color: var(--fill-color);\n",
              "      border-left-color: var(--fill-color);\n",
              "    }\n",
              "    20% {\n",
              "      border-color: transparent;\n",
              "      border-left-color: var(--fill-color);\n",
              "      border-top-color: var(--fill-color);\n",
              "    }\n",
              "    30% {\n",
              "      border-color: transparent;\n",
              "      border-left-color: var(--fill-color);\n",
              "      border-top-color: var(--fill-color);\n",
              "      border-right-color: var(--fill-color);\n",
              "    }\n",
              "    40% {\n",
              "      border-color: transparent;\n",
              "      border-right-color: var(--fill-color);\n",
              "      border-top-color: var(--fill-color);\n",
              "    }\n",
              "    60% {\n",
              "      border-color: transparent;\n",
              "      border-right-color: var(--fill-color);\n",
              "    }\n",
              "    80% {\n",
              "      border-color: transparent;\n",
              "      border-right-color: var(--fill-color);\n",
              "      border-bottom-color: var(--fill-color);\n",
              "    }\n",
              "    90% {\n",
              "      border-color: transparent;\n",
              "      border-bottom-color: var(--fill-color);\n",
              "    }\n",
              "  }\n",
              "</style>\n",
              "\n",
              "  <script>\n",
              "    async function quickchart(key) {\n",
              "      const quickchartButtonEl =\n",
              "        document.querySelector('#' + key + ' button');\n",
              "      quickchartButtonEl.disabled = true;  // To prevent multiple clicks.\n",
              "      quickchartButtonEl.classList.add('colab-df-spinner');\n",
              "      try {\n",
              "        const charts = await google.colab.kernel.invokeFunction(\n",
              "            'suggestCharts', [key], {});\n",
              "      } catch (error) {\n",
              "        console.error('Error during call to suggestCharts:', error);\n",
              "      }\n",
              "      quickchartButtonEl.classList.remove('colab-df-spinner');\n",
              "      quickchartButtonEl.classList.add('colab-df-quickchart-complete');\n",
              "    }\n",
              "    (() => {\n",
              "      let quickchartButtonEl =\n",
              "        document.querySelector('#df-2ca881bf-be55-4cda-aaf5-9aa026009c04 button');\n",
              "      quickchartButtonEl.style.display =\n",
              "        google.colab.kernel.accessAllowed ? 'block' : 'none';\n",
              "    })();\n",
              "  </script>\n",
              "</div>\n",
              "\n",
              "    </div>\n",
              "  </div>\n"
            ],
            "application/vnd.google.colaboratory.intrinsic+json": {
              "type": "dataframe",
              "summary": "{\n  \"name\": \"df\",\n  \"rows\": 8,\n  \"fields\": [\n    {\n      \"column\": \"Edad\",\n      \"properties\": {\n        \"dtype\": \"number\",\n        \"std\": 12.46144541395263,\n        \"min\": 5.916079783099616,\n        \"max\": 45.0,\n        \"num_unique_values\": 7,\n        \"samples\": [\n          20.0,\n          35.5,\n          40.25\n        ],\n        \"semantic_type\": \"\",\n        \"description\": \"\"\n      }\n    },\n    {\n      \"column\": \"Puntuacion\",\n      \"properties\": {\n        \"dtype\": \"number\",\n        \"std\": 31.81404507919782,\n        \"min\": 6.953984090925295,\n        \"max\": 91.0,\n        \"num_unique_values\": 8,\n        \"samples\": [\n          80.4,\n          80.5,\n          20.0\n        ],\n        \"semantic_type\": \"\",\n        \"description\": \"\"\n      }\n    },\n    {\n      \"column\": \"Ingresos\",\n      \"properties\": {\n        \"dtype\": \"number\",\n        \"std\": 23865.38355643807,\n        \"min\": 20.0,\n        \"max\": 62000.0,\n        \"num_unique_values\": 8,\n        \"samples\": [\n          52950.0,\n          52500.0,\n          20.0\n        ],\n        \"semantic_type\": \"\",\n        \"description\": \"\"\n      }\n    }\n  ]\n}"
            }
          },
          "metadata": {},
          "execution_count": 11
        }
      ]
    },
    {
      "cell_type": "code",
      "source": [
        "#¿Cuál es el promedio de edad en el conjunto de datos?\n",
        "df.Edad.mean()"
      ],
      "metadata": {
        "colab": {
          "base_uri": "https://localhost:8080/"
        },
        "id": "ekyXkINgSbKk",
        "outputId": "c6f076a3-0e11-416c-a641-bcbdac277139"
      },
      "execution_count": 10,
      "outputs": [
        {
          "output_type": "execute_result",
          "data": {
            "text/plain": [
              "35.5"
            ]
          },
          "metadata": {},
          "execution_count": 10
        }
      ]
    },
    {
      "cell_type": "code",
      "source": [
        "#La columna \"puntuación\" tiene un valor mínimo en el conjunto de datos de:\n",
        "df.Puntuacion.min()"
      ],
      "metadata": {
        "colab": {
          "base_uri": "https://localhost:8080/"
        },
        "id": "NClJgaFJSl6q",
        "outputId": "b34bfcee-afee-437b-d1a2-56f18cc3990c"
      },
      "execution_count": 12,
      "outputs": [
        {
          "output_type": "execute_result",
          "data": {
            "text/plain": [
              "68"
            ]
          },
          "metadata": {},
          "execution_count": 12
        }
      ]
    },
    {
      "cell_type": "code",
      "source": [
        "# ¿Cuántas personas en el conjunto de datos tienen una puntuación superior o igual a 80?\n",
        "num_people_high_score = len(df[df['Puntuacion'] >= 80])\n",
        "print(f\"Number of people with a score greater than or equal to 80: {num_people_high_score}\")"
      ],
      "metadata": {
        "colab": {
          "base_uri": "https://localhost:8080/"
        },
        "id": "yMJDtoBRj7TJ",
        "outputId": "7007883d-dfa7-48bc-a0e4-b7017c5d0130"
      },
      "execution_count": 22,
      "outputs": [
        {
          "output_type": "stream",
          "name": "stdout",
          "text": [
            "Number of people with a score greater than or equal to 80: 11\n"
          ]
        }
      ]
    },
    {
      "cell_type": "code",
      "source": [
        "df.loc[df.Puntuacion >= 80].count()"
      ],
      "metadata": {
        "colab": {
          "base_uri": "https://localhost:8080/",
          "height": 209
        },
        "id": "7QQ75IoTSvYF",
        "outputId": "37dd8831-c69a-417e-8e37-1c9ba0110fba"
      },
      "execution_count": 13,
      "outputs": [
        {
          "output_type": "execute_result",
          "data": {
            "text/plain": [
              "Edad                  11\n",
              "Puntuacion            11\n",
              "Ingresos              11\n",
              "Nivel_de_Educacion    11\n",
              "dtype: int64"
            ],
            "text/html": [
              "<div>\n",
              "<style scoped>\n",
              "    .dataframe tbody tr th:only-of-type {\n",
              "        vertical-align: middle;\n",
              "    }\n",
              "\n",
              "    .dataframe tbody tr th {\n",
              "        vertical-align: top;\n",
              "    }\n",
              "\n",
              "    .dataframe thead th {\n",
              "        text-align: right;\n",
              "    }\n",
              "</style>\n",
              "<table border=\"1\" class=\"dataframe\">\n",
              "  <thead>\n",
              "    <tr style=\"text-align: right;\">\n",
              "      <th></th>\n",
              "      <th>0</th>\n",
              "    </tr>\n",
              "  </thead>\n",
              "  <tbody>\n",
              "    <tr>\n",
              "      <th>Edad</th>\n",
              "      <td>11</td>\n",
              "    </tr>\n",
              "    <tr>\n",
              "      <th>Puntuacion</th>\n",
              "      <td>11</td>\n",
              "    </tr>\n",
              "    <tr>\n",
              "      <th>Ingresos</th>\n",
              "      <td>11</td>\n",
              "    </tr>\n",
              "    <tr>\n",
              "      <th>Nivel_de_Educacion</th>\n",
              "      <td>11</td>\n",
              "    </tr>\n",
              "  </tbody>\n",
              "</table>\n",
              "</div><br><label><b>dtype:</b> int64</label>"
            ]
          },
          "metadata": {},
          "execution_count": 13
        }
      ]
    },
    {
      "cell_type": "code",
      "source": [
        "# prompt: ¿Cuál es el nivel de educación más común en el conjunto de datos?\n",
        "\n",
        "# Find the most common education level\n",
        "most_common_education = df['Nivel_de_Educacion'].mode()[0]\n",
        "print(f\"The most common education level is: {most_common_education}\")"
      ],
      "metadata": {
        "colab": {
          "base_uri": "https://localhost:8080/"
        },
        "id": "fpEIftpYkqhy",
        "outputId": "f9091d3c-ccec-426c-869f-49b6343c4f99"
      },
      "execution_count": 24,
      "outputs": [
        {
          "output_type": "stream",
          "name": "stdout",
          "text": [
            "The most common education level is:  Licenciatura\n"
          ]
        }
      ]
    },
    {
      "cell_type": "code",
      "source": [
        "df.Nivel_de_Educacion.value_counts()"
      ],
      "metadata": {
        "colab": {
          "base_uri": "https://localhost:8080/",
          "height": 209
        },
        "id": "ufAc7uFeTFFd",
        "outputId": "98399774-fa88-4104-f2c4-3953bc388e39"
      },
      "execution_count": 14,
      "outputs": [
        {
          "output_type": "execute_result",
          "data": {
            "text/plain": [
              "Nivel_de_Educacion\n",
              "Licenciatura    8\n",
              "Maestría        6\n",
              "Doctorado       6\n",
              "Name: count, dtype: int64"
            ],
            "text/html": [
              "<div>\n",
              "<style scoped>\n",
              "    .dataframe tbody tr th:only-of-type {\n",
              "        vertical-align: middle;\n",
              "    }\n",
              "\n",
              "    .dataframe tbody tr th {\n",
              "        vertical-align: top;\n",
              "    }\n",
              "\n",
              "    .dataframe thead th {\n",
              "        text-align: right;\n",
              "    }\n",
              "</style>\n",
              "<table border=\"1\" class=\"dataframe\">\n",
              "  <thead>\n",
              "    <tr style=\"text-align: right;\">\n",
              "      <th></th>\n",
              "      <th>count</th>\n",
              "    </tr>\n",
              "    <tr>\n",
              "      <th>Nivel_de_Educacion</th>\n",
              "      <th></th>\n",
              "    </tr>\n",
              "  </thead>\n",
              "  <tbody>\n",
              "    <tr>\n",
              "      <th>Licenciatura</th>\n",
              "      <td>8</td>\n",
              "    </tr>\n",
              "    <tr>\n",
              "      <th>Maestría</th>\n",
              "      <td>6</td>\n",
              "    </tr>\n",
              "    <tr>\n",
              "      <th>Doctorado</th>\n",
              "      <td>6</td>\n",
              "    </tr>\n",
              "  </tbody>\n",
              "</table>\n",
              "</div><br><label><b>dtype:</b> int64</label>"
            ]
          },
          "metadata": {},
          "execution_count": 14
        }
      ]
    },
    {
      "cell_type": "markdown",
      "source": [
        "Responder las preguntas 5 A 10 usando los datos proporcionados\n",
        "\n",
        "ARCHIVO\n",
        "En el archivo encontraras las etiquetas <y_test>, los scores <y_score>  y la etiqueta predicha <y_pred> calculados usando un clasificador. Debes responder las siguientes preguntas usando la información contenida en el archivo. Los encabezados del archivo son en el mismo orden: 'Real_Label'  'Predicted_Score'   'Predicted_label'"
      ],
      "metadata": {
        "id": "gbESi8NblEFJ"
      }
    },
    {
      "cell_type": "markdown",
      "source": [
        "## predicciones_scores.data"
      ],
      "metadata": {
        "id": "dwqyYZJlTZrs"
      }
    },
    {
      "cell_type": "code",
      "source": [
        "# prompt: leer predicciones_scores.data\n",
        "\n",
        "import pandas as pd\n",
        "\n",
        "# Assuming 'predicciones_score.data' is a CSV file. Adjust the separator (sep) if needed.\n",
        "try:\n",
        "    df = pd.read_csv('https://raw.githubusercontent.com/cam2149/MachineLearningIII/refs/heads/main/predicciones_scores.data', sep=',')  # Replace ',' with the correct separator if needed\n",
        "    print(df.head())  # Display the first few rows to verify\n",
        "except FileNotFoundError:\n",
        "    print(\"Error: 'predicciones_score.data' file not found.\")\n",
        "except pd.errors.ParserError:\n",
        "    print(\"Error: Could not parse the file. Check the file format and separator.\")"
      ],
      "metadata": {
        "colab": {
          "base_uri": "https://localhost:8080/"
        },
        "id": "e-9Sic_eTZkM",
        "outputId": "b855d952-a30d-4121-dc18-0c79edd38a18"
      },
      "execution_count": 27,
      "outputs": [
        {
          "output_type": "stream",
          "name": "stdout",
          "text": [
            "   Real_Label  Predicted_Score  Predicted_label\n",
            "0           0         0.156098                0\n",
            "1           0         0.433585                0\n",
            "2           1         0.957655                1\n",
            "3           0         0.281928                0\n",
            "4           0         0.336131                0\n"
          ]
        }
      ]
    },
    {
      "cell_type": "code",
      "source": [
        "# prompt: Usando los scores proporcionados graficar la curva ROC\n",
        "\n",
        "import pandas as pd\n",
        "import matplotlib.pyplot as plt\n",
        "from sklearn.metrics import roc_curve, auc\n",
        "\n",
        "# Extract true labels and predicted scores\n",
        "y_test = df['Real_Label']\n",
        "y_score = df['Predicted_Score']\n",
        "\n",
        "# Compute ROC curve and AUC\n",
        "fpr, tpr, thresholds = roc_curve(y_test, y_score)\n",
        "roc_auc = auc(fpr, tpr)\n",
        "\n",
        "# Plot ROC curve\n",
        "plt.figure()\n",
        "plt.plot(fpr, tpr, color='darkorange', lw=2, label='ROC curve (area = %0.2f)' % roc_auc)\n",
        "plt.plot([0, 1], [0, 1], color='navy', lw=2, linestyle='--')\n",
        "plt.xlim([0.0, 1.0])\n",
        "plt.ylim([0.0, 1.05])\n",
        "plt.xlabel('False Positive Rate')\n",
        "plt.ylabel('True Positive Rate')\n",
        "plt.title('Receiver Operating Characteristic')\n",
        "plt.legend(loc=\"lower right\")\n",
        "plt.show()"
      ],
      "metadata": {
        "colab": {
          "base_uri": "https://localhost:8080/",
          "height": 472
        },
        "id": "PYylMBdtl4o7",
        "outputId": "e1b2efdc-3b79-4023-c6a0-8caaff058980"
      },
      "execution_count": 29,
      "outputs": [
        {
          "output_type": "display_data",
          "data": {
            "text/plain": [
              "<Figure size 640x480 with 1 Axes>"
            ],
            "image/png": "[encoded data removed]"
          },
          "metadata": {}
        }
      ]
    },
    {
      "cell_type": "code",
      "source": [
        "# prompt: graficar la curva ROC con los datos de df\n",
        "\n",
        "import matplotlib.pyplot as plt\n",
        "from sklearn.metrics import roc_curve, auc\n",
        "\n",
        "# Assuming 'df' contains 'y_true' (actual labels) and 'y_score' (predicted probabilities)\n",
        "# Replace 'y_true' and 'y_score' with the actual column names in your DataFrame\n",
        "\n",
        "try:\n",
        "    fpr, tpr, thresholds = roc_curve(df['Real_Label'], df['Predicted_Score']) # Replace with your column names\n",
        "    roc_auc = auc(fpr, tpr)\n",
        "\n",
        "    plt.figure()\n",
        "    plt.plot(fpr, tpr, color='blue', lw=2, label='ROC curve (area = %0.2f)' % roc_auc)\n",
        "    plt.plot([0, 1], [0, 1], color='grey', lw=2, linestyle='--')\n",
        "    plt.xlim([0.0, 1.0])\n",
        "    plt.ylim([0.0, 1.05])\n",
        "    plt.xlabel('False Positive Rate')\n",
        "    plt.ylabel('True Positive Rate')\n",
        "    plt.title('Receiver Operating Characteristic')\n",
        "    plt.legend(loc=\"lower right\")\n",
        "    plt.show()\n",
        "\n",
        "except KeyError as e:\n",
        "    print(f\"Error: Column '{e}' not found in the DataFrame. Make sure 'y_true' and 'y_score' columns exist.\")\n",
        "except Exception as e:\n",
        "    print(f\"An unexpected error occurred: {e}\")"
      ],
      "metadata": {
        "colab": {
          "base_uri": "https://localhost:8080/",
          "height": 472
        },
        "id": "kkvhNjG3T5YM",
        "outputId": "c4564746-ef67-471c-a018-758f1f1980d8"
      },
      "execution_count": 30,
      "outputs": [
        {
          "output_type": "display_data",
          "data": {
            "text/plain": [
              "<Figure size 640x480 with 1 Axes>"
            ],
            "image/png": "[encoded data removed]"
          },
          "metadata": {}
        }
      ]
    },
    {
      "cell_type": "code",
      "source": [
        "# prompt: calcular accuracy con los datos de df\n",
        "\n",
        "from sklearn.metrics import accuracy_score\n",
        "\n",
        "# Assuming 'df' contains 'Real_Label' (true labels) and a column with predicted labels\n",
        "# Replace 'Predicted_Label' with the actual column name in your DataFrame\n",
        "try:\n",
        "    accuracy = accuracy_score(df['Real_Label'], df['Predicted_label'])\n",
        "    print(f\"Accuracy: {accuracy}\")\n",
        "except KeyError as e:\n",
        "    print(f\"Error: Column '{e}' not found in the DataFrame. Make sure 'Real_Label' and 'Predicted_Label' columns exist.\")\n",
        "except Exception as e:\n",
        "    print(f\"An unexpected error occurred: {e}\")"
      ],
      "metadata": {
        "colab": {
          "base_uri": "https://localhost:8080/"
        },
        "id": "vxFhm4J0UZ7A",
        "outputId": "deed4b88-53e3-42a8-a711-b1e6f241abcd"
      },
      "execution_count": 32,
      "outputs": [
        {
          "output_type": "stream",
          "name": "stdout",
          "text": [
            "Accuracy: 0.8\n"
          ]
        }
      ]
    },
    {
      "cell_type": "code",
      "source": [
        "# prompt: calcular la metrica precision del df\n",
        "\n",
        "from sklearn.metrics import precision_score\n",
        "\n",
        "# Assuming 'df' contains 'Real_Label' (true labels) and 'Predicted_label' (predicted labels)\n",
        "try:\n",
        "    precision = precision_score(df['Real_Label'], df['Predicted_label'])\n",
        "    print(f\"Precision: {precision}\")\n",
        "except KeyError as e:\n",
        "    print(f\"Error: Column '{e}' not found in the DataFrame. Make sure 'Real_Label' and 'Predicted_label' columns exist.\")\n",
        "except Exception as e:\n",
        "    print(f\"An unexpected error occurred: {e}\")"
      ],
      "metadata": {
        "colab": {
          "base_uri": "https://localhost:8080/"
        },
        "id": "wXATAiOWVC6l",
        "outputId": "2bc167ac-6b1d-4d26-f032-054aa854f5dd"
      },
      "execution_count": 34,
      "outputs": [
        {
          "output_type": "stream",
          "name": "stdout",
          "text": [
            "Precision: 0.8936170212765957\n"
          ]
        }
      ]
    },
    {
      "cell_type": "code",
      "source": [
        "# prompt: calcular recall del df\n",
        "\n",
        "from sklearn.metrics import recall_score\n",
        "\n",
        "# Assuming 'df' contains 'Real_Label' (true labels) and 'Predicted_label' (predicted labels)\n",
        "try:\n",
        "    recall = recall_score(df['Real_Label'], df['Predicted_label'])\n",
        "    print(f\"Recall: {recall}\")\n",
        "except KeyError as e:\n",
        "    print(f\"Error: Column '{e}' not found in the DataFrame. Make sure 'Real_Label' and 'Predicted_label' columns exist.\")\n",
        "except Exception as e:\n",
        "    print(f\"An unexpected error occurred: {e}\")"
      ],
      "metadata": {
        "colab": {
          "base_uri": "https://localhost:8080/"
        },
        "id": "tjykNDEzV2-8",
        "outputId": "13e6c76c-c55d-4fb3-b2fb-da5ed3a52b21"
      },
      "execution_count": 35,
      "outputs": [
        {
          "output_type": "stream",
          "name": "stdout",
          "text": [
            "Recall: 0.6268656716417911\n"
          ]
        }
      ]
    },
    {
      "cell_type": "code",
      "source": [
        "# prompt:  El clasificador identificó correctamente más de 85% de las instancias de la clase negativa.\n",
        "\n",
        "# Assuming 'df' contains 'Real_Label' (true labels) and 'Predicted_label' (predicted labels)\n",
        "try:\n",
        "    # Filter for negative class instances (assuming 0 represents the negative class)\n",
        "    negative_instances = df[df['Real_Label'] == 0]\n",
        "\n",
        "    # Count correctly classified negative instances\n",
        "    correctly_classified_negative = len(negative_instances[negative_instances['Real_Label'] == negative_instances['Predicted_label']])\n",
        "\n",
        "    # Calculate the percentage of correctly classified negative instances\n",
        "    percentage_correct_negative = (correctly_classified_negative / len(negative_instances)) * 100\n",
        "\n",
        "    print(f\"Percentage of correctly classified negative instances: {percentage_correct_negative:.2f}%\")\n",
        "\n",
        "except KeyError as e:\n",
        "    print(f\"Error: Column '{e}' not found in the DataFrame. Make sure 'Real_Label' and 'Predicted_label' columns exist.\")\n",
        "except Exception as e:\n",
        "    print(f\"An unexpected error occurred: {e}\")"
      ],
      "metadata": {
        "colab": {
          "base_uri": "https://localhost:8080/"
        },
        "id": "76LNsPTTnEk3",
        "outputId": "407b6c62-9baf-4226-d430-557e8c40f0ff"
      },
      "execution_count": 38,
      "outputs": [
        {
          "output_type": "stream",
          "name": "stdout",
          "text": [
            "Percentage of correctly classified negative instances: 93.98%\n"
          ]
        }
      ]
    },
    {
      "cell_type": "code",
      "source": [
        "# prompt: calcular especificidad del df\n",
        "\n",
        "# Assuming 'df' contains 'Real_Label' (true labels) and 'Predicted_label' (predicted labels)\n",
        "from sklearn.metrics import confusion_matrix\n",
        "\n",
        "try:\n",
        "    tn, fp, fn, tp = confusion_matrix(df['Real_Label'], df['Predicted_label']).ravel()\n",
        "    specificity = tn / (tn + fp)\n",
        "    print(f\"Specificity: {specificity}\")\n",
        "except KeyError as e:\n",
        "    print(f\"Error: Column '{e}' not found in the DataFrame. Make sure 'Real_Label' and 'Predicted_label' columns exist.\")\n",
        "except Exception as e:\n",
        "    print(f\"An unexpected error occurred: {e}\")"
      ],
      "metadata": {
        "colab": {
          "base_uri": "https://localhost:8080/"
        },
        "id": "nvEiiYyBWvam",
        "outputId": "f4aa3e75-55d2-4721-c31f-f75caad56dce"
      },
      "execution_count": 36,
      "outputs": [
        {
          "output_type": "stream",
          "name": "stdout",
          "text": [
            "Specificity: 0.9397590361445783\n"
          ]
        }
      ]
    },
    {
      "cell_type": "code",
      "source": [
        "# prompt: Verdadero o Falso - El número de falsos negativos es mayor que el de falsos positivos.\n",
        "\n",
        "try:\n",
        "    tn, fp, fn, tp = confusion_matrix(df['Real_Label'], df['Predicted_label']).ravel()\n",
        "    print(f\"False Negatives (FN): {fn}\")\n",
        "    print(f\"False Positives (FP): {fp}\")\n",
        "    if fn > fp:\n",
        "        print(\"Verdadero: El número de falsos negativos es mayor que el de falsos positivos.\")\n",
        "    else:\n",
        "        print(\"Falso: El número de falsos negativos no es mayor que el de falsos positivos.\")\n",
        "except KeyError as e:\n",
        "    print(f\"Error: Column '{e}' not found in the DataFrame.\")\n",
        "except Exception as e:\n",
        "    print(f\"An unexpected error occurred: {e}\")"
      ],
      "metadata": {
        "colab": {
          "base_uri": "https://localhost:8080/"
        },
        "id": "54PZTsO4oe5h",
        "outputId": "b04c1c8d-cca1-48b4-bb53-e36e799fbd16"
      },
      "execution_count": 39,
      "outputs": [
        {
          "output_type": "stream",
          "name": "stdout",
          "text": [
            "False Negatives (FN): 50\n",
            "False Positives (FP): 10\n",
            "Verdadero: El número de falsos negativos es mayor que el de falsos positivos.\n"
          ]
        }
      ]
    },
    {
      "cell_type": "code",
      "source": [
        "fn > fp"
      ],
      "metadata": {
        "colab": {
          "base_uri": "https://localhost:8080/"
        },
        "id": "gj-t2uCWXfT0",
        "outputId": "33557220-6da9-4abd-988e-f99e0b5988a9"
      },
      "execution_count": 37,
      "outputs": [
        {
          "output_type": "execute_result",
          "data": {
            "text/plain": [
              "True"
            ]
          },
          "metadata": {},
          "execution_count": 37
        }
      ]
    },
    {
      "cell_type": "markdown",
      "source": [
        "#Responder las preguntas 11 A 14 usando los datos proporcionados\n",
        "El archivo contiene dos conjuntos de datos: train y test. Debe entrenar un clasificador KNN y un modelo de regresión logística para responder las siguientes preguntas.\n"
      ],
      "metadata": {
        "id": "bwYWIN7zJHAN"
      }
    },
    {
      "cell_type": "code",
      "source": [
        "# prompt: cargar data1.data\n",
        "import pandas as pd\n",
        "try:\n",
        "    df_test = pd.read_csv('https://raw.githubusercontent.com/cam2149/MachineLearningIII/refs/heads/main/dataset3/test_set.csv', sep=',') # Replace ',' with the correct separator if needed\n",
        "    print(df_test.shape) # Display the first few rows to verify\n",
        "except FileNotFoundError:\n",
        "    print(\"Error: 'data1.data' file not found.\")\n",
        "except pd.errors.ParserError:\n",
        "    print(\"Error: Could not parse the file. Check the file format and separator.\")"
      ],
      "metadata": {
        "colab": {
          "base_uri": "https://localhost:8080/"
        },
        "id": "MhuRCxpYrn5U",
        "outputId": "93689212-1c2f-4458-e6a8-5c06d3072668"
      },
      "execution_count": 40,
      "outputs": [
        {
          "output_type": "stream",
          "name": "stdout",
          "text": [
            "(300, 3)\n"
          ]
        }
      ]
    },
    {
      "cell_type": "code",
      "source": [
        "# prompt: cargar data1.data\n",
        "import pandas as pd\n",
        "try:\n",
        "    df_train = pd.read_csv('https://raw.githubusercontent.com/cam2149/MachineLearningIII/refs/heads/main/dataset3/train_set.csv', sep=',') # Replace ',' with the correct separator if needed\n",
        "    print(df_train.shape) # Display the first few rows to verify\n",
        "except FileNotFoundError:\n",
        "    print(\"Error: 'data1.data' file not found.\")\n",
        "except pd.errors.ParserError:\n",
        "    print(\"Error: Could not parse the file. Check the file format and separator.\")"
      ],
      "metadata": {
        "id": "DX3Gh5OZsEjC",
        "outputId": "f6a28e12-82fa-40fd-ac05-07e9e0693ea6",
        "colab": {
          "base_uri": "https://localhost:8080/"
        }
      },
      "execution_count": 42,
      "outputs": [
        {
          "output_type": "stream",
          "name": "stdout",
          "text": [
            "(700, 3)\n"
          ]
        }
      ]
    },
    {
      "cell_type": "code",
      "source": [
        "df_train.describe()"
      ],
      "metadata": {
        "id": "skJeeaE3sYG5",
        "outputId": "b6fb20a1-a21e-42ba-81f6-8597eec1d40f",
        "colab": {
          "base_uri": "https://localhost:8080/",
          "height": 300
        }
      },
      "execution_count": 44,
      "outputs": [
        {
          "output_type": "execute_result",
          "data": {
            "text/plain": [
              "            feat1       feat2      target\n",
              "count  700.000000  700.000000  700.000000\n",
              "mean     0.498070   -0.121027    0.395714\n",
              "std      1.113782    0.894658    0.489353\n",
              "min     -2.869693   -2.587213    0.000000\n",
              "25%     -0.258868   -0.768702    0.000000\n",
              "50%      0.474950   -0.207783    0.000000\n",
              "75%      1.215672    0.475407    1.000000\n",
              "max      4.495802    2.842864    1.000000"
            ],
            "text/html": [
              "\n",
              "  <div id=\"df-2d84c8ef-6cb1-4d84-a128-624efc09797d\" class=\"colab-df-container\">\n",
              "    <div>\n",
              "<style scoped>\n",
              "    .dataframe tbody tr th:only-of-type {\n",
              "        vertical-align: middle;\n",
              "    }\n",
              "\n",
              "    .dataframe tbody tr th {\n",
              "        vertical-align: top;\n",
              "    }\n",
              "\n",
              "    .dataframe thead th {\n",
              "        text-align: right;\n",
              "    }\n",
              "</style>\n",
              "<table border=\"1\" class=\"dataframe\">\n",
              "  <thead>\n",
              "    <tr style=\"text-align: right;\">\n",
              "      <th></th>\n",
              "      <th>feat1</th>\n",
              "      <th>feat2</th>\n",
              "      <th>target</th>\n",
              "    </tr>\n",
              "  </thead>\n",
              "  <tbody>\n",
              "    <tr>\n",
              "      <th>count</th>\n",
              "      <td>700.000000</td>\n",
              "      <td>700.000000</td>\n",
              "      <td>700.000000</td>\n",
              "    </tr>\n",
              "    <tr>\n",
              "      <th>mean</th>\n",
              "      <td>0.498070</td>\n",
              "      <td>-0.121027</td>\n",
              "      <td>0.395714</td>\n",
              "    </tr>\n",
              "    <tr>\n",
              "      <th>std</th>\n",
              "      <td>1.113782</td>\n",
              "      <td>0.894658</td>\n",
              "      <td>0.489353</td>\n",
              "    </tr>\n",
              "    <tr>\n",
              "      <th>min</th>\n",
              "      <td>-2.869693</td>\n",
              "      <td>-2.587213</td>\n",
              "      <td>0.000000</td>\n",
              "    </tr>\n",
              "    <tr>\n",
              "      <th>25%</th>\n",
              "      <td>-0.258868</td>\n",
              "      <td>-0.768702</td>\n",
              "      <td>0.000000</td>\n",
              "    </tr>\n",
              "    <tr>\n",
              "      <th>50%</th>\n",
              "      <td>0.474950</td>\n",
              "      <td>-0.207783</td>\n",
              "      <td>0.000000</td>\n",
              "    </tr>\n",
              "    <tr>\n",
              "      <th>75%</th>\n",
              "      <td>1.215672</td>\n",
              "      <td>0.475407</td>\n",
              "      <td>1.000000</td>\n",
              "    </tr>\n",
              "    <tr>\n",
              "      <th>max</th>\n",
              "      <td>4.495802</td>\n",
              "      <td>2.842864</td>\n",
              "      <td>1.000000</td>\n",
              "    </tr>\n",
              "  </tbody>\n",
              "</table>\n",
              "</div>\n",
              "    <div class=\"colab-df-buttons\">\n",
              "\n",
              "  <div class=\"colab-df-container\">\n",
              "    <button class=\"colab-df-convert\" onclick=\"convertToInteractive('df-2d84c8ef-6cb1-4d84-a128-624efc09797d')\"\n",
              "            title=\"Convert this dataframe to an interactive table.\"\n",
              "            style=\"display:none;\">\n",
              "\n",
              "  <svg xmlns=\"http://www.w3.org/2000/svg\" height=\"24px\" viewBox=\"0 -960 960 960\">\n",
              "    <path d=\"M120-120v-720h720v720H120Zm60-500h600v-160H180v160Zm220 220h160v-160H400v160Zm0 220h160v-160H400v160ZM180-400h160v-160H180v160Zm440 0h160v-160H620v160ZM180-180h160v-160H180v160Zm440 0h160v-160H620v160Z\"/>\n",
              "  </svg>\n",
              "    </button>\n",
              "\n",
              "  <style>\n",
              "    .colab-df-container {\n",
              "      display:flex;\n",
              "      gap: 12px;\n",
              "    }\n",
              "\n",
              "    .colab-df-convert {\n",
              "      background-color: #E8F0FE;\n",
              "      border: none;\n",
              "      border-radius: 50%;\n",
              "      cursor: pointer;\n",
              "      display: none;\n",
              "      fill: #1967D2;\n",
              "      height: 32px;\n",
              "      padding: 0 0 0 0;\n",
              "      width: 32px;\n",
              "    }\n",
              "\n",
              "    .colab-df-convert:hover {\n",
              "      background-color: #E2EBFA;\n",
              "      box-shadow: 0px 1px 2px rgba(60, 64, 67, 0.3), 0px 1px 3px 1px rgba(60, 64, 67, 0.15);\n",
              "      fill: #174EA6;\n",
              "    }\n",
              "\n",
              "    .colab-df-buttons div {\n",
              "      margin-bottom: 4px;\n",
              "    }\n",
              "\n",
              "    [theme=dark] .colab-df-convert {\n",
              "      background-color: #3B4455;\n",
              "      fill: #D2E3FC;\n",
              "    }\n",
              "\n",
              "    [theme=dark] .colab-df-convert:hover {\n",
              "      background-color: #434B5C;\n",
              "      box-shadow: 0px 1px 3px 1px rgba(0, 0, 0, 0.15);\n",
              "      filter: drop-shadow(0px 1px 2px rgba(0, 0, 0, 0.3));\n",
              "      fill: #FFFFFF;\n",
              "    }\n",
              "  </style>\n",
              "\n",
              "    <script>\n",
              "      const buttonEl =\n",
              "        document.querySelector('#df-2d84c8ef-6cb1-4d84-a128-624efc09797d button.colab-df-convert');\n",
              "      buttonEl.style.display =\n",
              "        google.colab.kernel.accessAllowed ? 'block' : 'none';\n",
              "\n",
              "      async function convertToInteractive(key) {\n",
              "        const element = document.querySelector('#df-2d84c8ef-6cb1-4d84-a128-624efc09797d');\n",
              "        const dataTable =\n",
              "          await google.colab.kernel.invokeFunction('convertToInteractive',\n",
              "                                                    [key], {});\n",
              "        if (!dataTable) return;\n",
              "\n",
              "        const docLinkHtml = 'Like what you see? Visit the ' +\n",
              "          '<a target=\"_blank\" href=https://colab.research.google.com/notebooks/data_table.ipynb>data table notebook</a>'\n",
              "          + ' to learn more about interactive tables.';\n",
              "        element.innerHTML = '';\n",
              "        dataTable['output_type'] = 'display_data';\n",
              "        await google.colab.output.renderOutput(dataTable, element);\n",
              "        const docLink = document.createElement('div');\n",
              "        docLink.innerHTML = docLinkHtml;\n",
              "        element.appendChild(docLink);\n",
              "      }\n",
              "    </script>\n",
              "  </div>\n",
              "\n",
              "\n",
              "<div id=\"df-d5e01695-77ec-48b8-bc35-7d8ea9c992f5\">\n",
              "  <button class=\"colab-df-quickchart\" onclick=\"quickchart('df-d5e01695-77ec-48b8-bc35-7d8ea9c992f5')\"\n",
              "            title=\"Suggest charts\"\n",
              "            style=\"display:none;\">\n",
              "\n",
              "<svg xmlns=\"http://www.w3.org/2000/svg\" height=\"24px\"viewBox=\"0 0 24 24\"\n",
              "     width=\"24px\">\n",
              "    <g>\n",
              "        <path d=\"M19 3H5c-1.1 0-2 .9-2 2v14c0 1.1.9 2 2 2h14c1.1 0 2-.9 2-2V5c0-1.1-.9-2-2-2zM9 17H7v-7h2v7zm4 0h-2V7h2v10zm4 0h-2v-4h2v4z\"/>\n",
              "    </g>\n",
              "</svg>\n",
              "  </button>\n",
              "\n",
              "<style>\n",
              "  .colab-df-quickchart {\n",
              "      --bg-color: #E8F0FE;\n",
              "      --fill-color: #1967D2;\n",
              "      --hover-bg-color: #E2EBFA;\n",
              "      --hover-fill-color: #174EA6;\n",
              "      --disabled-fill-color: #AAA;\n",
              "      --disabled-bg-color: #DDD;\n",
              "  }\n",
              "\n",
              "  [theme=dark] .colab-df-quickchart {\n",
              "      --bg-color: #3B4455;\n",
              "      --fill-color: #D2E3FC;\n",
              "      --hover-bg-color: #434B5C;\n",
              "      --hover-fill-color: #FFFFFF;\n",
              "      --disabled-bg-color: #3B4455;\n",
              "      --disabled-fill-color: #666;\n",
              "  }\n",
              "\n",
              "  .colab-df-quickchart {\n",
              "    background-color: var(--bg-color);\n",
              "    border: none;\n",
              "    border-radius: 50%;\n",
              "    cursor: pointer;\n",
              "    display: none;\n",
              "    fill: var(--fill-color);\n",
              "    height: 32px;\n",
              "    padding: 0;\n",
              "    width: 32px;\n",
              "  }\n",
              "\n",
              "  .colab-df-quickchart:hover {\n",
              "    background-color: var(--hover-bg-color);\n",
              "    box-shadow: 0 1px 2px rgba(60, 64, 67, 0.3), 0 1px 3px 1px rgba(60, 64, 67, 0.15);\n",
              "    fill: var(--button-hover-fill-color);\n",
              "  }\n",
              "\n",
              "  .colab-df-quickchart-complete:disabled,\n",
              "  .colab-df-quickchart-complete:disabled:hover {\n",
              "    background-color: var(--disabled-bg-color);\n",
              "    fill: var(--disabled-fill-color);\n",
              "    box-shadow: none;\n",
              "  }\n",
              "\n",
              "  .colab-df-spinner {\n",
              "    border: 2px solid var(--fill-color);\n",
              "    border-color: transparent;\n",
              "    border-bottom-color: var(--fill-color);\n",
              "    animation:\n",
              "      spin 1s steps(1) infinite;\n",
              "  }\n",
              "\n",
              "  @keyframes spin {\n",
              "    0% {\n",
              "      border-color: transparent;\n",
              "      border-bottom-color: var(--fill-color);\n",
              "      border-left-color: var(--fill-color);\n",
              "    }\n",
              "    20% {\n",
              "      border-color: transparent;\n",
              "      border-left-color: var(--fill-color);\n",
              "      border-top-color: var(--fill-color);\n",
              "    }\n",
              "    30% {\n",
              "      border-color: transparent;\n",
              "      border-left-color: var(--fill-color);\n",
              "      border-top-color: var(--fill-color);\n",
              "      border-right-color: var(--fill-color);\n",
              "    }\n",
              "    40% {\n",
              "      border-color: transparent;\n",
              "      border-right-color: var(--fill-color);\n",
              "      border-top-color: var(--fill-color);\n",
              "    }\n",
              "    60% {\n",
              "      border-color: transparent;\n",
              "      border-right-color: var(--fill-color);\n",
              "    }\n",
              "    80% {\n",
              "      border-color: transparent;\n",
              "      border-right-color: var(--fill-color);\n",
              "      border-bottom-color: var(--fill-color);\n",
              "    }\n",
              "    90% {\n",
              "      border-color: transparent;\n",
              "      border-bottom-color: var(--fill-color);\n",
              "    }\n",
              "  }\n",
              "</style>\n",
              "\n",
              "  <script>\n",
              "    async function quickchart(key) {\n",
              "      const quickchartButtonEl =\n",
              "        document.querySelector('#' + key + ' button');\n",
              "      quickchartButtonEl.disabled = true;  // To prevent multiple clicks.\n",
              "      quickchartButtonEl.classList.add('colab-df-spinner');\n",
              "      try {\n",
              "        const charts = await google.colab.kernel.invokeFunction(\n",
              "            'suggestCharts', [key], {});\n",
              "      } catch (error) {\n",
              "        console.error('Error during call to suggestCharts:', error);\n",
              "      }\n",
              "      quickchartButtonEl.classList.remove('colab-df-spinner');\n",
              "      quickchartButtonEl.classList.add('colab-df-quickchart-complete');\n",
              "    }\n",
              "    (() => {\n",
              "      let quickchartButtonEl =\n",
              "        document.querySelector('#df-d5e01695-77ec-48b8-bc35-7d8ea9c992f5 button');\n",
              "      quickchartButtonEl.style.display =\n",
              "        google.colab.kernel.accessAllowed ? 'block' : 'none';\n",
              "    })();\n",
              "  </script>\n",
              "</div>\n",
              "\n",
              "    </div>\n",
              "  </div>\n"
            ],
            "application/vnd.google.colaboratory.intrinsic+json": {
              "type": "dataframe",
              "summary": "{\n  \"name\": \"df_train\",\n  \"rows\": 8,\n  \"fields\": [\n    {\n      \"column\": \"feat1\",\n      \"properties\": {\n        \"dtype\": \"number\",\n        \"std\": 247.25977678500342,\n        \"min\": -2.869693366226816,\n        \"max\": 700.0,\n        \"num_unique_values\": 8,\n        \"samples\": [\n          0.49806985439520013,\n          0.4749503733390704,\n          700.0\n        ],\n        \"semantic_type\": \"\",\n        \"description\": \"\"\n      }\n    },\n    {\n      \"column\": \"feat2\",\n      \"properties\": {\n        \"dtype\": \"number\",\n        \"std\": 247.46543195552303,\n        \"min\": -2.587213040479029,\n        \"max\": 700.0,\n        \"num_unique_values\": 8,\n        \"samples\": [\n          -0.1210274655449298,\n          -0.2077826664359059,\n          700.0\n        ],\n        \"semantic_type\": \"\",\n        \"description\": \"\"\n      }\n    },\n    {\n      \"column\": \"target\",\n      \"properties\": {\n        \"dtype\": \"number\",\n        \"std\": 247.34200405485205,\n        \"min\": 0.0,\n        \"max\": 700.0,\n        \"num_unique_values\": 5,\n        \"samples\": [\n          0.39571428571428574,\n          1.0,\n          0.4893532312320275\n        ],\n        \"semantic_type\": \"\",\n        \"description\": \"\"\n      }\n    }\n  ]\n}"
            }
          },
          "metadata": {},
          "execution_count": 44
        }
      ]
    },
    {
      "cell_type": "code",
      "source": [
        "# prompt: Debe entrenar un clasificador KNN y un modelo de regresión logística\n",
        "\n",
        "from sklearn.model_selection import train_test_split\n",
        "from sklearn.neighbors import KNeighborsClassifier\n",
        "from sklearn.linear_model import LogisticRegression\n",
        "from sklearn.metrics import accuracy_score\n",
        "\n",
        "\n",
        "# Prepare the data for training\n",
        "X_train = df_train.drop('target', axis=1)  # Features\n",
        "y_train = df_train['target']  # Target variable\n",
        "X_test = df_test.drop('target', axis=1)  # Features for testing\n",
        "y_test = df_test['target']  # Target variable for testing\n",
        "\n",
        "\n",
        "# Train a KNN classifier\n",
        "knn_classifier = KNeighborsClassifier(n_neighbors=5) # You can adjust n_neighbors\n",
        "knn_classifier.fit(X_train, y_train)\n",
        "knn_predictions = knn_classifier.predict(X_test)\n",
        "knn_accuracy = accuracy_score(y_test, knn_predictions)\n",
        "print(f\"KNN Accuracy: {knn_accuracy}\")\n",
        "\n",
        "# Train a Logistic Regression model\n",
        "logistic_regression = LogisticRegression(max_iter=1000)  # You may need to adjust max_iter for convergence\n",
        "logistic_regression.fit(X_train, y_train)\n",
        "lr_predictions = logistic_regression.predict(X_test)\n",
        "lr_accuracy = accuracy_score(y_test, lr_predictions)\n",
        "print(f\"Logistic Regression Accuracy: {lr_accuracy}\")"
      ],
      "metadata": {
        "id": "OWLYXt2NsR5g",
        "outputId": "51e76fe6-c31b-412b-b3fa-73ba53e46d37",
        "colab": {
          "base_uri": "https://localhost:8080/"
        }
      },
      "execution_count": 45,
      "outputs": [
        {
          "output_type": "stream",
          "name": "stdout",
          "text": [
            "KNN Accuracy: 0.9133333333333333\n",
            "Logistic Regression Accuracy: 0.8\n"
          ]
        }
      ]
    },
    {
      "cell_type": "code",
      "source": [
        "# prompt: Verdadero o Falso - Los datos tienen igual proporción de registros (instancias) de cada clase. Son clases balanceadas.\n",
        "class_counts = df_train['target'].value_counts()\n",
        "print(class_counts)\n",
        "\n",
        "# Check if the classes are balanced (e.g., within 10% of each other)\n",
        "if class_counts.min() / class_counts.max() > 0.9:\n",
        "    print(\"Verdadero: Los datos tienen una proporción similar de registros de cada clase.\")\n",
        "else:\n",
        "    print(\"Falso: Los datos no tienen una proporción similar de registros de cada clase.\")"
      ],
      "metadata": {
        "id": "LKNNPaIisuTY",
        "outputId": "f4b3faca-ad87-4c0a-e71a-a8750a90b887",
        "colab": {
          "base_uri": "https://localhost:8080/"
        }
      },
      "execution_count": 48,
      "outputs": [
        {
          "output_type": "stream",
          "name": "stdout",
          "text": [
            "target\n",
            "0    423\n",
            "1    277\n",
            "Name: count, dtype: int64\n",
            "Falso: Los datos no tienen una proporción similar de registros de cada clase.\n"
          ]
        }
      ]
    },
    {
      "cell_type": "code",
      "source": [
        "# prompt:Identifica el mejor valor de K - vecinos y su respectivo accuracy para el clasificador KNN entre Un k [3, 5 ,7]\n",
        "\n",
        "best_k = -1\n",
        "best_accuracy = -1\n",
        "\n",
        "# Test different k values\n",
        "for k in [3, 5, 7]:  # Iterate through your desired k-values\n",
        "    knn = KNeighborsClassifier(n_neighbors=k)\n",
        "    knn.fit(X_train, y_train)\n",
        "    y_pred = knn.predict(X_test)\n",
        "    accuracy = accuracy_score(y_test, y_pred)\n",
        "\n",
        "    print(f\"k = {k}, Accuracy = {accuracy}\")\n",
        "\n",
        "    if accuracy > best_accuracy:\n",
        "        best_accuracy = accuracy\n",
        "        best_k = k\n",
        "\n",
        "print(f\"\\nBest k: {best_k}, Best Accuracy: {best_accuracy}\")"
      ],
      "metadata": {
        "id": "9C9ghnS7tufK",
        "outputId": "96738689-b218-4b5f-eb34-4ee020356fbf",
        "colab": {
          "base_uri": "https://localhost:8080/"
        }
      },
      "execution_count": 50,
      "outputs": [
        {
          "output_type": "stream",
          "name": "stdout",
          "text": [
            "k = 3, Accuracy = 0.9233333333333333\n",
            "k = 5, Accuracy = 0.9133333333333333\n",
            "k = 7, Accuracy = 0.9166666666666666\n",
            "\n",
            "Best k: 3, Best Accuracy: 0.9233333333333333\n"
          ]
        }
      ]
    },
    {
      "cell_type": "code",
      "source": [
        "# prompt: Usando K=7, el número de falsos positivos es:\n",
        "from sklearn.metrics import confusion_matrix\n",
        "\n",
        "knn = KNeighborsClassifier(n_neighbors=7)\n",
        "knn.fit(X_train, y_train)\n",
        "y_pred_k7 = knn.predict(X_test)\n",
        "\n",
        "tn, fp, fn, tp = confusion_matrix(y_test, y_pred_k7).ravel()\n",
        "print(f\"Using K=7, the number of false positives is: {fp}\")"
      ],
      "metadata": {
        "id": "o_FWGkkqud6R",
        "outputId": "2b2cb73b-cf8f-4710-bdc0-5c148342ca3f",
        "colab": {
          "base_uri": "https://localhost:8080/"
        }
      },
      "execution_count": 51,
      "outputs": [
        {
          "output_type": "stream",
          "name": "stdout",
          "text": [
            "Using K=7, the number of false positives is: 8\n"
          ]
        }
      ]
    },
    {
      "cell_type": "code",
      "source": [
        "# prompt: Usando un modelo de regresión logística, selecciona los parámetros del modelo que más se aproximen a su estimación. No es necesario normalizar los datos:\n",
        "# Coeficientes, Intercepto\n",
        "\n",
        "# Train a Logistic Regression model\n",
        "logistic_regression = LogisticRegression(max_iter=1000)\n",
        "logistic_regression.fit(X_train, y_train)\n",
        "\n",
        "# Print the coefficients and intercept\n",
        "print(\"Coefficients:\", logistic_regression.coef_)\n",
        "print(\"Intercept:\", logistic_regression.intercept_)"
      ],
      "metadata": {
        "id": "poVYEGhYu7Sh",
        "outputId": "4ad5557f-45c7-493b-d032-f69bc8eea21f",
        "colab": {
          "base_uri": "https://localhost:8080/"
        }
      },
      "execution_count": 53,
      "outputs": [
        {
          "output_type": "stream",
          "name": "stdout",
          "text": [
            "Coefficients: [[-0.32542512  1.43318533]]\n",
            "Intercept: [-0.12096481]\n"
          ]
        }
      ]
    },
    {
      "cell_type": "markdown",
      "source": [
        "#Responder las siguientes preguntas 15 a 22  usando los datos del siguiente enlace:\n"
      ],
      "metadata": {
        "id": "NZH2IaLKvyHm"
      }
    },
    {
      "cell_type": "code",
      "source": [
        "# prompt: cargar data1.data\n",
        "import pandas as pd\n",
        "try:\n",
        "    df = pd.read_csv('/content/datos_FEAT_SEL.data', sep=',') # Replace ',' with the correct separator if needed\n",
        "    print(df.shape) # Display the first few rows to verify\n",
        "except FileNotFoundError:\n",
        "    print(\"Error: 'datos_FEAT_SEL.data' file not found.\")\n",
        "except pd.errors.ParserError:\n",
        "    print(\"Error: Could not parse the file. Check the file format and separator.\")"
      ],
      "metadata": {
        "outputId": "f385f21a-3637-4c0f-b092-bf67248e2b16",
        "colab": {
          "base_uri": "https://localhost:8080/"
        },
        "id": "6T4qXTOBw12k"
      },
      "execution_count": 119,
      "outputs": [
        {
          "output_type": "stream",
          "name": "stdout",
          "text": [
            "(10000, 1296)\n"
          ]
        }
      ]
    },
    {
      "cell_type": "code",
      "source": [
        "df.describe()"
      ],
      "metadata": {
        "id": "rqN7bnSkxNuf",
        "outputId": "d59d6d99-7b77-4ca7-85a2-c11c1affdb0b",
        "colab": {
          "base_uri": "https://localhost:8080/",
          "height": 349
        }
      },
      "execution_count": 57,
      "outputs": [
        {
          "output_type": "execute_result",
          "data": {
            "text/plain": [
              "       CNT_CHILDREN  AMT_INCOME_TOTAL    AMT_CREDIT    AMT_ANNUITY  \\\n",
              "count  10000.000000      1.000000e+04  1.000000e+04   10000.000000   \n",
              "mean       0.416300      1.674489e+05  6.007531e+05   27088.010550   \n",
              "std        0.722251      9.422260e+04  4.032643e+05   14384.946154   \n",
              "min        0.000000      2.565000e+04  4.500000e+04    2596.500000   \n",
              "25%        0.000000      1.125000e+05  2.700000e+05   16434.000000   \n",
              "50%        0.000000      1.440000e+05  5.130000e+05   24970.500000   \n",
              "75%        1.000000      2.025000e+05  8.100000e+05   34636.500000   \n",
              "max        7.000000      1.935000e+06  2.961000e+06  135936.000000   \n",
              "\n",
              "       AMT_GOODS_PRICE  REGION_POPULATION_RELATIVE    DAYS_BIRTH  \\\n",
              "count     9.993000e+03                10000.000000  10000.000000   \n",
              "mean      5.403851e+05                    0.020898 -16025.273100   \n",
              "std       3.708941e+05                    0.013909   4340.528828   \n",
              "min       4.500000e+04                    0.000938 -25160.000000   \n",
              "25%       2.385000e+05                    0.010006 -19595.250000   \n",
              "50%       4.500000e+05                    0.018850 -15783.500000   \n",
              "75%       6.840000e+05                    0.028663 -12388.750000   \n",
              "max       2.961000e+06                    0.072508  -7705.000000   \n",
              "\n",
              "       DAYS_EMPLOYED  DAYS_REGISTRATION  DAYS_ID_PUBLISH  ...  \\\n",
              "count    10000.00000       10000.000000      10000.00000  ...   \n",
              "mean     62821.78480       -4986.483900      -2983.38080  ...   \n",
              "std     140464.31594        3540.591931       1512.51078  ...   \n",
              "min     -15632.00000      -20981.000000      -6228.00000  ...   \n",
              "25%      -2818.25000       -7491.250000      -4297.00000  ...   \n",
              "50%      -1224.00000       -4478.000000      -3227.00000  ...   \n",
              "75%       -286.75000       -2004.000000      -1707.00000  ...   \n",
              "max     365243.00000           0.000000          0.00000  ...   \n",
              "\n",
              "       client_credit_CNT_DRAWINGS_OTHER_CURRENT_max_min  \\\n",
              "count                                       1925.000000   \n",
              "mean                                           0.109091   \n",
              "std                                            0.380864   \n",
              "min                                            0.000000   \n",
              "25%                                            0.000000   \n",
              "50%                                            0.000000   \n",
              "75%                                            0.000000   \n",
              "max                                            5.000000   \n",
              "\n",
              "       previous_loans_CNT_PAYMENT_sum  \\\n",
              "count                     9515.000000   \n",
              "mean                        61.418287   \n",
              "std                         75.359647   \n",
              "min                          0.000000   \n",
              "25%                         18.000000   \n",
              "50%                         36.000000   \n",
              "75%                         78.000000   \n",
              "max                       1252.000000   \n",
              "\n",
              "       previous_loans_NFLAG_LAST_APPL_IN_DAY_mean  \\\n",
              "count                                 9515.000000   \n",
              "mean                                     0.997547   \n",
              "std                                      0.023459   \n",
              "min                                      0.454545   \n",
              "25%                                      1.000000   \n",
              "50%                                      1.000000   \n",
              "75%                                      1.000000   \n",
              "max                                      1.000000   \n",
              "\n",
              "       client_credit_AMT_INST_MIN_REGULARITY_max_mean  \\\n",
              "count                                     2797.000000   \n",
              "mean                                      7097.791624   \n",
              "std                                       8525.691828   \n",
              "min                                          0.000000   \n",
              "25%                                          0.000000   \n",
              "50%                                       4698.450000   \n",
              "75%                                       9503.190000   \n",
              "max                                      47344.815000   \n",
              "\n",
              "       client_credit_SK_DPD_DEF_max_min  \\\n",
              "count                       2797.000000   \n",
              "mean                           0.430819   \n",
              "std                            2.312640   \n",
              "min                            0.000000   \n",
              "25%                            0.000000   \n",
              "50%                            0.000000   \n",
              "75%                            0.000000   \n",
              "max                           60.000000   \n",
              "\n",
              "       client_credit_AMT_DRAWINGS_POS_CURRENT_sum_mean  \\\n",
              "count                                     2.797000e+03   \n",
              "mean                                      8.127504e+04   \n",
              "std                                       3.727027e+05   \n",
              "min                                       0.000000e+00   \n",
              "25%                                       0.000000e+00   \n",
              "50%                                       0.000000e+00   \n",
              "75%                                       4.857840e+04   \n",
              "max                                       1.446357e+07   \n",
              "\n",
              "       client_credit_AMT_PAYMENT_CURRENT_max_sum  \\\n",
              "count                               2.797000e+03   \n",
              "mean                                3.294789e+06   \n",
              "std                                 6.212823e+06   \n",
              "min                                 0.000000e+00   \n",
              "25%                                 0.000000e+00   \n",
              "50%                                 7.100460e+05   \n",
              "75%                                 4.387500e+06   \n",
              "max                                 1.704000e+08   \n",
              "\n",
              "       client_installments_AMT_INSTALMENT_mean_sum  \\\n",
              "count                                 9.532000e+03   \n",
              "mean                                  6.767073e+05   \n",
              "std                                   9.316769e+05   \n",
              "min                                   9.450000e-01   \n",
              "25%                                   1.309939e+05   \n",
              "50%                                   3.192946e+05   \n",
              "75%                                   8.288479e+05   \n",
              "max                                   1.475254e+07   \n",
              "\n",
              "       client_credit_AMT_DRAWINGS_CURRENT_min_mean  \\\n",
              "count                                  2797.000000   \n",
              "mean                                    507.801019   \n",
              "std                                    6485.513595   \n",
              "min                                       0.000000   \n",
              "25%                                       0.000000   \n",
              "50%                                       0.000000   \n",
              "75%                                       0.000000   \n",
              "max                                  223554.645000   \n",
              "\n",
              "       previous_loans_NAME_GOODS_CATEGORY_Computers_count_norm  \n",
              "count                                        9515.000000        \n",
              "mean                                            0.083986        \n",
              "std                                             0.200241        \n",
              "min                                             0.000000        \n",
              "25%                                             0.000000        \n",
              "50%                                             0.000000        \n",
              "75%                                             0.000000        \n",
              "max                                             1.000000        \n",
              "\n",
              "[8 rows x 1280 columns]"
            ],
            "text/html": [
              "\n",
              "  <div id=\"df-309a53f7-1f7c-4bc0-8aa5-3bc9f1b31673\" class=\"colab-df-container\">\n",
              "    <div>\n",
              "<style scoped>\n",
              "    .dataframe tbody tr th:only-of-type {\n",
              "        vertical-align: middle;\n",
              "    }\n",
              "\n",
              "    .dataframe tbody tr th {\n",
              "        vertical-align: top;\n",
              "    }\n",
              "\n",
              "    .dataframe thead th {\n",
              "        text-align: right;\n",
              "    }\n",
              "</style>\n",
              "<table border=\"1\" class=\"dataframe\">\n",
              "  <thead>\n",
              "    <tr style=\"text-align: right;\">\n",
              "      <th></th>\n",
              "      <th>CNT_CHILDREN</th>\n",
              "      <th>AMT_INCOME_TOTAL</th>\n",
              "      <th>AMT_CREDIT</th>\n",
              "      <th>AMT_ANNUITY</th>\n",
              "      <th>AMT_GOODS_PRICE</th>\n",
              "      <th>REGION_POPULATION_RELATIVE</th>\n",
              "      <th>DAYS_BIRTH</th>\n",
              "      <th>DAYS_EMPLOYED</th>\n",
              "      <th>DAYS_REGISTRATION</th>\n",
              "      <th>DAYS_ID_PUBLISH</th>\n",
              "      <th>...</th>\n",
              "      <th>client_credit_CNT_DRAWINGS_OTHER_CURRENT_max_min</th>\n",
              "      <th>previous_loans_CNT_PAYMENT_sum</th>\n",
              "      <th>previous_loans_NFLAG_LAST_APPL_IN_DAY_mean</th>\n",
              "      <th>client_credit_AMT_INST_MIN_REGULARITY_max_mean</th>\n",
              "      <th>client_credit_SK_DPD_DEF_max_min</th>\n",
              "      <th>client_credit_AMT_DRAWINGS_POS_CURRENT_sum_mean</th>\n",
              "      <th>client_credit_AMT_PAYMENT_CURRENT_max_sum</th>\n",
              "      <th>client_installments_AMT_INSTALMENT_mean_sum</th>\n",
              "      <th>client_credit_AMT_DRAWINGS_CURRENT_min_mean</th>\n",
              "      <th>previous_loans_NAME_GOODS_CATEGORY_Computers_count_norm</th>\n",
              "    </tr>\n",
              "  </thead>\n",
              "  <tbody>\n",
              "    <tr>\n",
              "      <th>count</th>\n",
              "      <td>10000.000000</td>\n",
              "      <td>1.000000e+04</td>\n",
              "      <td>1.000000e+04</td>\n",
              "      <td>10000.000000</td>\n",
              "      <td>9.993000e+03</td>\n",
              "      <td>10000.000000</td>\n",
              "      <td>10000.000000</td>\n",
              "      <td>10000.00000</td>\n",
              "      <td>10000.000000</td>\n",
              "      <td>10000.00000</td>\n",
              "      <td>...</td>\n",
              "      <td>1925.000000</td>\n",
              "      <td>9515.000000</td>\n",
              "      <td>9515.000000</td>\n",
              "      <td>2797.000000</td>\n",
              "      <td>2797.000000</td>\n",
              "      <td>2.797000e+03</td>\n",
              "      <td>2.797000e+03</td>\n",
              "      <td>9.532000e+03</td>\n",
              "      <td>2797.000000</td>\n",
              "      <td>9515.000000</td>\n",
              "    </tr>\n",
              "    <tr>\n",
              "      <th>mean</th>\n",
              "      <td>0.416300</td>\n",
              "      <td>1.674489e+05</td>\n",
              "      <td>6.007531e+05</td>\n",
              "      <td>27088.010550</td>\n",
              "      <td>5.403851e+05</td>\n",
              "      <td>0.020898</td>\n",
              "      <td>-16025.273100</td>\n",
              "      <td>62821.78480</td>\n",
              "      <td>-4986.483900</td>\n",
              "      <td>-2983.38080</td>\n",
              "      <td>...</td>\n",
              "      <td>0.109091</td>\n",
              "      <td>61.418287</td>\n",
              "      <td>0.997547</td>\n",
              "      <td>7097.791624</td>\n",
              "      <td>0.430819</td>\n",
              "      <td>8.127504e+04</td>\n",
              "      <td>3.294789e+06</td>\n",
              "      <td>6.767073e+05</td>\n",
              "      <td>507.801019</td>\n",
              "      <td>0.083986</td>\n",
              "    </tr>\n",
              "    <tr>\n",
              "      <th>std</th>\n",
              "      <td>0.722251</td>\n",
              "      <td>9.422260e+04</td>\n",
              "      <td>4.032643e+05</td>\n",
              "      <td>14384.946154</td>\n",
              "      <td>3.708941e+05</td>\n",
              "      <td>0.013909</td>\n",
              "      <td>4340.528828</td>\n",
              "      <td>140464.31594</td>\n",
              "      <td>3540.591931</td>\n",
              "      <td>1512.51078</td>\n",
              "      <td>...</td>\n",
              "      <td>0.380864</td>\n",
              "      <td>75.359647</td>\n",
              "      <td>0.023459</td>\n",
              "      <td>8525.691828</td>\n",
              "      <td>2.312640</td>\n",
              "      <td>3.727027e+05</td>\n",
              "      <td>6.212823e+06</td>\n",
              "      <td>9.316769e+05</td>\n",
              "      <td>6485.513595</td>\n",
              "      <td>0.200241</td>\n",
              "    </tr>\n",
              "    <tr>\n",
              "      <th>min</th>\n",
              "      <td>0.000000</td>\n",
              "      <td>2.565000e+04</td>\n",
              "      <td>4.500000e+04</td>\n",
              "      <td>2596.500000</td>\n",
              "      <td>4.500000e+04</td>\n",
              "      <td>0.000938</td>\n",
              "      <td>-25160.000000</td>\n",
              "      <td>-15632.00000</td>\n",
              "      <td>-20981.000000</td>\n",
              "      <td>-6228.00000</td>\n",
              "      <td>...</td>\n",
              "      <td>0.000000</td>\n",
              "      <td>0.000000</td>\n",
              "      <td>0.454545</td>\n",
              "      <td>0.000000</td>\n",
              "      <td>0.000000</td>\n",
              "      <td>0.000000e+00</td>\n",
              "      <td>0.000000e+00</td>\n",
              "      <td>9.450000e-01</td>\n",
              "      <td>0.000000</td>\n",
              "      <td>0.000000</td>\n",
              "    </tr>\n",
              "    <tr>\n",
              "      <th>25%</th>\n",
              "      <td>0.000000</td>\n",
              "      <td>1.125000e+05</td>\n",
              "      <td>2.700000e+05</td>\n",
              "      <td>16434.000000</td>\n",
              "      <td>2.385000e+05</td>\n",
              "      <td>0.010006</td>\n",
              "      <td>-19595.250000</td>\n",
              "      <td>-2818.25000</td>\n",
              "      <td>-7491.250000</td>\n",
              "      <td>-4297.00000</td>\n",
              "      <td>...</td>\n",
              "      <td>0.000000</td>\n",
              "      <td>18.000000</td>\n",
              "      <td>1.000000</td>\n",
              "      <td>0.000000</td>\n",
              "      <td>0.000000</td>\n",
              "      <td>0.000000e+00</td>\n",
              "      <td>0.000000e+00</td>\n",
              "      <td>1.309939e+05</td>\n",
              "      <td>0.000000</td>\n",
              "      <td>0.000000</td>\n",
              "    </tr>\n",
              "    <tr>\n",
              "      <th>50%</th>\n",
              "      <td>0.000000</td>\n",
              "      <td>1.440000e+05</td>\n",
              "      <td>5.130000e+05</td>\n",
              "      <td>24970.500000</td>\n",
              "      <td>4.500000e+05</td>\n",
              "      <td>0.018850</td>\n",
              "      <td>-15783.500000</td>\n",
              "      <td>-1224.00000</td>\n",
              "      <td>-4478.000000</td>\n",
              "      <td>-3227.00000</td>\n",
              "      <td>...</td>\n",
              "      <td>0.000000</td>\n",
              "      <td>36.000000</td>\n",
              "      <td>1.000000</td>\n",
              "      <td>4698.450000</td>\n",
              "      <td>0.000000</td>\n",
              "      <td>0.000000e+00</td>\n",
              "      <td>7.100460e+05</td>\n",
              "      <td>3.192946e+05</td>\n",
              "      <td>0.000000</td>\n",
              "      <td>0.000000</td>\n",
              "    </tr>\n",
              "    <tr>\n",
              "      <th>75%</th>\n",
              "      <td>1.000000</td>\n",
              "      <td>2.025000e+05</td>\n",
              "      <td>8.100000e+05</td>\n",
              "      <td>34636.500000</td>\n",
              "      <td>6.840000e+05</td>\n",
              "      <td>0.028663</td>\n",
              "      <td>-12388.750000</td>\n",
              "      <td>-286.75000</td>\n",
              "      <td>-2004.000000</td>\n",
              "      <td>-1707.00000</td>\n",
              "      <td>...</td>\n",
              "      <td>0.000000</td>\n",
              "      <td>78.000000</td>\n",
              "      <td>1.000000</td>\n",
              "      <td>9503.190000</td>\n",
              "      <td>0.000000</td>\n",
              "      <td>4.857840e+04</td>\n",
              "      <td>4.387500e+06</td>\n",
              "      <td>8.288479e+05</td>\n",
              "      <td>0.000000</td>\n",
              "      <td>0.000000</td>\n",
              "    </tr>\n",
              "    <tr>\n",
              "      <th>max</th>\n",
              "      <td>7.000000</td>\n",
              "      <td>1.935000e+06</td>\n",
              "      <td>2.961000e+06</td>\n",
              "      <td>135936.000000</td>\n",
              "      <td>2.961000e+06</td>\n",
              "      <td>0.072508</td>\n",
              "      <td>-7705.000000</td>\n",
              "      <td>365243.00000</td>\n",
              "      <td>0.000000</td>\n",
              "      <td>0.00000</td>\n",
              "      <td>...</td>\n",
              "      <td>5.000000</td>\n",
              "      <td>1252.000000</td>\n",
              "      <td>1.000000</td>\n",
              "      <td>47344.815000</td>\n",
              "      <td>60.000000</td>\n",
              "      <td>1.446357e+07</td>\n",
              "      <td>1.704000e+08</td>\n",
              "      <td>1.475254e+07</td>\n",
              "      <td>223554.645000</td>\n",
              "      <td>1.000000</td>\n",
              "    </tr>\n",
              "  </tbody>\n",
              "</table>\n",
              "<p>8 rows × 1280 columns</p>\n",
              "</div>\n",
              "    <div class=\"colab-df-buttons\">\n",
              "\n",
              "  <div class=\"colab-df-container\">\n",
              "    <button class=\"colab-df-convert\" onclick=\"convertToInteractive('df-309a53f7-1f7c-4bc0-8aa5-3bc9f1b31673')\"\n",
              "            title=\"Convert this dataframe to an interactive table.\"\n",
              "            style=\"display:none;\">\n",
              "\n",
              "  <svg xmlns=\"http://www.w3.org/2000/svg\" height=\"24px\" viewBox=\"0 -960 960 960\">\n",
              "    <path d=\"M120-120v-720h720v720H120Zm60-500h600v-160H180v160Zm220 220h160v-160H400v160Zm0 220h160v-160H400v160ZM180-400h160v-160H180v160Zm440 0h160v-160H620v160ZM180-180h160v-160H180v160Zm440 0h160v-160H620v160Z\"/>\n",
              "  </svg>\n",
              "    </button>\n",
              "\n",
              "  <style>\n",
              "    .colab-df-container {\n",
              "      display:flex;\n",
              "      gap: 12px;\n",
              "    }\n",
              "\n",
              "    .colab-df-convert {\n",
              "      background-color: #E8F0FE;\n",
              "      border: none;\n",
              "      border-radius: 50%;\n",
              "      cursor: pointer;\n",
              "      display: none;\n",
              "      fill: #1967D2;\n",
              "      height: 32px;\n",
              "      padding: 0 0 0 0;\n",
              "      width: 32px;\n",
              "    }\n",
              "\n",
              "    .colab-df-convert:hover {\n",
              "      background-color: #E2EBFA;\n",
              "      box-shadow: 0px 1px 2px rgba(60, 64, 67, 0.3), 0px 1px 3px 1px rgba(60, 64, 67, 0.15);\n",
              "      fill: #174EA6;\n",
              "    }\n",
              "\n",
              "    .colab-df-buttons div {\n",
              "      margin-bottom: 4px;\n",
              "    }\n",
              "\n",
              "    [theme=dark] .colab-df-convert {\n",
              "      background-color: #3B4455;\n",
              "      fill: #D2E3FC;\n",
              "    }\n",
              "\n",
              "    [theme=dark] .colab-df-convert:hover {\n",
              "      background-color: #434B5C;\n",
              "      box-shadow: 0px 1px 3px 1px rgba(0, 0, 0, 0.15);\n",
              "      filter: drop-shadow(0px 1px 2px rgba(0, 0, 0, 0.3));\n",
              "      fill: #FFFFFF;\n",
              "    }\n",
              "  </style>\n",
              "\n",
              "    <script>\n",
              "      const buttonEl =\n",
              "        document.querySelector('#df-309a53f7-1f7c-4bc0-8aa5-3bc9f1b31673 button.colab-df-convert');\n",
              "      buttonEl.style.display =\n",
              "        google.colab.kernel.accessAllowed ? 'block' : 'none';\n",
              "\n",
              "      async function convertToInteractive(key) {\n",
              "        const element = document.querySelector('#df-309a53f7-1f7c-4bc0-8aa5-3bc9f1b31673');\n",
              "        const dataTable =\n",
              "          await google.colab.kernel.invokeFunction('convertToInteractive',\n",
              "                                                    [key], {});\n",
              "        if (!dataTable) return;\n",
              "\n",
              "        const docLinkHtml = 'Like what you see? Visit the ' +\n",
              "          '<a target=\"_blank\" href=https://colab.research.google.com/notebooks/data_table.ipynb>data table notebook</a>'\n",
              "          + ' to learn more about interactive tables.';\n",
              "        element.innerHTML = '';\n",
              "        dataTable['output_type'] = 'display_data';\n",
              "        await google.colab.output.renderOutput(dataTable, element);\n",
              "        const docLink = document.createElement('div');\n",
              "        docLink.innerHTML = docLinkHtml;\n",
              "        element.appendChild(docLink);\n",
              "      }\n",
              "    </script>\n",
              "  </div>\n",
              "\n",
              "\n",
              "<div id=\"df-d23df368-38a9-4fac-b81f-51e6ad26958c\">\n",
              "  <button class=\"colab-df-quickchart\" onclick=\"quickchart('df-d23df368-38a9-4fac-b81f-51e6ad26958c')\"\n",
              "            title=\"Suggest charts\"\n",
              "            style=\"display:none;\">\n",
              "\n",
              "<svg xmlns=\"http://www.w3.org/2000/svg\" height=\"24px\"viewBox=\"0 0 24 24\"\n",
              "     width=\"24px\">\n",
              "    <g>\n",
              "        <path d=\"M19 3H5c-1.1 0-2 .9-2 2v14c0 1.1.9 2 2 2h14c1.1 0 2-.9 2-2V5c0-1.1-.9-2-2-2zM9 17H7v-7h2v7zm4 0h-2V7h2v10zm4 0h-2v-4h2v4z\"/>\n",
              "    </g>\n",
              "</svg>\n",
              "  </button>\n",
              "\n",
              "<style>\n",
              "  .colab-df-quickchart {\n",
              "      --bg-color: #E8F0FE;\n",
              "      --fill-color: #1967D2;\n",
              "      --hover-bg-color: #E2EBFA;\n",
              "      --hover-fill-color: #174EA6;\n",
              "      --disabled-fill-color: #AAA;\n",
              "      --disabled-bg-color: #DDD;\n",
              "  }\n",
              "\n",
              "  [theme=dark] .colab-df-quickchart {\n",
              "      --bg-color: #3B4455;\n",
              "      --fill-color: #D2E3FC;\n",
              "      --hover-bg-color: #434B5C;\n",
              "      --hover-fill-color: #FFFFFF;\n",
              "      --disabled-bg-color: #3B4455;\n",
              "      --disabled-fill-color: #666;\n",
              "  }\n",
              "\n",
              "  .colab-df-quickchart {\n",
              "    background-color: var(--bg-color);\n",
              "    border: none;\n",
              "    border-radius: 50%;\n",
              "    cursor: pointer;\n",
              "    display: none;\n",
              "    fill: var(--fill-color);\n",
              "    height: 32px;\n",
              "    padding: 0;\n",
              "    width: 32px;\n",
              "  }\n",
              "\n",
              "  .colab-df-quickchart:hover {\n",
              "    background-color: var(--hover-bg-color);\n",
              "    box-shadow: 0 1px 2px rgba(60, 64, 67, 0.3), 0 1px 3px 1px rgba(60, 64, 67, 0.15);\n",
              "    fill: var(--button-hover-fill-color);\n",
              "  }\n",
              "\n",
              "  .colab-df-quickchart-complete:disabled,\n",
              "  .colab-df-quickchart-complete:disabled:hover {\n",
              "    background-color: var(--disabled-bg-color);\n",
              "    fill: var(--disabled-fill-color);\n",
              "    box-shadow: none;\n",
              "  }\n",
              "\n",
              "  .colab-df-spinner {\n",
              "    border: 2px solid var(--fill-color);\n",
              "    border-color: transparent;\n",
              "    border-bottom-color: var(--fill-color);\n",
              "    animation:\n",
              "      spin 1s steps(1) infinite;\n",
              "  }\n",
              "\n",
              "  @keyframes spin {\n",
              "    0% {\n",
              "      border-color: transparent;\n",
              "      border-bottom-color: var(--fill-color);\n",
              "      border-left-color: var(--fill-color);\n",
              "    }\n",
              "    20% {\n",
              "      border-color: transparent;\n",
              "      border-left-color: var(--fill-color);\n",
              "      border-top-color: var(--fill-color);\n",
              "    }\n",
              "    30% {\n",
              "      border-color: transparent;\n",
              "      border-left-color: var(--fill-color);\n",
              "      border-top-color: var(--fill-color);\n",
              "      border-right-color: var(--fill-color);\n",
              "    }\n",
              "    40% {\n",
              "      border-color: transparent;\n",
              "      border-right-color: var(--fill-color);\n",
              "      border-top-color: var(--fill-color);\n",
              "    }\n",
              "    60% {\n",
              "      border-color: transparent;\n",
              "      border-right-color: var(--fill-color);\n",
              "    }\n",
              "    80% {\n",
              "      border-color: transparent;\n",
              "      border-right-color: var(--fill-color);\n",
              "      border-bottom-color: var(--fill-color);\n",
              "    }\n",
              "    90% {\n",
              "      border-color: transparent;\n",
              "      border-bottom-color: var(--fill-color);\n",
              "    }\n",
              "  }\n",
              "</style>\n",
              "\n",
              "  <script>\n",
              "    async function quickchart(key) {\n",
              "      const quickchartButtonEl =\n",
              "        document.querySelector('#' + key + ' button');\n",
              "      quickchartButtonEl.disabled = true;  // To prevent multiple clicks.\n",
              "      quickchartButtonEl.classList.add('colab-df-spinner');\n",
              "      try {\n",
              "        const charts = await google.colab.kernel.invokeFunction(\n",
              "            'suggestCharts', [key], {});\n",
              "      } catch (error) {\n",
              "        console.error('Error during call to suggestCharts:', error);\n",
              "      }\n",
              "      quickchartButtonEl.classList.remove('colab-df-spinner');\n",
              "      quickchartButtonEl.classList.add('colab-df-quickchart-complete');\n",
              "    }\n",
              "    (() => {\n",
              "      let quickchartButtonEl =\n",
              "        document.querySelector('#df-d23df368-38a9-4fac-b81f-51e6ad26958c button');\n",
              "      quickchartButtonEl.style.display =\n",
              "        google.colab.kernel.accessAllowed ? 'block' : 'none';\n",
              "    })();\n",
              "  </script>\n",
              "</div>\n",
              "\n",
              "    </div>\n",
              "  </div>\n"
            ],
            "application/vnd.google.colaboratory.intrinsic+json": {
              "type": "dataframe"
            }
          },
          "metadata": {},
          "execution_count": 57
        }
      ]
    },
    {
      "cell_type": "code",
      "source": [
        "df.info()"
      ],
      "metadata": {
        "id": "q50F2S1G4ycB",
        "outputId": "d0a4ae0b-740e-4268-eb63-fdb79eded2a1",
        "colab": {
          "base_uri": "https://localhost:8080/"
        }
      },
      "execution_count": 105,
      "outputs": [
        {
          "output_type": "stream",
          "name": "stdout",
          "text": [
            "<class 'pandas.core.frame.DataFrame'>\n",
            "RangeIndex: 10000 entries, 0 to 9999\n",
            "Columns: 1296 entries, NAME_CONTRACT_TYPE to previous_loans_NAME_GOODS_CATEGORY_Computers_count_norm\n",
            "dtypes: float64(1240), int64(40), object(16)\n",
            "memory usage: 98.9+ MB\n"
          ]
        }
      ]
    },
    {
      "cell_type": "code",
      "source": [
        "df.columns"
      ],
      "metadata": {
        "id": "vfVW1C61xXO6",
        "outputId": "0d13c7e2-d6b6-485c-8e89-4ff45f510044",
        "colab": {
          "base_uri": "https://localhost:8080/"
        }
      },
      "execution_count": 59,
      "outputs": [
        {
          "output_type": "execute_result",
          "data": {
            "text/plain": [
              "Index(['NAME_CONTRACT_TYPE', 'CODE_GENDER', 'FLAG_OWN_CAR', 'FLAG_OWN_REALTY',\n",
              "       'CNT_CHILDREN', 'AMT_INCOME_TOTAL', 'AMT_CREDIT', 'AMT_ANNUITY',\n",
              "       'AMT_GOODS_PRICE', 'NAME_TYPE_SUITE',\n",
              "       ...\n",
              "       'client_credit_CNT_DRAWINGS_OTHER_CURRENT_max_min',\n",
              "       'previous_loans_CNT_PAYMENT_sum',\n",
              "       'previous_loans_NFLAG_LAST_APPL_IN_DAY_mean',\n",
              "       'client_credit_AMT_INST_MIN_REGULARITY_max_mean',\n",
              "       'client_credit_SK_DPD_DEF_max_min',\n",
              "       'client_credit_AMT_DRAWINGS_POS_CURRENT_sum_mean',\n",
              "       'client_credit_AMT_PAYMENT_CURRENT_max_sum',\n",
              "       'client_installments_AMT_INSTALMENT_mean_sum',\n",
              "       'client_credit_AMT_DRAWINGS_CURRENT_min_mean',\n",
              "       'previous_loans_NAME_GOODS_CATEGORY_Computers_count_norm'],\n",
              "      dtype='object', length=1296)"
            ]
          },
          "metadata": {},
          "execution_count": 59
        }
      ]
    },
    {
      "cell_type": "code",
      "source": [
        "# prompt: FALSO o VERDADERO: La base de datos está balanceada\n",
        "\n",
        "class_counts = df['TARGET'].value_counts()\n",
        "print(class_counts)\n",
        "\n",
        "# Check if the classes are balanced (e.g., within 10% of each other)\n",
        "if class_counts.min() / class_counts.max() > 0.9:\n",
        "    print(\"Verdadero: Los datos tienen una proporción similar de registros de cada clase.\")\n",
        "else:\n",
        "    print(\"Falso: Los datos no tienen una proporción similar de registros de cada clase.\")"
      ],
      "metadata": {
        "id": "8SnzcOoZxIA6",
        "outputId": "eaa77133-f731-47d2-f02f-954522ca6817",
        "colab": {
          "base_uri": "https://localhost:8080/"
        }
      },
      "execution_count": 65,
      "outputs": [
        {
          "output_type": "stream",
          "name": "stdout",
          "text": [
            "TARGET\n",
            "0    9225\n",
            "1     775\n",
            "Name: count, dtype: int64\n",
            "Falso: Los datos no tienen una proporción similar de registros de cada clase.\n"
          ]
        }
      ]
    },
    {
      "cell_type": "code",
      "source": [
        "# prompt: El número de variables, sin incluir la variable objetivo, es:\n",
        "num_variables = len(df.columns) - 1  # Subtract 1 for the target variable\n",
        "print(f\"El número de variables, sin incluir la variable objetivo, es: {num_variables}\")"
      ],
      "metadata": {
        "id": "CNLhLwefx_Pm",
        "outputId": "c45421bf-be50-4b41-b71f-c2bdec8d71c9",
        "colab": {
          "base_uri": "https://localhost:8080/"
        }
      },
      "execution_count": 66,
      "outputs": [
        {
          "output_type": "stream",
          "name": "stdout",
          "text": [
            "El número de variables, sin incluir la variable objetivo, es: 1295\n"
          ]
        }
      ]
    },
    {
      "cell_type": "code",
      "source": [
        "# prompt: Del dataset df Separar la columna \"TARGET\" y eliminar dicha columna del dataframe original.\n",
        "# Identiifica cuantas varibles existen antes de  aplicar one-hot-ecoding\n",
        "# Crea una funcion para Aplicar one-hot-ecoding  usando sklearn.preprocessing.OneHotEncoder a las variables categóricas de base de datos.\n",
        "# el dtypenumber son float64, int64\n",
        "# Cuenta el  nuevo número de variables\n",
        "\n",
        "from sklearn.preprocessing import OneHotEncoder\n",
        "# prompt: cargar data1.data\n",
        "import pandas as pd\n",
        "try:\n",
        "    df = pd.read_csv('/content/datos_FEAT_SEL.data', sep=',') # Replace ',' with the correct separator if needed\n",
        "    print(df.shape) # Display the first few rows to verify\n",
        "except FileNotFoundError:\n",
        "    print(\"Error: 'datos_FEAT_SEL.data' file not found.\")\n",
        "except pd.errors.ParserError:\n",
        "    print(\"Error: Could not parse the file. Check the file format and separator.\")\n",
        "# Separar la columna \"TARGET\"\n",
        "y = df[\"TARGET\"]\n",
        "df = df.drop(columns=[\"TARGET\"])\n",
        "\n",
        "# Identificar el número de variables antes de One-Hot Encoding\n",
        "num_variables_before = len(df.columns)\n",
        "print(f\"Número de variables antes de One-Hot Encoding: {num_variables_before}\")\n",
        "\n",
        "# Función para aplicar One-Hot Encoding\n",
        "def aplicar_one_hot_encoding(df):\n",
        "    # Crear una instancia del codificador One-Hot Encoder\n",
        "    encoder = OneHotEncoder(handle_unknown=\"ignore\", sparse_output=False, drop='if_binary')  # sparse=False para obtener un array denso\n",
        "\n",
        "    # Obtener las columnas categóricas (asumiendo que son de tipo 'object')\n",
        "    categorical_cols = df.select_dtypes(include=[\"object\"]).columns\n",
        "\n",
        "    if len(categorical_cols) == 0:\n",
        "        print(\"No hay columnas categóricas para codificar.\")\n",
        "        return df\n",
        "\n",
        "    # Ajustar y transformar las columnas categóricas\n",
        "    encoded_data = encoder.fit_transform(df[categorical_cols])\n",
        "\n",
        "    # Crear un nuevo DataFrame con las características codificadas\n",
        "    encoded_df = pd.DataFrame(encoded_data, columns=encoder.get_feature_names_out(categorical_cols))\n",
        "\n",
        "    # Eliminar las columnas categóricas originales\n",
        "    df = df.drop(columns=categorical_cols)\n",
        "\n",
        "    # Concatenar el DataFrame original con las características codificadas\n",
        "    df = pd.concat([df, encoded_df], axis=1)\n",
        "    return df\n",
        "\n",
        "# Aplicar One-Hot Encoding al DataFrame\n",
        "df = aplicar_one_hot_encoding(df)\n",
        "\n",
        "# Contar el nuevo número de variables\n",
        "num_variables_after = len(df.columns)\n",
        "print(f\"Número de variables después de One-Hot Encoding: {num_variables_after}\")"
      ],
      "metadata": {
        "id": "1EFB0sNeyRZY",
        "outputId": "d43f8f7c-90da-4752-f398-727dbf7d28b9",
        "colab": {
          "base_uri": "https://localhost:8080/"
        }
      },
      "execution_count": 126,
      "outputs": [
        {
          "output_type": "stream",
          "name": "stdout",
          "text": [
            "(10000, 1296)\n",
            "Número de variables antes de One-Hot Encoding: 1295\n",
            "Número de variables después de One-Hot Encoding: 1416\n"
          ]
        }
      ]
    },
    {
      "cell_type": "code",
      "source": [
        "# prompt: Para dataframe df Calcular la matriz de correlación. Esta matriz mide la correlación entre todos los pares de variables. Debes eliminar una de las variables (de cada par evaluado) cuando el valor absoluto de la correlación supere 0.9. El número de variables resultantes es:\n",
        "\n",
        "import pandas as pd\n",
        "\n",
        "# Assuming df is already loaded as in the provided code\n",
        "# ... (previous code to load df)\n",
        "\n",
        "corr_matrix = df.corr()\n",
        "#print(corr_matrix)\n",
        "\n",
        "columns_to_drop = set()\n",
        "for i in range(len(corr_matrix.columns)):\n",
        "  for j in range(i):\n",
        "    if abs(corr_matrix.iloc[i, j]) > 0.9:\n",
        "      colname = corr_matrix.columns[i]\n",
        "      columns_to_drop.add(colname)\n",
        "\n",
        "df_reduced = df.drop(columns=list(columns_to_drop))\n",
        "\n",
        "num_variables_resultantes = len(df_reduced.columns)\n",
        "print(f\"El número de variables resultantes es: {num_variables_resultantes}\")"
      ],
      "metadata": {
        "id": "BOGYjhsy9YV0",
        "outputId": "46866cfa-a7a3-4104-a693-4e797dbbf019",
        "colab": {
          "base_uri": "https://localhost:8080/"
        }
      },
      "execution_count": 128,
      "outputs": [
        {
          "output_type": "stream",
          "name": "stdout",
          "text": [
            "El número de variables resultantes es: 881\n"
          ]
        }
      ]
    },
    {
      "cell_type": "code",
      "source": [
        "# prompt: cargar data1.data\n",
        "import pandas as pd\n",
        "try:\n",
        "    df_data1 = pd.read_csv('data1.data', sep=',') # Replace ',' with the correct separator if needed\n",
        "    print(df_data1.shape) # Display the first few rows to verify\n",
        "except FileNotFoundError:\n",
        "    print(\"Error: 'data1.data' file not found.\")\n",
        "except pd.errors.ParserError:\n",
        "    print(\"Error: Could not parse the file. Check the file format and separator.\")"
      ],
      "metadata": {
        "id": "-D3YlocwI8Tf"
      },
      "execution_count": null,
      "outputs": []
    },
    {
      "cell_type": "code",
      "source": [
        "df_data1.describe()"
      ],
      "metadata": {
        "id": "jdYeasRfKEy5"
      },
      "execution_count": null,
      "outputs": []
    },
    {
      "cell_type": "code",
      "source": [
        "from sklearn.cluster import KMeans\n",
        "import numpy as np\n",
        "import matplotlib.pyplot as plt\n",
        "\n",
        "inertia = []\n",
        "K = range(1, 10)  # Test k values from 1 to 9\n",
        "for k in K:\n",
        "    kmeanModel = KMeans(n_clusters=k, random_state=0)\n",
        "    kmeanModel.fit(df_data1)\n",
        "    inertia.append(kmeanModel.inertia_)\n",
        "\n",
        "plt.figure(figsize=(10, 5))\n",
        "plt.plot(K, inertia, 'bx-')\n",
        "plt.xlabel('k')\n",
        "plt.ylabel('Inertia')\n",
        "plt.title('Metodo del codo')\n",
        "plt.show()"
      ],
      "metadata": {
        "id": "Tk0pBn2zJQfV"
      },
      "execution_count": null,
      "outputs": []
    },
    {
      "cell_type": "code",
      "source": [
        "kmeanModel = KMeans(n_clusters=5, random_state=0)\n",
        "kmeanModel.fit(df_data1)\n",
        "y_pred = kmeanModel.predict(df_data1)"
      ],
      "metadata": {
        "id": "1MmuW9MNxcFu"
      },
      "execution_count": null,
      "outputs": []
    },
    {
      "cell_type": "code",
      "source": [
        "from sklearn.decomposition import PCA\n",
        "\n",
        "# PCA\n",
        "pca = PCA(n_components=2)\n",
        "X_pca = pca.fit_transform(df_data1)\n",
        "\n",
        "plt.figure(figsize=(8, 6))\n",
        "plt.scatter(X_pca[:, 0], X_pca[:, 1], c=y_pred, cmap='viridis')\n",
        "plt.title('PCA')\n",
        "plt.xlabel('PC1')\n",
        "plt.ylabel('PC2')\n",
        "plt.show()"
      ],
      "metadata": {
        "id": "Bl93JSy7JlH6"
      },
      "execution_count": null,
      "outputs": []
    }
  ]
}